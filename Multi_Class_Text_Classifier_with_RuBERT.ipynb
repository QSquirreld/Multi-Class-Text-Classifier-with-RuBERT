{
  "cells": [
    {
      "cell_type": "markdown",
      "metadata": {
        "id": "Zw2l-gafT1Uf"
      },
      "source": [
        "## Задачи:\n",
        "Обучить модель https://huggingface.co/cointegrated/rubert-tiny2 на задаче мультиклассовой классификации текстов.\n",
        "\n",
        "1. Обучить классификатор с cls_pooling и mean_pooling.\n",
        "2. Посчитать метрики: F1-Score, Precision, Recall.\n",
        "3. Сравнить метрики полученные при использовании разных стратегий пулинга."
      ]
    },
    {
      "cell_type": "markdown",
      "metadata": {
        "id": "95VgzvQ7UEJE"
      },
      "source": [
        "## Установка и импорт библиотек"
      ]
    },
    {
      "cell_type": "code",
      "execution_count": null,
      "metadata": {
        "colab": {
          "base_uri": "https://localhost:8080/"
        },
        "collapsed": true,
        "id": "Q95-z8SfTISV",
        "outputId": "d8980860-e51a-406d-f017-c9a28c2abff4"
      },
      "outputs": [
        {
          "name": "stdout",
          "output_type": "stream",
          "text": [
            "Requirement already satisfied: datasets in /usr/local/lib/python3.12/dist-packages (4.0.0)\n",
            "Requirement already satisfied: filelock in /usr/local/lib/python3.12/dist-packages (from datasets) (3.19.1)\n",
            "Requirement already satisfied: numpy>=1.17 in /usr/local/lib/python3.12/dist-packages (from datasets) (2.0.2)\n",
            "Requirement already satisfied: pyarrow>=15.0.0 in /usr/local/lib/python3.12/dist-packages (from datasets) (18.1.0)\n",
            "Requirement already satisfied: dill<0.3.9,>=0.3.0 in /usr/local/lib/python3.12/dist-packages (from datasets) (0.3.8)\n",
            "Requirement already satisfied: pandas in /usr/local/lib/python3.12/dist-packages (from datasets) (2.2.2)\n",
            "Requirement already satisfied: requests>=2.32.2 in /usr/local/lib/python3.12/dist-packages (from datasets) (2.32.4)\n",
            "Requirement already satisfied: tqdm>=4.66.3 in /usr/local/lib/python3.12/dist-packages (from datasets) (4.67.1)\n",
            "Requirement already satisfied: xxhash in /usr/local/lib/python3.12/dist-packages (from datasets) (3.5.0)\n",
            "Requirement already satisfied: multiprocess<0.70.17 in /usr/local/lib/python3.12/dist-packages (from datasets) (0.70.16)\n",
            "Requirement already satisfied: fsspec<=2025.3.0,>=2023.1.0 in /usr/local/lib/python3.12/dist-packages (from fsspec[http]<=2025.3.0,>=2023.1.0->datasets) (2025.3.0)\n",
            "Requirement already satisfied: huggingface-hub>=0.24.0 in /usr/local/lib/python3.12/dist-packages (from datasets) (0.34.4)\n",
            "Requirement already satisfied: packaging in /usr/local/lib/python3.12/dist-packages (from datasets) (25.0)\n",
            "Requirement already satisfied: pyyaml>=5.1 in /usr/local/lib/python3.12/dist-packages (from datasets) (6.0.2)\n",
            "Requirement already satisfied: aiohttp!=4.0.0a0,!=4.0.0a1 in /usr/local/lib/python3.12/dist-packages (from fsspec[http]<=2025.3.0,>=2023.1.0->datasets) (3.12.15)\n",
            "Requirement already satisfied: typing-extensions>=3.7.4.3 in /usr/local/lib/python3.12/dist-packages (from huggingface-hub>=0.24.0->datasets) (4.15.0)\n",
            "Requirement already satisfied: hf-xet<2.0.0,>=1.1.3 in /usr/local/lib/python3.12/dist-packages (from huggingface-hub>=0.24.0->datasets) (1.1.9)\n",
            "Requirement already satisfied: charset_normalizer<4,>=2 in /usr/local/lib/python3.12/dist-packages (from requests>=2.32.2->datasets) (3.4.3)\n",
            "Requirement already satisfied: idna<4,>=2.5 in /usr/local/lib/python3.12/dist-packages (from requests>=2.32.2->datasets) (3.10)\n",
            "Requirement already satisfied: urllib3<3,>=1.21.1 in /usr/local/lib/python3.12/dist-packages (from requests>=2.32.2->datasets) (2.5.0)\n",
            "Requirement already satisfied: certifi>=2017.4.17 in /usr/local/lib/python3.12/dist-packages (from requests>=2.32.2->datasets) (2025.8.3)\n",
            "Requirement already satisfied: python-dateutil>=2.8.2 in /usr/local/lib/python3.12/dist-packages (from pandas->datasets) (2.9.0.post0)\n",
            "Requirement already satisfied: pytz>=2020.1 in /usr/local/lib/python3.12/dist-packages (from pandas->datasets) (2025.2)\n",
            "Requirement already satisfied: tzdata>=2022.7 in /usr/local/lib/python3.12/dist-packages (from pandas->datasets) (2025.2)\n",
            "Requirement already satisfied: aiohappyeyeballs>=2.5.0 in /usr/local/lib/python3.12/dist-packages (from aiohttp!=4.0.0a0,!=4.0.0a1->fsspec[http]<=2025.3.0,>=2023.1.0->datasets) (2.6.1)\n",
            "Requirement already satisfied: aiosignal>=1.4.0 in /usr/local/lib/python3.12/dist-packages (from aiohttp!=4.0.0a0,!=4.0.0a1->fsspec[http]<=2025.3.0,>=2023.1.0->datasets) (1.4.0)\n",
            "Requirement already satisfied: attrs>=17.3.0 in /usr/local/lib/python3.12/dist-packages (from aiohttp!=4.0.0a0,!=4.0.0a1->fsspec[http]<=2025.3.0,>=2023.1.0->datasets) (25.3.0)\n",
            "Requirement already satisfied: frozenlist>=1.1.1 in /usr/local/lib/python3.12/dist-packages (from aiohttp!=4.0.0a0,!=4.0.0a1->fsspec[http]<=2025.3.0,>=2023.1.0->datasets) (1.7.0)\n",
            "Requirement already satisfied: multidict<7.0,>=4.5 in /usr/local/lib/python3.12/dist-packages (from aiohttp!=4.0.0a0,!=4.0.0a1->fsspec[http]<=2025.3.0,>=2023.1.0->datasets) (6.6.4)\n",
            "Requirement already satisfied: propcache>=0.2.0 in /usr/local/lib/python3.12/dist-packages (from aiohttp!=4.0.0a0,!=4.0.0a1->fsspec[http]<=2025.3.0,>=2023.1.0->datasets) (0.3.2)\n",
            "Requirement already satisfied: yarl<2.0,>=1.17.0 in /usr/local/lib/python3.12/dist-packages (from aiohttp!=4.0.0a0,!=4.0.0a1->fsspec[http]<=2025.3.0,>=2023.1.0->datasets) (1.20.1)\n",
            "Requirement already satisfied: six>=1.5 in /usr/local/lib/python3.12/dist-packages (from python-dateutil>=2.8.2->pandas->datasets) (1.17.0)\n"
          ]
        }
      ],
      "source": [
        "!pip install datasets"
      ]
    },
    {
      "cell_type": "code",
      "execution_count": null,
      "metadata": {
        "id": "5xyYRLr1UKHr"
      },
      "outputs": [],
      "source": [
        "import torch\n",
        "from torch.utils.data import TensorDataset\n",
        "from transformers import AutoModel, AutoTokenizer\n",
        "from tqdm import tqdm\n",
        "import pandas as pd\n",
        "\n",
        "from sklearn.model_selection import train_test_split\n",
        "from sklearn.metrics import accuracy_score, precision_score, recall_score, f1_score, classification_report\n",
        "\n",
        "from datasets import load_dataset, DatasetDict\n",
        "from collections import Counter\n",
        "\n",
        "import matplotlib.pyplot as plt\n",
        "import seaborn as sns"
      ]
    },
    {
      "cell_type": "markdown",
      "metadata": {
        "id": "m07haXeDV62z"
      },
      "source": [
        "## Загрузка и подготовка данных"
      ]
    },
    {
      "cell_type": "code",
      "execution_count": null,
      "metadata": {
        "colab": {
          "base_uri": "https://localhost:8080/",
          "height": 113,
          "referenced_widgets": [
            "9d8a46532e9a48679f2113a7653f5188",
            "7cfb7ab6aae04821b36a7a96773df795",
            "f3bd6ed75f4a4cef94a2c2cee1fad909",
            "564285d20877484d8758771821d2d23f",
            "f9ed85a15c9740e493788136340cdf4f",
            "204505310296460bb12cc15d7153dc70",
            "77363e7ff1744226aa61500dd5c187e1",
            "4fb4708c4a76455fa662b86c22500280",
            "7224721bd60141bdbc75e6600aa740c3",
            "f9a2e72eeb0e43d38c4ddab7ccc75859",
            "7da3e5cd8a614ad29ac86dbb3eea72e4",
            "3c2cffbcfc424504aba2b70539e2d1a7",
            "f8c5c93946d74b83981fe5e25a369374",
            "fdc03541c3b742188ceb721e11f8ce6b",
            "cfbd7af72d124881b119431636a5159a",
            "1b63c49a3ee5450f8841be606cb2f4c6",
            "4c6c4d8563514054853de6112bda4a03",
            "ebefc08a679e4dbdb52bdc88462869ef",
            "07aa85a53a134cdb9053f35ee4fda66f",
            "f908d5cbd31345d986d9d1187ddb1d29",
            "6d3312d9a5c643249810f8e1184dc635",
            "6484f9f581bf438b83d565b5e08b7457",
            "a62b4db9389e4814aea83c543e9da8db",
            "a149882b47664d908d64db9ea91faeff",
            "9f016b0cd4b64449bbcd190d5ccf6c45",
            "e66efb9334164a94ae9109f74043a17a",
            "342a4bc83fa84c7a9ab7849da2c76b33",
            "64012d237cf04d7785766851910b7f28",
            "fd6b3038edc84e99bf982bfd2c0d5e6e",
            "d534bc42df694ec9b06e016cc3a6ea4f",
            "59fdcac243124524b6a6750997c4fb37",
            "6795039a30a74348bf6cb096de50d455",
            "6ab0269442df45b4a2dff06bcc91f246"
          ]
        },
        "id": "vilx4SwKV8Vu",
        "outputId": "c2ba8fd2-eafc-4282-a70c-f873f499f10c"
      },
      "outputs": [
        {
          "data": {
            "application/vnd.jupyter.widget-view+json": {
              "model_id": "9d8a46532e9a48679f2113a7653f5188",
              "version_major": 2,
              "version_minor": 0
            },
            "text/plain": [
              "README.md: 0.00B [00:00, ?B/s]"
            ]
          },
          "metadata": {},
          "output_type": "display_data"
        },
        {
          "data": {
            "application/vnd.jupyter.widget-view+json": {
              "model_id": "3c2cffbcfc424504aba2b70539e2d1a7",
              "version_major": 2,
              "version_minor": 0
            },
            "text/plain": [
              "kinopoisk.jsonl:   0%|          | 0.00/143M [00:00<?, ?B/s]"
            ]
          },
          "metadata": {},
          "output_type": "display_data"
        },
        {
          "data": {
            "application/vnd.jupyter.widget-view+json": {
              "model_id": "a62b4db9389e4814aea83c543e9da8db",
              "version_major": 2,
              "version_minor": 0
            },
            "text/plain": [
              "Generating train split:   0%|          | 0/36591 [00:00<?, ? examples/s]"
            ]
          },
          "metadata": {},
          "output_type": "display_data"
        }
      ],
      "source": [
        "ds = load_dataset(\"blinoff/kinopoisk\")"
      ]
    },
    {
      "cell_type": "code",
      "execution_count": null,
      "metadata": {
        "colab": {
          "base_uri": "https://localhost:8080/"
        },
        "id": "AWLMMJrpXHzj",
        "outputId": "afaa0c63-f5a8-4263-e3f8-a1552176086d"
      },
      "outputs": [
        {
          "data": {
            "text/plain": [
              "DatasetDict({\n",
              "    train: Dataset({\n",
              "        features: ['part', 'movie_name', 'review_id', 'author', 'date', 'title', 'grade3', 'grade10', 'content'],\n",
              "        num_rows: 36591\n",
              "    })\n",
              "})"
            ]
          },
          "execution_count": 6,
          "metadata": {},
          "output_type": "execute_result"
        }
      ],
      "source": [
        "ds"
      ]
    },
    {
      "cell_type": "code",
      "execution_count": null,
      "metadata": {
        "colab": {
          "base_uri": "https://localhost:8080/"
        },
        "id": "xIdxhqBlWWMD",
        "outputId": "ee77b741-c102-435b-e0f3-e20231787a34"
      },
      "outputs": [
        {
          "data": {
            "text/plain": [
              "False"
            ]
          },
          "execution_count": 7,
          "metadata": {},
          "output_type": "execute_result"
        }
      ],
      "source": [
        "None in ds['train']['content']"
      ]
    },
    {
      "cell_type": "code",
      "execution_count": null,
      "metadata": {
        "colab": {
          "base_uri": "https://localhost:8080/"
        },
        "id": "jDgCB6KFV_fe",
        "outputId": "336681aa-a2ad-44c0-ccf2-49651b29e25b"
      },
      "outputs": [
        {
          "data": {
            "text/plain": [
              "{'part': 'top250',\n",
              " 'movie_name': 'Блеф (1976)',\n",
              " 'review_id': '17144',\n",
              " 'author': 'Come Back',\n",
              " 'date': datetime.datetime(2011, 9, 24, 0, 0),\n",
              " 'title': 'Плакали наши денежки ©',\n",
              " 'grade3': 'Good',\n",
              " 'grade10': '10',\n",
              " 'content': '\\n\"Блеф»\\xa0—\\xa0одна из\\xa0моих самых любимых комедий.\\n\\nЭтот фильм я\\xa0наверно смотрел раз\\xa0сто, нет\\xa0я конечно блефую, я\\xa0видел его\\xa0куда больше. Не\\xa0могу не\\xa0выразить своё восхищение главными действующими лицами этого фильма. Начну с\\xa0Адриано Челентано для\\xa0которого как\\xa0я считаю это\\xa0лучшая роль в\\xa0кино. Великолепный актёр, неплохой певец, странно что\\xa0на его\\xa0родине в\\xa0Италии его\\xa0песни мало кто\\xa0слушает. Ну\\xa0я думаю что\\xa0и итальянцы и\\xa0французы привыкли к\\xa0тому, что\\xa0у нас\\xa0до сих\\xa0их актёры популярней чем\\xa0даже на\\xa0своей родине. Да, такой вот\\xa0парадокс. Челентано конечно профессионал своего дела, комик с\\xa0серьёзным выражением лица. Он\\xa0смешон ещё\\xa0и потому, что\\xa0одновременно так\\xa0серъёзен. Адриано браво!\\n\\nА\\xa0теперь несколько слов об\\xa0Энтони Куине. Да\\xa0тот самый горбун из\\xa0Нотр-дама. Собор Парижской Богоматери, оригинальная версия, кто\\xa0не смотрел рекомендую. С\\xa0ним как-то приключилась одна интересная история. На\\xa0съёмках одного из\\xa0своих фильмов он\\xa0то ли\\xa0сломал, то\\xa0ли подвихнул ногу, а\\xa0роль требовала от\\xa0него чтобы в\\xa0одной из\\xa0сцен он\\xa0кружился с\\xa0дамой в\\xa0танце. И\\xa0он вместе со\\xa0съёмочным коллективом вышел из\\xa0этого положения. Они\\xa0сделали вращающеюся платформу, которая создавала видимость того, что\\xa0он весь в\\xa0ритме танца. Вот\\xa0такая вот\\xa0история, к\\xa0слову об\\xa0этом замечательном актёре.\\n\\nНу\\xa0и теперь сам\\xa0фильм, жанр которой можно смело обозвать авантюрой. Комедийной авантюрой. Некая Белль Дьюк, весьма влиятельная дама, пытается освободить своего старого знакомого авантюриста Филиппа Бенга, у\\xa0которого с\\xa0ней давние счёты. Но\\xa0вместо него на\\xa0свободе оказывается другой комбинатор-аферист по\\xa0имени Феликс. И\\xa0чтобы не\\xa0быть битым головорезами Белль Дьюк, он\\xa0уже сам\\xa0разрабатывает план побега Бэнга. После того как\\xa0они встречаются череда смешных сцен заставит зрителя разразиться шквальным смехом. В\\xa0их умений блефовать, им\\xa0просто нет\\xa0равных. Главное правило чтобы блеф сработал, надо самому в\\xa0него поверить. Помимо всего этого они\\xa0ещё и\\xa0соревнуются в\\xa0стратегий блефа. Некоторые сцены их\\xa0обмана запомнились мне\\xa0надолго, особенно сцена в\\xa0магазине тканей: \\n\\n\\xa0—\\xa0Привет старина. Так\\xa0тебя выпустили из\\xa0лепрозория?\\n\\xa0—\\xa0Не совсем, я\\xa0оттуда сбежал.\\n\\nНу или\\xa0финальная сцена, которую можно охарактеризовать тремя словами; смех сквозь слёзы.\\n\\nВ\\xa0завершении скажу, что\\xa0это великолепное кино можно смотреть и\\xa0пересматривать очень много раз, и\\xa0оно не\\xa0потеряет своего шарма и\\xa0обаяния.\\n\\n10 из\\xa010'}"
            ]
          },
          "execution_count": 8,
          "metadata": {},
          "output_type": "execute_result"
        }
      ],
      "source": [
        "ds['train'][0]"
      ]
    },
    {
      "cell_type": "markdown",
      "metadata": {
        "id": "C03ORwhFWCye"
      },
      "source": [
        "Для оценки по десятибальной шкале **для классификации преведем все значения к integer** в диапазоне от 1 до 10."
      ]
    },
    {
      "cell_type": "code",
      "execution_count": null,
      "metadata": {
        "colab": {
          "base_uri": "https://localhost:8080/",
          "height": 49,
          "referenced_widgets": [
            "760ec8f89de64eedac15c5468c217bd9",
            "b50cd230566842969dc2fe602bb38fb2",
            "eafef009badf450e99e680435b0297e8",
            "127e13cdc8f14bf08d41f3c08fbc489d",
            "2bf18a9942c74330814bc941e8352623",
            "085c6f277bc64ccd997eacab483dd0f1",
            "b4ce1e93305a4ae799ccf3e5d2667c81",
            "e1f89b97f0364545b3ed2ff2e2ebc3e8",
            "3c1867fa704c441a98d8ef4f19b48030",
            "f4bd8c3bacb34675a8686be0c6215c2e",
            "e4f2e8f94adf4822a76d856207da98bc"
          ]
        },
        "id": "5PjTdohpWDPm",
        "outputId": "80a701f5-dbe8-48b3-a407-a05906e713ed"
      },
      "outputs": [
        {
          "data": {
            "application/vnd.jupyter.widget-view+json": {
              "model_id": "760ec8f89de64eedac15c5468c217bd9",
              "version_major": 2,
              "version_minor": 0
            },
            "text/plain": [
              "Map:   0%|          | 0/36591 [00:00<?, ? examples/s]"
            ]
          },
          "metadata": {},
          "output_type": "display_data"
        }
      ],
      "source": [
        "def standardize_column(p):\n",
        "    p['grade10'] = int(round(float(p['grade10'])))\n",
        "    p['grade10'] = 0 if p['grade10'] < 0 else p['grade10']\n",
        "    p['grade10'] = 10 if p['grade10'] > 10 else p['grade10']\n",
        "    return p\n",
        "\n",
        "ds['train'] = ds['train'].map(standardize_column)"
      ]
    },
    {
      "cell_type": "code",
      "execution_count": null,
      "metadata": {
        "colab": {
          "base_uri": "https://localhost:8080/"
        },
        "id": "RNYacfOjWXZr",
        "outputId": "1fa81755-a432-4de2-8975-e14ed3b7e7f6"
      },
      "outputs": [
        {
          "data": {
            "text/plain": [
              "Counter({10: 13484,\n",
              "         0: 13342,\n",
              "         7: 1031,\n",
              "         9: 2954,\n",
              "         8: 1965,\n",
              "         5: 636,\n",
              "         1: 865,\n",
              "         6: 739,\n",
              "         2: 553,\n",
              "         4: 506,\n",
              "         3: 516})"
            ]
          },
          "execution_count": 10,
          "metadata": {},
          "output_type": "execute_result"
        }
      ],
      "source": [
        "Counter(ds['train']['grade10'])"
      ]
    },
    {
      "cell_type": "code",
      "execution_count": null,
      "metadata": {
        "id": "vwfTU3GZWZAn"
      },
      "outputs": [],
      "source": [
        "ds = ds.remove_columns(['part', 'movie_name', 'review_id', 'author', 'date',  'grade3', 'title'])"
      ]
    },
    {
      "cell_type": "code",
      "execution_count": null,
      "metadata": {
        "id": "A44oUG32WdaM"
      },
      "outputs": [],
      "source": [
        "review_lens = [len(str(t)) for t in ds['train']['content']]"
      ]
    },
    {
      "cell_type": "markdown",
      "metadata": {
        "id": "neT9f1RqDeN-"
      },
      "source": [
        "**Распределение длин примеров**"
      ]
    },
    {
      "cell_type": "code",
      "execution_count": null,
      "metadata": {
        "colab": {
          "base_uri": "https://localhost:8080/",
          "height": 445
        },
        "id": "9PFVGQtpWkMk",
        "outputId": "1e3e45f7-ae7a-45d5-f295-13c28f1fd92c"
      },
      "outputs": [
        {
          "data": {
            "image/png": "[encoded data removed]",
            "text/plain": [
              "<Figure size 1000x500 with 1 Axes>"
            ]
          },
          "metadata": {},
          "output_type": "display_data"
        }
      ],
      "source": [
        "plt.figure(figsize=(10, 5))\n",
        "sns.histplot(data=review_lens)\n",
        "plt.show()"
      ]
    },
    {
      "cell_type": "markdown",
      "metadata": {
        "id": "WClrAg3pW3d1"
      },
      "source": [
        "**Разобьем на train и test части**"
      ]
    },
    {
      "cell_type": "code",
      "execution_count": null,
      "metadata": {
        "id": "HhCPxVyeW3yY"
      },
      "outputs": [],
      "source": [
        "train_test_split = ds['train'].train_test_split(test_size=0.2, seed=42)\n",
        "validation_test_split = train_test_split['test'].train_test_split(test_size=0.5, seed=42)"
      ]
    },
    {
      "cell_type": "code",
      "execution_count": null,
      "metadata": {
        "id": "8dgxoJY8XMxY"
      },
      "outputs": [],
      "source": [
        "final_dataset = DatasetDict({\n",
        "    'train': train_test_split['train'],\n",
        "    'validation': validation_test_split['train'],\n",
        "    'test': validation_test_split['test']\n",
        "})"
      ]
    },
    {
      "cell_type": "code",
      "execution_count": null,
      "metadata": {
        "colab": {
          "base_uri": "https://localhost:8080/"
        },
        "id": "usdtz6E6XbGY",
        "outputId": "df549022-972b-449f-9a96-ba108f486dbe"
      },
      "outputs": [
        {
          "data": {
            "text/plain": [
              "DatasetDict({\n",
              "    train: Dataset({\n",
              "        features: ['grade10', 'content'],\n",
              "        num_rows: 29272\n",
              "    })\n",
              "    validation: Dataset({\n",
              "        features: ['grade10', 'content'],\n",
              "        num_rows: 3659\n",
              "    })\n",
              "    test: Dataset({\n",
              "        features: ['grade10', 'content'],\n",
              "        num_rows: 3660\n",
              "    })\n",
              "})"
            ]
          },
          "execution_count": 16,
          "metadata": {},
          "output_type": "execute_result"
        }
      ],
      "source": [
        "final_dataset"
      ]
    },
    {
      "cell_type": "code",
      "execution_count": null,
      "metadata": {
        "colab": {
          "base_uri": "https://localhost:8080/"
        },
        "id": "WO1rf-9EXdlb",
        "outputId": "243ae070-6a50-486c-bbdf-21cbb56336f8"
      },
      "outputs": [
        {
          "name": "stdout",
          "output_type": "stream",
          "text": [
            "{'grade10': 1, 'content': '\\n      «Фильм основан на\\xa0реальных событиях»\\xa0— уже\\xa0начиная с\\xa0этой фразы можно понять, насколько лживыми бывают некоторые выскочки-режиссёры. И\\xa0насколько лживы их\\xa0творения. Похоже, в\\xa0наше время любой шлак «основан на…», будь то\\xa0хоть гибель Солнечной Системы в\\xa0середине двадцатого века.\\n\\n\\n\\nЯсен пень, что\\xa0скандальный «5 дней в\\xa0августе» от\\xa0и до\\xa0не состоит из\\xa0правды. Правда тут\\xa0действительно адски пострадала, сюжет воистину фантастический, если не\\xa0фэнтезийный. Из\\xa0всего увиденного правда\\xa0— то, что\\xa0актёр, игравший Саакашвили, очень на\\xa0него похож. А\\xa0в целом уже\\xa0не актуально говорить про\\xa0всю провокацию, вылившуюся с\\xa0экрана при\\xa0просмотре. Ренни Харлин изобрёл кость, которую без\\xa0зазрения совести можно кинуть России и\\xa0всему Кавказу. Он\\xa0потратил кучу долларов на\\xa0спецэффекты, когда мог\\xa0отдать хоть на\\xa0благотворительность, но\\xa0не для\\xa0того, мол, моя\\xa0роза цвела. Поэтому я\\xa0не буду в\\xa0очередной раз\\xa0перетирать политические вопросы, поднятые в\\xa0фильме. Благо, есть что\\xa0проанализировать, а\\xa0именно постановку, глупейший сценарий, актёрское атрофированное кривлянье и\\xa0тому подобное месиво.\\n\\n\\n\\nИтак, кино из\\xa0разряда треш. Не\\xa0будь здесь той\\xa0самой провокации\\xa0— получился бы\\xa0типичный боевик разряда «B», с\\xa0долей пафоса и\\xa0сценарных недоработок. Вообще затянутое зрелище получилось. Посмотрев одну треть, уже\\xa0хочется промотать обилие ненужных сцен\\xa0— только убеждение досматривать всё, абсолютно всё\\xa0до конца воздействует с\\xa0новой силой. Ближе к\\xa0концу сюжетная линия теряется среди беготни и\\xa0взрывов, становится абсолютно «фиолетово», кто\\xa0кого бьёт и\\xa0сколько акров земли полито кровью. Я\\xa0поглядывал в\\xa0окно своей комнаты последние полчаса, изучая зажигающиеся окна соседей из\\xa0дома напротив. Не\\xa0суть.\\n\\n\\n\\nВ третий раз\\xa0заикаюсь про\\xa0провальный сценарий. Да\\xa0вы обратите внимание хотя бы\\xa0на мелочи: ладно, пусть русские захватили грузинские деревни. Но\\xa0какой им\\xa0смысл, устроив тартарары, брать с\\xa0собой гусей, поросят, козочек… что\\xa0это? Неужели поработители бывают настолько тупы, чтобы опускаться до\\xa0такого ребячества? Или\\xa0вот ещё: девушка пытается спастись от\\xa0нашедших врагов, разъезжая на\\xa0велосипеде по\\xa0местности, где\\xa0почва по\\xa0определению не\\xa0может быть ровной. Конечно, на\\xa0третьей секунде попыток её\\xa0ловят. Или\\xa0третий пример (последний, не\\xa0буду затягивать очевидное): герой Вэла Килмера (который бесил меня всё\\xa0время) предлагает сфотографироваться на\\xa0память со\\xa0словами, мол, подумаешь, какая-то война. Шутник, да\\xa0уж…\\n\\n\\n\\nПриправлен откровенный бред скучнейшим затянутым началом, банальными штампами боевиков, некоторыми сценами с\\xa0обилием шуток ниже пояса. И\\xa0потом, не\\xa0ясно, зачем нужна начальная сюжетная линия с\\xa0Мириам? Для\\xa0пущей сопереживательности Андерсу?\\n\\n\\n\\nЕсли придираться\\xa0— так\\xa0по полной: спецэффекты могли быть получше. Обычные военные взрывы, таким уже\\xa0никого не\\xa0удивишь. И, между прочим, последний критерий: игра. Ребята, дай\\xa0нам бог\\xa0из всех умений смочь сыграть и\\xa0хорошо, и\\xa0так плохо. Это\\xa0же нужно мастерство, дар\\xa0небес, чтобы на\\xa0протяжении всего съёмочного процесса не\\xa0суметь ничего вытянуть из\\xa0себя, кроме фальши и\\xa0пустых действий. Особенно отличилась Эммануэль Шрики: девушка большая молодец наоборот! Впрочем, весь прочий сброд не\\xa0вызвал никаких эмоций. Разве что\\xa0интересно обставлена сцена с\\xa0массовкой\\xa0— и\\xa0то для\\xa0пущего эффекта потребовалась замедленная съёмка.\\n\\n\\n\\nВот такие дела. Худшего боевика за\\xa0свою короткую жизнь я\\xa0ещё не\\xa0видывал. Дело даже не\\xa0в политике. Просто шлак\\xa0— он\\xa0где угодно шлак. Лучше и\\xa0не скажешь.\\n\\n\\n\\n1 из\\xa010\\n      '}\n"
          ]
        }
      ],
      "source": [
        "print(final_dataset['train'][0])"
      ]
    },
    {
      "cell_type": "markdown",
      "metadata": {
        "id": "NkVVFcnQXhtx"
      },
      "source": [
        "## Токенизация"
      ]
    },
    {
      "cell_type": "code",
      "execution_count": null,
      "metadata": {
        "colab": {
          "base_uri": "https://localhost:8080/",
          "height": 145,
          "referenced_widgets": [
            "ded4dab41a7644e89a77940c5b53e8a3",
            "2d3beebbe1b943c9afa2f94f78b20696",
            "45048ff087714a53a9dd8ed4479f7865",
            "2b9b2580a4674791b48958e0fabb12ef",
            "f1e2ae535ab44da1a8364d921d20df08",
            "3ccb815cf6b54c4a9afff9fe3df0e570",
            "71fe7e80fd8445508471582c552f8752",
            "f4bf3faff4944e78af901d8df6c9d133",
            "dd35a545923446f5a7d7e532048a2fa4",
            "36f71e6865b74219ac5dbc66fcceda73",
            "b3f833ae664a4f728eeedff75c0710a1",
            "95e9f495b747466cb3c45a9c9d7912c7",
            "c1f9c06e38394ff3833683b4ac5d020d",
            "3e4ae9d685cb4012a5a02b50c4b2d51f",
            "90807714e9c940439325b28e19e1e6ef",
            "a0c7597fdab54799830cebaa365f9dd0",
            "07ef810f7325468dbd449773a4866979",
            "1d1524039ca141f2924d10e44bf8812b",
            "595b64de4d5e4646a10b8a0ff7ebc026",
            "ba88524fdb584401ae3284c0a95b22d5",
            "5dd99dbd4401420396faf8ddf955997c",
            "37b458e83145432188a06854f97bb798",
            "6e104b42ec0c4b8cb8d5454b43b4321d",
            "42cc9bd217e94dd89f07e92e1631f3b1",
            "309ef583f7e448e48fe660c6f33c769f",
            "0de9e8b82bba473fadb381a3348575f6",
            "a8e8d4693f1b4aa880dfe43e63975dce",
            "dbd1f16af61043758f4759c279a9cb4a",
            "335d37f4e1674085a55b8b5fbc7020d2",
            "57aabf37f8c34137b9d0dddc5a672451",
            "733312e05ec248288a2928aefb23a35b",
            "8be59c17d49b482a80c6fc1ecd959ad6",
            "5758762a1ee14016afe587add61b85f6",
            "4cd4158e2b174b8bb314ca89ca5c7828",
            "b557598a96e74ed4a9c9bb5dfa23ddfd",
            "9a92669f339d4ae0ac2a6e2ef054660d",
            "119e4adb3f5f49d78009c5b75d3f9f7e",
            "62a40075e3cf46bf9b1d163ef34f04e1",
            "25b12810138a4171b30701dde444e971",
            "0eb6948ae15242dca4b226bb5020a3e4",
            "42593f47aff140ddb9a2389f9888dd43",
            "865943fca3894dbe8b472038c4e4d7dc",
            "c9256b6e54984bdbba6331ef09bb441c",
            "34b1d1222f5e4883b204b02f91c49462"
          ]
        },
        "id": "28p6eYY0XjjR",
        "outputId": "0822cdf8-df6f-4e23-880e-e068ca5baf74"
      },
      "outputs": [
        {
          "data": {
            "application/vnd.jupyter.widget-view+json": {
              "model_id": "ded4dab41a7644e89a77940c5b53e8a3",
              "version_major": 2,
              "version_minor": 0
            },
            "text/plain": [
              "tokenizer_config.json:   0%|          | 0.00/401 [00:00<?, ?B/s]"
            ]
          },
          "metadata": {},
          "output_type": "display_data"
        },
        {
          "data": {
            "application/vnd.jupyter.widget-view+json": {
              "model_id": "95e9f495b747466cb3c45a9c9d7912c7",
              "version_major": 2,
              "version_minor": 0
            },
            "text/plain": [
              "vocab.txt: 0.00B [00:00, ?B/s]"
            ]
          },
          "metadata": {},
          "output_type": "display_data"
        },
        {
          "data": {
            "application/vnd.jupyter.widget-view+json": {
              "model_id": "6e104b42ec0c4b8cb8d5454b43b4321d",
              "version_major": 2,
              "version_minor": 0
            },
            "text/plain": [
              "tokenizer.json: 0.00B [00:00, ?B/s]"
            ]
          },
          "metadata": {},
          "output_type": "display_data"
        },
        {
          "data": {
            "application/vnd.jupyter.widget-view+json": {
              "model_id": "4cd4158e2b174b8bb314ca89ca5c7828",
              "version_major": 2,
              "version_minor": 0
            },
            "text/plain": [
              "special_tokens_map.json:   0%|          | 0.00/112 [00:00<?, ?B/s]"
            ]
          },
          "metadata": {},
          "output_type": "display_data"
        }
      ],
      "source": [
        "tokenizer = AutoTokenizer.from_pretrained('cointegrated/rubert-tiny2')"
      ]
    },
    {
      "cell_type": "code",
      "execution_count": null,
      "metadata": {
        "id": "k7LmD9WZXpnM"
      },
      "outputs": [],
      "source": [
        "def tokenize_data(data, max_length=512):\n",
        "    texts = list(data['content'])\n",
        "    tokens = tokenizer.batch_encode_plus(\n",
        "        texts,\n",
        "        max_length=max_length,\n",
        "        padding='max_length',\n",
        "        truncation=True,\n",
        "        return_tensors='pt'\n",
        "    )\n",
        "    return tokens\n",
        "\n",
        "\n",
        "train_tokens = tokenize_data(final_dataset['train'])\n",
        "val_tokens = tokenize_data(final_dataset['validation'])\n",
        "test_tokens = tokenize_data(final_dataset['test'])"
      ]
    },
    {
      "cell_type": "code",
      "execution_count": null,
      "metadata": {
        "colab": {
          "base_uri": "https://localhost:8080/"
        },
        "id": "4DRaZI8OXrI8",
        "outputId": "573155bb-ecc3-4591-d4f2-0f34f8087092"
      },
      "outputs": [
        {
          "name": "stdout",
          "output_type": "stream",
          "text": [
            "torch.Size([29272, 512])\n"
          ]
        }
      ],
      "source": [
        "print(train_tokens.input_ids.shape)"
      ]
    },
    {
      "cell_type": "code",
      "execution_count": null,
      "metadata": {
        "id": "d4UfBF0MXvsK"
      },
      "outputs": [],
      "source": [
        "train_dataset = TensorDataset(\n",
        "    train_tokens['input_ids'],\n",
        "    train_tokens['attention_mask'],\n",
        "    torch.tensor(final_dataset['train']['grade10'], dtype=torch.long),\n",
        ")\n",
        "\n",
        "val_dataset = TensorDataset(\n",
        "    val_tokens['input_ids'],\n",
        "    val_tokens['attention_mask'],\n",
        "    torch.tensor(final_dataset['validation']['grade10'], dtype=torch.long),\n",
        ")\n",
        "\n",
        "test_dataset = TensorDataset(\n",
        "    test_tokens['input_ids'],\n",
        "    test_tokens['attention_mask'],\n",
        "    torch.tensor(final_dataset['test']['grade10'], dtype=torch.long),\n",
        ")"
      ]
    },
    {
      "cell_type": "code",
      "execution_count": null,
      "metadata": {
        "id": "WC_TjYW2X3LL"
      },
      "outputs": [],
      "source": [
        "import torch\n",
        "from torch.utils.data import DataLoader, TensorDataset\n",
        "\n",
        "train_loader = DataLoader(train_dataset, batch_size=16, shuffle=True)\n",
        "val_loader = DataLoader(val_dataset, batch_size=16, shuffle=False)\n",
        "test_loader = DataLoader(test_dataset, batch_size=8, shuffle=False)"
      ]
    },
    {
      "cell_type": "code",
      "execution_count": null,
      "metadata": {
        "colab": {
          "base_uri": "https://localhost:8080/"
        },
        "id": "Pjw_8EAZX4G3",
        "outputId": "8069e94a-89c9-44df-c4f0-e6ade28ec162"
      },
      "outputs": [
        {
          "name": "stdout",
          "output_type": "stream",
          "text": [
            "cuda\n"
          ]
        }
      ],
      "source": [
        "device = 'mps' if torch.backends.mps.is_built() else 'cuda' if torch.cuda.is_available() else 'cpu'\n",
        "\n",
        "print(device)"
      ]
    },
    {
      "cell_type": "markdown",
      "metadata": {
        "id": "VZfxwwNpYI16"
      },
      "source": [
        "## Дообучение"
      ]
    },
    {
      "cell_type": "code",
      "execution_count": null,
      "metadata": {
        "id": "eMVb0133YH0y"
      },
      "outputs": [],
      "source": [
        "import torch.nn.functional as F\n",
        "\n",
        "\n",
        "def avg_train_and_val(\n",
        "        model,\n",
        "        loader: DataLoader,\n",
        "        epoch,\n",
        "        num_epochs,\n",
        "        optimizer,\n",
        "        mode,\n",
        "):\n",
        "    total_loss = 0\n",
        "\n",
        "    for input_ids, attention_mask, labels in tqdm(loader, desc=f'{mode} epoch {epoch}/{num_epochs}...'):\n",
        "        if mode == 'Training':\n",
        "            optimizer.zero_grad()\n",
        "\n",
        "        input_ids, attention_mask, labels = input_ids.to(device), attention_mask.to(device), labels.to(device)\n",
        "\n",
        "        logits = model(\n",
        "            input_ids=input_ids,\n",
        "            attention_mask=attention_mask,\n",
        "        )\n",
        "\n",
        "        outputs_loss = F.cross_entropy(logits, labels)\n",
        "\n",
        "        total_loss += outputs_loss.item()\n",
        "\n",
        "        if mode == 'Training':\n",
        "            outputs_loss.backward()\n",
        "            optimizer.step()\n",
        "\n",
        "    loss = total_loss / len(loader)\n",
        "    print(f'{mode} epoch {epoch + 1}/{num_epochs}: {mode} Loss: {loss:.4f}')"
      ]
    },
    {
      "cell_type": "code",
      "execution_count": null,
      "metadata": {
        "id": "5U0Lj2C5YRoZ"
      },
      "outputs": [],
      "source": [
        "def avg_train(\n",
        "        model,\n",
        "        train_loader,\n",
        "        val_loader,\n",
        "        optimizer,\n",
        "        num_epochs=3,\n",
        "):\n",
        "    for epoch in range(num_epochs):\n",
        "        model.train()\n",
        "\n",
        "        avg_train_and_val(model, train_loader, epoch, num_epochs, optimizer, mode='Training')\n",
        "\n",
        "        model.eval()\n",
        "\n",
        "        with torch.no_grad():\n",
        "            avg_train_and_val(model, val_loader, epoch, num_epochs, optimizer, mode='Validating')"
      ]
    },
    {
      "cell_type": "code",
      "execution_count": null,
      "metadata": {
        "id": "Sqsu6aVIYUzH"
      },
      "outputs": [],
      "source": [
        "class Classifier(torch.nn.Module):\n",
        "    def __init__(self, pretrained, pooling_type):\n",
        "        super(Classifier, self).__init__()\n",
        "        self.pretrained = pretrained\n",
        "        self.classifier = torch.nn.Linear(312, 11)\n",
        "        self.pooling_type = pooling_type\n",
        "\n",
        "    def mean_pooling(self, token_embeddings: torch.Tensor, attention_mask: torch.Tensor):\n",
        "        input_mask_expanded = (\n",
        "            attention_mask.unsqueeze(-1)\n",
        "            .expand(token_embeddings.shape)\n",
        "            .float()\n",
        "        )\n",
        "        return torch.sum(token_embeddings * input_mask_expanded, 1) / torch.clamp(input_mask_expanded.sum(1), min=1e-9)\n",
        "\n",
        "    def cls_pooling(self, token_embeddings):\n",
        "        return token_embeddings[:, 0]\n",
        "\n",
        "    def forward(self, input_ids, attention_mask):\n",
        "        outputs = self.pretrained(\n",
        "            input_ids=input_ids,\n",
        "            attention_mask=attention_mask,\n",
        "        )  # shape = [batch_size, seq_len, bert_size]\n",
        "\n",
        "        if self.pooling_type == \"mean\":\n",
        "            embeddings = self.mean_pooling(outputs.last_hidden_state, attention_mask)\n",
        "        else:\n",
        "            embeddings = self.cls_pooling(outputs.last_hidden_state)\n",
        "        logits = self.classifier(embeddings)\n",
        "\n",
        "        return logits"
      ]
    },
    {
      "cell_type": "code",
      "execution_count": null,
      "metadata": {
        "id": "NA_oDmJSYzMp"
      },
      "outputs": [],
      "source": [
        "def eval_model(model, loader):\n",
        "    preds = []\n",
        "    labels = []\n",
        "    model.eval()\n",
        "    with torch.no_grad():\n",
        "        for input_ids, attention_mask, label in tqdm(loader):\n",
        "            logits = model(\n",
        "                input_ids=input_ids.to(device),\n",
        "                attention_mask=attention_mask.to(device),\n",
        "            )\n",
        "\n",
        "            sentiment = torch.argmax(logits, dim=1).tolist()\n",
        "            for i in range(len(label)):\n",
        "                preds.append(sentiment[i])\n",
        "                labels.append(label[i].item())\n",
        "\n",
        "    return preds, labels"
      ]
    },
    {
      "cell_type": "code",
      "execution_count": null,
      "metadata": {
        "id": "zY5VCRlGY1Ni"
      },
      "outputs": [],
      "source": [
        "pretrained = AutoModel.from_pretrained('cointegrated/rubert-tiny2')"
      ]
    },
    {
      "cell_type": "markdown",
      "metadata": {
        "id": "3l_3RkdS9SqL"
      },
      "source": [
        "Обучаем модель **с использованием Mean-пулинга**\n",
        "<br>В этом подходе мы усредняем эмбеддинги всех токенов с учётом attention mask"
      ]
    },
    {
      "cell_type": "code",
      "execution_count": null,
      "metadata": {
        "id": "rrXYVpmYY7av"
      },
      "outputs": [],
      "source": [
        "mean_classifier = Classifier(pretrained, 'mean')\n",
        "mean_classifier = mean_classifier.to(device)\n",
        "\n",
        "mean_optimizer = torch.optim.AdamW(mean_classifier.parameters(), lr=5e-5)"
      ]
    },
    {
      "cell_type": "code",
      "execution_count": null,
      "metadata": {
        "colab": {
          "base_uri": "https://localhost:8080/"
        },
        "id": "zy0qk5eeZI9x",
        "outputId": "fdc582a4-1c51-4b96-c0b2-061de72e730f"
      },
      "outputs": [
        {
          "name": "stderr",
          "output_type": "stream",
          "text": [
            "Training epoch 0/3...: 100%|██████████| 1830/1830 [03:22<00:00,  9.02it/s]\n"
          ]
        },
        {
          "name": "stdout",
          "output_type": "stream",
          "text": [
            "Training epoch 1/3: Training Loss: 0.6735\n"
          ]
        },
        {
          "name": "stderr",
          "output_type": "stream",
          "text": [
            "Validating epoch 0/3...: 100%|██████████| 229/229 [00:06<00:00, 36.29it/s]\n"
          ]
        },
        {
          "name": "stdout",
          "output_type": "stream",
          "text": [
            "Validating epoch 1/3: Validating Loss: 0.5246\n"
          ]
        },
        {
          "name": "stderr",
          "output_type": "stream",
          "text": [
            "Training epoch 1/3...: 100%|██████████| 1830/1830 [03:22<00:00,  9.03it/s]\n"
          ]
        },
        {
          "name": "stdout",
          "output_type": "stream",
          "text": [
            "Training epoch 2/3: Training Loss: 0.4449\n"
          ]
        },
        {
          "name": "stderr",
          "output_type": "stream",
          "text": [
            "Validating epoch 1/3...: 100%|██████████| 229/229 [00:06<00:00, 36.10it/s]\n"
          ]
        },
        {
          "name": "stdout",
          "output_type": "stream",
          "text": [
            "Validating epoch 2/3: Validating Loss: 0.5157\n"
          ]
        },
        {
          "name": "stderr",
          "output_type": "stream",
          "text": [
            "Training epoch 2/3...: 100%|██████████| 1830/1830 [03:22<00:00,  9.03it/s]\n"
          ]
        },
        {
          "name": "stdout",
          "output_type": "stream",
          "text": [
            "Training epoch 3/3: Training Loss: 0.2939\n"
          ]
        },
        {
          "name": "stderr",
          "output_type": "stream",
          "text": [
            "Validating epoch 2/3...: 100%|██████████| 229/229 [00:06<00:00, 36.12it/s]"
          ]
        },
        {
          "name": "stdout",
          "output_type": "stream",
          "text": [
            "Validating epoch 3/3: Validating Loss: 0.6404\n"
          ]
        },
        {
          "name": "stderr",
          "output_type": "stream",
          "text": [
            "\n"
          ]
        }
      ],
      "source": [
        "avg_train(mean_classifier, train_loader, val_loader, mean_optimizer)"
      ]
    },
    {
      "cell_type": "code",
      "execution_count": null,
      "metadata": {
        "colab": {
          "base_uri": "https://localhost:8080/"
        },
        "id": "Z2b8xi9CZU3W",
        "outputId": "d9ef03df-b3ce-42bf-9fda-302a362dc0ee"
      },
      "outputs": [
        {
          "name": "stderr",
          "output_type": "stream",
          "text": [
            "100%|██████████| 458/458 [00:06<00:00, 69.26it/s]\n"
          ]
        }
      ],
      "source": [
        "mean_preds, mean_labels = eval_model(mean_classifier, test_loader)"
      ]
    },
    {
      "cell_type": "code",
      "execution_count": null,
      "metadata": {
        "colab": {
          "base_uri": "https://localhost:8080/"
        },
        "id": "P9g3p2cqaVDI",
        "outputId": "758962e9-a6b5-4d43-e25a-1a5da4aeb7c9"
      },
      "outputs": [
        {
          "name": "stdout",
          "output_type": "stream",
          "text": [
            "[1, 10, 0, 0, 0, 8, 10, 9, 9, 5, 0, 0, 9, 4, 10, 10, 10, 10, 10, 0, 10, 10, 10, 10, 0, 0, 10, 9, 10, 10, 0, 10, 10, 0, 0, 10, 0, 8, 10, 8, 10, 1, 10, 0, 10, 10, 10, 10, 7, 0, 10, 10, 10, 0, 0, 0, 10, 5, 10, 0, 3, 9, 8, 0, 5, 10, 7, 0, 0, 10, 0, 0, 10, 0, 7, 6, 1, 10, 0, 9, 10, 10, 0, 10, 0, 8, 0, 2, 0, 10, 10, 10, 0, 10, 3, 0, 0, 10, 10, 0, 10, 5, 10, 9, 6, 10, 8, 0, 10, 10, 0, 10, 10, 10, 10, 0, 0, 0, 0, 10, 10, 9, 10, 9, 0, 10, 0, 10, 10, 7, 10, 0, 10, 1, 0, 0, 10, 0, 0, 10, 9, 10, 0, 0, 0, 0, 10, 10, 9, 4, 10, 10, 9, 0, 5, 10, 3, 7, 8, 9, 10, 7, 9, 8, 10, 10, 10, 0, 9, 8, 0, 9, 10, 0, 8, 0, 0, 0, 10, 8, 5, 7, 8, 0, 0, 10, 6, 10, 10, 8, 10, 8, 10, 0, 0, 0, 0, 4, 0, 7, 0, 10, 10, 5, 0, 0, 0, 0, 9, 0, 8, 0, 10, 10, 0, 10, 10, 10, 10, 0, 10, 10, 10, 10, 0, 8, 0, 0, 10, 10, 8, 0, 10, 10, 1, 0, 10, 10, 0, 10, 10, 0, 9, 0, 10, 0, 10, 9, 0, 0, 10, 10, 1, 0, 0, 0, 0, 10, 6, 0, 0, 0, 10, 3, 10, 7, 0, 10, 1, 9, 5, 3, 9, 10, 9, 0, 10, 10, 10, 10, 0, 9, 4, 0, 10, 1, 10, 0, 10, 9, 9, 0, 9, 9, 0, 10, 6, 8, 0, 10, 9, 0, 10, 0, 10, 0, 0, 9, 8, 10, 10, 1, 0, 0, 9, 10, 0, 0, 0, 0, 10, 6, 0, 10, 10, 0, 10, 10, 0, 10, 0, 8, 9, 0, 7, 10, 0, 10, 3, 9, 10, 10, 10, 0, 7, 6, 10, 0, 0, 10, 10, 10, 10, 10, 10, 0, 10, 0, 0, 10, 1, 0, 9, 0, 10, 10, 10, 0, 0, 0, 10, 10, 10, 0, 10, 9, 10, 10, 10, 7, 10, 10, 0, 9, 9, 0, 1, 10, 0, 0, 10, 9, 4, 10, 10, 10, 10, 10, 7, 10, 7, 0, 10, 9, 10, 0, 10, 10, 0, 9, 10, 10, 10, 10, 10, 10, 8, 10, 0, 10, 6, 8, 10, 10, 0, 9, 2, 10, 10, 10, 3, 10, 0, 9, 0, 10, 0, 5, 10, 1, 0, 10, 0, 10, 0, 0, 10, 0, 10, 0, 10, 0, 10, 0, 0, 7, 10, 10, 0, 0, 10, 0, 10, 10, 0, 10, 10, 10, 10, 9, 5, 10, 9, 10, 4, 6, 7, 10, 10, 10, 5, 6, 10, 10, 10, 0, 10, 10, 10, 0, 0, 10, 10, 10, 10, 0, 0, 9, 10, 0, 0, 0, 10, 0, 1, 0, 0, 10, 10, 0, 10, 0, 0, 0, 10, 10, 0, 10, 10, 10, 10, 7, 0, 0, 0, 10, 8, 10, 0, 0, 10, 8, 10, 0, 10, 10, 5, 10, 0, 0, 10, 10, 9, 7, 9, 0, 0, 0, 10, 6, 8, 9, 0, 10, 10, 8, 10, 0, 9, 4, 9, 0, 0, 0, 10, 0, 0, 10, 0, 0, 0, 7, 7, 0, 8, 10, 0, 7, 10, 10, 8, 10, 10, 0, 10, 10, 10, 10, 10, 0, 0, 10, 0, 1, 10, 8, 10, 10, 10, 8, 5, 10, 10, 9, 10, 10, 9, 0, 0, 6, 0, 0, 10, 10, 10, 10, 10, 9, 10, 9, 6, 10, 10, 10, 10, 0, 0, 0, 10, 10, 10, 10, 1, 10, 4, 0, 10, 10, 0, 0, 10, 5, 7, 7, 0, 2, 6, 10, 10, 8, 0, 10, 1, 10, 0, 10, 10, 9, 10, 9, 10, 10, 0, 0, 2, 10, 0, 10, 0, 10, 10, 0, 10, 10, 9, 0, 10, 0, 9, 0, 1, 9, 10, 0, 10, 0, 0, 0, 0, 0, 0, 4, 10, 7, 0, 3, 9, 9, 8, 10, 10, 10, 4, 0, 9, 10, 10, 0, 10, 10, 0, 0, 0, 10, 7, 0, 0, 10, 0, 10, 10, 0, 10, 8, 10, 0, 10, 10, 0, 0, 10, 0, 10, 5, 0, 0, 9, 9, 10, 7, 10, 10, 9, 0, 0, 9, 10, 0, 0, 10, 10, 10, 0, 10, 9, 8, 0, 8, 0, 1, 10, 10, 10, 9, 10, 9, 10, 9, 9, 10, 10, 0, 10, 10, 0, 10, 0, 10, 10, 0, 10, 8, 10, 10, 10, 10, 5, 4, 10, 10, 10, 10, 9, 9, 10, 0, 0, 10, 10, 0, 0, 0, 10, 0, 8, 0, 0, 0, 0, 10, 10, 10, 9, 0, 0, 10, 10, 0, 10, 10, 1, 0, 10, 7, 10, 8, 9, 10, 0, 10, 10, 0, 0, 9, 0, 10, 10, 0, 10, 9, 5, 0, 10, 9, 10, 10, 10, 10, 10, 0, 9, 10, 0, 4, 10, 0, 10, 10, 0, 10, 10, 10, 9, 10, 3, 4, 0, 10, 10, 10, 9, 0, 10, 9, 0, 0, 9, 10, 0, 0, 10, 10, 0, 10, 0, 10, 0, 0, 0, 10, 10, 10, 0, 0, 0, 10, 0, 10, 10, 10, 0, 9, 10, 10, 10, 10, 10, 9, 0, 10, 0, 0, 0, 0, 10, 10, 10, 10, 10, 0, 0, 10, 9, 10, 8, 9, 0, 0, 10, 10, 0, 9, 0, 10, 0, 0, 0, 0, 2, 10, 9, 9, 10, 10, 3, 10, 10, 0, 10, 10, 10, 3, 0, 10, 0, 0, 10, 0, 4, 10, 10, 0, 0, 3, 0, 0, 0, 10, 9, 10, 7, 3, 0, 10, 0, 10, 4, 7, 10, 10, 3, 4, 10, 9, 9, 10, 0, 0, 0, 0, 10, 10, 0, 0, 0, 7, 9, 0, 8, 10, 1, 9, 0, 10, 0, 0, 0, 0, 8, 10, 9, 10, 9, 10, 10, 0, 10, 0, 0, 0, 1, 0, 8, 9, 0, 0, 9, 0, 0, 0, 9, 0, 0, 10, 10, 0, 10, 0, 0, 0, 0, 10, 9, 9, 10, 0, 0, 10, 0, 10, 0, 8, 10, 0, 10, 8, 9, 0, 0, 9, 0, 0, 8, 10, 0, 0, 8, 0, 0, 0, 10, 0, 0, 10, 10, 0, 8, 0, 0, 0, 10, 0, 0, 5, 10, 0, 10, 10, 10, 0, 10, 0, 10, 0, 0, 1, 8, 0, 10, 0, 9, 0, 10, 0, 7, 0, 7, 0, 10, 9, 0, 1, 0, 2, 10, 10, 0, 10, 10, 10, 10, 10, 10, 8, 0, 10, 10, 10, 0, 8, 0, 10, 10, 10, 7, 10, 10, 10, 0, 9, 10, 10, 10, 0, 8, 0, 10, 0, 10, 10, 8, 9, 10, 0, 10, 0, 10, 9, 0, 2, 8, 0, 9, 0, 0, 0, 0, 0, 10, 0, 0, 0, 4, 10, 10, 8, 0, 0, 0, 5, 9, 10, 10, 10, 8, 0, 0, 9, 10, 10, 10, 0, 8, 9, 10, 0, 10, 9, 10, 10, 10, 2, 6, 7, 0, 4, 10, 0, 10, 10, 0, 3, 0, 10, 10, 0, 10, 10, 1, 0, 10, 0, 10, 0, 10, 10, 0, 3, 0, 10, 0, 0, 8, 10, 0, 9, 9, 10, 10, 10, 10, 10, 0, 10, 10, 0, 8, 0, 10, 10, 0, 10, 10, 0, 10, 4, 10, 0, 0, 9, 9, 10, 10, 9, 0, 10, 10, 0, 0, 10, 5, 0, 10, 10, 10, 10, 10, 10, 9, 10, 6, 1, 0, 10, 10, 10, 6, 10, 10, 0, 10, 10, 10, 8, 10, 0, 10, 10, 0, 10, 10, 0, 10, 9, 5, 0, 10, 0, 10, 0, 10, 0, 4, 0, 0, 6, 10, 0, 10, 8, 9, 8, 8, 10, 10, 9, 0, 0, 0, 10, 0, 0, 10, 10, 10, 0, 10, 8, 0, 9, 10, 0, 0, 8, 0, 10, 9, 0, 10, 0, 8, 10, 10, 0, 10, 0, 10, 10, 0, 9, 10, 0, 10, 10, 10, 1, 9, 10, 10, 8, 10, 9, 10, 0, 0, 0, 0, 2, 10, 10, 10, 8, 10, 9, 0, 10, 10, 6, 0, 10, 9, 10, 10, 10, 0, 10, 3, 10, 0, 0, 0, 0, 0, 10, 10, 9, 6, 10, 10, 9, 0, 7, 10, 10, 0, 0, 8, 7, 8, 0, 10, 10, 0, 10, 0, 10, 0, 10, 10, 10, 4, 0, 0, 0, 10, 1, 9, 7, 10, 10, 3, 10, 0, 0, 0, 0, 0, 7, 5, 10, 8, 0, 9, 10, 10, 0, 10, 0, 10, 10, 0, 10, 0, 0, 0, 0, 2, 0, 0, 10, 10, 10, 9, 10, 10, 0, 8, 10, 10, 10, 0, 0, 10, 7, 0, 0, 0, 5, 8, 10, 10, 10, 0, 0, 10, 9, 10, 0, 0, 0, 10, 0, 10, 0, 0, 0, 10, 10, 10, 10, 10, 10, 10, 0, 10, 0, 0, 0, 0, 10, 1, 2, 10, 10, 9, 0, 0, 10, 9, 10, 10, 10, 10, 10, 10, 0, 0, 0, 10, 10, 1, 9, 0, 2, 0, 9, 0, 10, 0, 10, 10, 8, 0, 8, 0, 8, 10, 0, 9, 10, 0, 0, 10, 0, 10, 10, 10, 0, 10, 10, 0, 10, 0, 10, 0, 10, 0, 10, 0, 0, 10, 6, 10, 0, 10, 0, 0, 0, 10, 10, 1, 0, 10, 0, 10, 10, 10, 9, 10, 0, 4, 0, 0, 10, 0, 0, 0, 0, 0, 8, 1, 10, 4, 0, 2, 10, 10, 10, 0, 0, 0, 10, 0, 0, 0, 0, 0, 7, 0, 10, 0, 1, 5, 10, 10, 10, 10, 9, 0, 10, 0, 0, 7, 0, 10, 0, 10, 0, 10, 0, 0, 10, 10, 10, 0, 0, 10, 10, 9, 5, 10, 0, 5, 10, 4, 0, 10, 0, 0, 0, 10, 0, 10, 7, 10, 10, 0, 10, 0, 10, 0, 10, 0, 9, 10, 5, 10, 7, 8, 10, 10, 10, 10, 10, 10, 10, 9, 10, 10, 10, 0, 0, 0, 10, 10, 10, 9, 10, 10, 10, 10, 0, 0, 3, 9, 10, 6, 8, 8, 0, 10, 0, 0, 10, 0, 10, 9, 10, 0, 10, 0, 0, 10, 10, 10, 1, 0, 8, 0, 0, 10, 8, 10, 10, 0, 0, 7, 0, 10, 0, 10, 10, 10, 10, 0, 0, 10, 9, 10, 10, 10, 10, 8, 10, 10, 8, 0, 10, 0, 10, 10, 10, 9, 10, 0, 10, 9, 10, 10, 7, 0, 0, 0, 8, 10, 0, 0, 8, 4, 0, 10, 0, 0, 0, 10, 10, 0, 10, 10, 0, 0, 10, 0, 0, 0, 0, 0, 10, 0, 5, 10, 10, 10, 0, 10, 0, 0, 0, 7, 10, 10, 2, 10, 0, 0, 8, 10, 0, 0, 0, 8, 8, 7, 0, 0, 10, 10, 0, 0, 10, 10, 10, 7, 10, 10, 8, 10, 8, 7, 0, 0, 10, 10, 10, 0, 7, 10, 3, 0, 9, 8, 10, 0, 0, 10, 0, 10, 0, 10, 5, 0, 10, 3, 10, 0, 0, 10, 10, 0, 10, 10, 1, 8, 0, 10, 0, 0, 10, 3, 0, 0, 0, 0, 0, 0, 10, 10, 10, 10, 0, 10, 9, 7, 0, 10, 10, 10, 0, 0, 10, 0, 10, 10, 0, 10, 0, 8, 10, 0, 10, 10, 0, 0, 10, 10, 10, 0, 0, 0, 10, 10, 0, 0, 0, 0, 0, 10, 10, 8, 10, 10, 0, 10, 10, 0, 9, 10, 9, 10, 0, 0, 10, 10, 0, 10, 0, 10, 3, 9, 9, 0, 0, 10, 10, 9, 10, 0, 10, 9, 10, 10, 9, 10, 9, 3, 10, 10, 0, 6, 1, 8, 10, 10, 10, 0, 10, 10, 10, 0, 0, 9, 8, 9, 2, 0, 0, 10, 10, 8, 10, 10, 0, 10, 10, 0, 0, 10, 9, 0, 0, 10, 0, 0, 10, 6, 10, 0, 0, 0, 0, 10, 0, 8, 10, 10, 0, 10, 10, 10, 10, 10, 10, 10, 0, 10, 10, 0, 0, 0, 0, 10, 0, 8, 10, 10, 0, 10, 0, 0, 0, 0, 8, 7, 5, 10, 10, 0, 1, 0, 0, 10, 0, 0, 0, 0, 0, 0, 10, 0, 10, 10, 10, 10, 10, 8, 0, 0, 10, 7, 1, 0, 0, 7, 10, 4, 0, 8, 10, 0, 10, 0, 0, 10, 10, 10, 10, 0, 5, 0, 10, 8, 10, 9, 0, 10, 0, 10, 10, 0, 10, 7, 10, 9, 0, 10, 10, 0, 10, 10, 0, 10, 9, 9, 10, 9, 10, 10, 10, 10, 9, 5, 10, 9, 8, 10, 10, 10, 0, 0, 0, 0, 10, 10, 10, 1, 3, 2, 1, 0, 0, 0, 5, 10, 7, 0, 0, 7, 0, 10, 10, 10, 0, 6, 10, 6, 10, 0, 0, 0, 8, 10, 10, 0, 9, 0, 10, 10, 10, 0, 1, 5, 0, 0, 0, 1, 8, 10, 10, 10, 0, 9, 9, 0, 3, 1, 10, 9, 9, 9, 9, 10, 0, 10, 10, 10, 0, 10, 0, 10, 10, 8, 0, 10, 0, 10, 10, 10, 8, 0, 10, 9, 10, 10, 0, 0, 0, 2, 9, 0, 0, 7, 10, 0, 10, 0, 9, 10, 0, 9, 10, 0, 0, 10, 10, 10, 0, 10, 0, 10, 9, 8, 0, 2, 10, 0, 0, 0, 10, 7, 9, 0, 5, 0, 10, 6, 10, 4, 3, 0, 10, 2, 0, 0, 10, 10, 0, 0, 0, 10, 0, 10, 10, 10, 10, 10, 0, 1, 9, 8, 6, 7, 0, 10, 10, 0, 9, 10, 5, 9, 2, 0, 8, 10, 0, 10, 10, 10, 10, 10, 0, 7, 10, 0, 0, 10, 0, 10, 0, 10, 10, 0, 10, 0, 10, 0, 9, 0, 0, 10, 10, 10, 0, 0, 0, 10, 0, 10, 10, 9, 10, 0, 3, 0, 0, 0, 0, 10, 0, 0, 10, 0, 8, 10, 0, 0, 1, 0, 9, 8, 0, 0, 10, 0, 10, 10, 9, 2, 0, 10, 10, 10, 10, 10, 10, 10, 8, 10, 9, 0, 10, 0, 10, 0, 10, 8, 0, 10, 0, 3, 10, 0, 0, 0, 10, 9, 2, 0, 10, 10, 10, 4, 0, 10, 10, 8, 10, 10, 0, 9, 0, 10, 0, 0, 0, 0, 10, 0, 10, 10, 9, 10, 0, 3, 10, 0, 0, 10, 0, 0, 0, 0, 10, 10, 0, 0, 9, 9, 9, 0, 9, 8, 10, 0, 10, 0, 10, 0, 10, 1, 0, 0, 0, 10, 0, 0, 10, 10, 1, 10, 10, 8, 10, 7, 2, 10, 10, 0, 9, 0, 10, 10, 0, 10, 10, 10, 10, 10, 10, 8, 10, 1, 0, 5, 10, 0, 10, 0, 10, 10, 10, 7, 10, 10, 10, 10, 5, 0, 10, 6, 10, 0, 10, 10, 0, 0, 10, 9, 0, 1, 0, 10, 2, 0, 10, 10, 8, 0, 0, 0, 10, 0, 0, 10, 10, 10, 10, 10, 0, 1, 0, 8, 0, 10, 10, 10, 0, 0, 10, 10, 0, 9, 1, 0, 0, 9, 0, 9, 0, 0, 10, 1, 10, 10, 0, 10, 0, 9, 10, 4, 10, 0, 0, 1, 9, 10, 10, 4, 10, 10, 10, 10, 0, 10, 10, 1, 0, 0, 0, 10, 10, 0, 9, 10, 10, 0, 0, 10, 10, 8, 0, 6, 9, 0, 9, 9, 0, 10, 10, 0, 10, 9, 10, 4, 9, 10, 10, 0, 8, 0, 0, 7, 0, 0, 7, 10, 0, 0, 8, 0, 8, 10, 4, 10, 10, 10, 10, 0, 1, 10, 10, 10, 0, 0, 0, 10, 0, 10, 0, 0, 10, 10, 0, 10, 10, 0, 0, 10, 9, 10, 0, 3, 10, 10, 10, 8, 10, 10, 10, 10, 8, 10, 0, 10, 10, 9, 10, 0, 0, 10, 0, 0, 7, 8, 0, 10, 0, 10, 1, 9, 10, 8, 0, 0, 0, 0, 10, 0, 0, 0, 0, 0, 0, 0, 0, 10, 6, 10, 0, 10, 10, 0, 0, 9, 4, 10, 0, 10, 6, 10, 7, 10, 10, 9, 0, 6, 3, 10, 10, 8, 7, 0, 8, 10, 2, 0, 0, 0, 0, 10, 10, 0, 9, 0, 0, 0, 10, 0, 9, 7, 0, 10, 10, 10, 0, 0, 10, 0, 0, 0, 10, 0, 2, 0, 0, 0, 10, 0, 0, 9, 0, 10, 9, 9, 10, 10, 9, 7, 10, 10, 10, 3, 10, 3, 10, 0, 10, 10, 10, 10, 10, 0, 0, 10, 0, 7, 10, 9, 0, 10, 10, 9, 9, 0, 9, 8, 0, 0, 4, 10, 10, 10, 0, 6, 10, 10, 0, 0, 10, 10, 10, 0, 9, 0, 0, 10, 8, 10, 10, 10, 0, 10, 0, 0, 0, 0, 10, 0, 10, 0, 9, 0, 10, 0, 5, 10, 9, 9, 10, 8, 10, 0, 10, 0, 0, 0, 0, 10, 0, 8, 0, 0, 10, 0, 0, 0, 10, 8, 10, 10, 0, 10, 0, 9, 10, 10, 9, 10, 10, 10, 0, 8, 0, 6, 0, 0, 0, 10, 10, 0, 0, 0, 0, 10, 10, 10, 10, 10, 0, 0, 2, 0, 0, 10, 0, 8, 9, 9, 3, 7, 0, 10, 0, 0, 10, 9, 0, 10, 6, 10, 10, 2, 0, 10, 7, 9, 0, 0, 0, 10, 9, 10, 10, 10, 0, 0, 0, 0, 0, 10, 0, 0, 10, 1, 0, 10, 0, 3, 10, 10, 0, 10, 8, 0, 9, 10, 9, 0, 10, 10, 10, 10, 1, 7, 0, 10, 10, 10, 10, 0, 10, 0, 0, 0, 0, 0, 10, 0, 0, 2, 9, 8, 3, 10, 8, 10, 0, 10, 9, 0, 10, 10, 9, 9, 1, 10, 10, 0, 0, 2, 0, 10, 10, 10, 7, 10, 0, 0, 10, 10, 10, 6, 6, 10, 10, 0, 10, 10, 10, 10, 10, 0, 0, 10, 0, 0, 2, 9, 10, 10, 0, 10, 9, 10, 0, 0, 0, 10, 0, 2, 4, 10, 10, 0, 0, 0, 0, 0, 9, 10, 5, 10, 9, 9, 10, 6, 10, 10, 2, 0, 0, 10, 9, 10, 0, 10, 10, 10, 10, 0, 10, 10, 0, 2, 0, 0, 10, 0, 0, 0, 10, 0, 0, 9, 10, 10, 0, 0, 9, 5, 10, 10, 4, 10, 10, 10, 0, 10, 10, 0, 10, 0, 10, 0, 1, 0, 10, 10, 0, 10, 10, 7, 1, 4, 10, 0, 0, 0, 0, 0, 10, 10, 0, 10, 8, 0, 10, 10, 10, 10, 10, 7, 9, 0, 0, 0, 7, 0, 0, 10, 10, 10, 10, 10, 10, 9, 10, 10, 0, 1, 8, 6, 10, 0, 10, 0, 8, 8, 9, 0, 0, 0, 9, 10, 10, 10, 0, 10, 10, 7, 10, 10, 2, 10, 0, 7, 0, 0, 0, 9, 8, 10, 10, 4, 0, 9, 0, 0, 0, 8, 10, 5, 10, 10, 10, 0, 10, 0, 10, 2, 10, 10, 10, 10, 10, 0, 10, 0, 0, 10, 10, 9, 0, 0, 0, 8, 0, 10, 10, 1, 10, 7, 10, 0, 0, 9, 10, 6, 10, 10, 0, 9, 0, 8, 10, 0, 10, 10, 0, 0, 0, 2, 10, 9, 0, 6, 9, 0, 10, 10, 5, 3, 0, 8, 0, 0, 10, 0, 9, 10, 0, 3, 10, 8, 0, 0, 0, 3, 10, 9, 0, 10, 10, 0, 10, 10, 10, 10, 10, 9, 10, 4, 9, 10, 10, 10, 0, 10, 0, 1, 0, 10, 4, 10, 2, 10, 10, 0, 10, 9, 10, 0, 0, 0, 10, 10, 10, 9, 10, 10, 10, 9, 0, 9, 7, 10, 0, 10, 10, 9, 10, 0, 10, 0, 5, 0, 9, 0, 0, 10, 9, 10, 10, 10, 10, 10, 0, 0, 0, 0, 10, 10, 10, 10, 0, 0, 10, 8, 10, 6, 0, 10, 0, 10, 5, 10, 10, 9, 9, 10, 0, 0, 10, 10, 9, 2, 9, 10, 10, 10, 0, 5, 10, 10, 10, 10, 6, 0, 10, 10, 0, 10, 1, 10, 9, 0, 2, 10, 0, 0, 0, 10, 10, 8, 10, 0, 10, 0, 2, 2, 10, 0, 10, 8, 2, 8, 0, 10, 10, 9, 0, 3, 10, 9, 10, 10, 10, 7, 6, 6, 9, 9, 10, 1, 0, 10, 10, 0, 10, 10, 10, 10, 10, 10, 10, 10, 10, 10, 0, 8, 4, 10, 10, 0, 7, 8, 7, 10, 0, 0, 9, 10, 6, 10, 9, 10, 0, 0, 0, 10, 10, 10, 0, 0, 9, 0, 0, 10, 10, 0, 10, 9, 9, 10, 7, 0, 0, 8, 10, 10, 0, 0, 10, 0, 0, 10, 0, 0, 1, 9, 7, 10, 7, 10, 10, 4, 0, 0, 7, 0, 10, 10, 10, 0, 10, 1, 0, 10, 7, 10, 9, 10, 9, 0, 9, 9, 10, 0, 0, 1, 0, 0, 8, 9, 1, 9, 1, 10, 9, 0, 0, 0, 10, 9, 10, 9, 0, 0, 0, 10, 10, 10, 9, 9, 8, 10, 10, 0, 3, 8, 10, 0, 10, 10, 0, 10, 0, 10, 10, 10, 10, 0, 9, 10, 0, 0, 10, 9, 10, 10, 0, 9, 0, 0, 10, 10, 1, 0, 0, 10, 10, 3, 0, 9, 10, 1, 8, 10, 0, 10, 10, 10, 9, 0, 0, 10, 8, 0, 10, 0, 0, 0, 0, 10, 0, 0, 10, 6, 0, 10, 0, 9, 0, 0, 0, 10, 10, 10, 9, 10, 8, 0, 0, 0, 10, 10, 1, 0, 6, 0, 10, 10, 10, 10, 10, 10, 10, 2, 7, 0, 9, 10, 10, 7, 0, 1, 0, 0, 4, 10, 0, 4, 0, 0, 0, 10, 0, 10, 10, 0, 10, 0, 0, 10, 0, 10, 10, 10, 10, 0, 10]\n",
            "[1, 10, 0, 9, 0, 8, 10, 9, 0, 5, 10, 0, 10, 4, 10, 0, 10, 10, 10, 0, 10, 10, 10, 10, 0, 0, 10, 9, 10, 10, 0, 0, 10, 0, 0, 10, 6, 8, 10, 8, 10, 1, 0, 0, 10, 0, 0, 10, 7, 0, 10, 10, 10, 9, 0, 0, 10, 5, 10, 0, 3, 9, 8, 0, 5, 10, 7, 0, 1, 10, 0, 0, 10, 0, 7, 6, 1, 0, 0, 9, 10, 10, 0, 0, 0, 8, 0, 2, 4, 10, 0, 10, 1, 10, 3, 0, 0, 10, 10, 0, 10, 5, 0, 9, 6, 10, 8, 0, 10, 7, 0, 0, 0, 10, 10, 0, 0, 5, 0, 10, 0, 9, 10, 9, 0, 10, 0, 10, 10, 7, 9, 0, 0, 1, 9, 0, 10, 0, 0, 10, 4, 0, 5, 1, 10, 0, 9, 10, 0, 4, 10, 10, 9, 10, 5, 10, 3, 7, 0, 9, 9, 7, 9, 8, 10, 10, 10, 0, 9, 8, 0, 9, 10, 5, 0, 0, 0, 0, 10, 8, 5, 7, 8, 10, 0, 10, 6, 10, 0, 8, 0, 8, 10, 0, 0, 0, 0, 4, 0, 10, 0, 10, 10, 5, 0, 0, 0, 0, 9, 0, 8, 0, 0, 10, 0, 10, 10, 10, 10, 0, 10, 8, 10, 10, 0, 9, 0, 0, 0, 10, 8, 0, 0, 9, 1, 0, 10, 10, 0, 10, 10, 9, 9, 0, 0, 0, 10, 9, 9, 0, 10, 10, 1, 0, 0, 0, 0, 10, 6, 0, 0, 1, 10, 3, 10, 3, 0, 10, 1, 9, 5, 3, 9, 10, 0, 8, 10, 0, 10, 10, 10, 9, 4, 0, 0, 2, 10, 0, 10, 9, 9, 10, 0, 9, 0, 9, 6, 8, 0, 10, 9, 0, 0, 1, 10, 0, 0, 9, 8, 0, 10, 1, 0, 0, 9, 10, 0, 0, 0, 0, 10, 6, 0, 10, 10, 0, 10, 10, 0, 10, 0, 8, 9, 0, 7, 0, 0, 10, 3, 0, 10, 10, 10, 0, 0, 6, 10, 0, 10, 10, 0, 10, 10, 10, 10, 0, 9, 0, 10, 10, 0, 0, 9, 0, 9, 10, 10, 0, 0, 0, 10, 10, 0, 0, 10, 9, 10, 10, 10, 7, 10, 10, 0, 9, 0, 0, 1, 10, 0, 0, 10, 9, 4, 10, 10, 10, 0, 10, 7, 10, 7, 0, 10, 9, 0, 0, 10, 8, 0, 0, 10, 10, 10, 5, 8, 10, 8, 9, 9, 10, 6, 8, 8, 10, 0, 9, 2, 10, 10, 9, 3, 10, 0, 9, 0, 7, 0, 9, 10, 1, 0, 10, 0, 10, 0, 0, 8, 0, 10, 0, 9, 0, 10, 10, 0, 7, 10, 10, 0, 0, 10, 10, 0, 10, 0, 8, 0, 10, 10, 9, 5, 10, 10, 10, 4, 6, 0, 10, 10, 10, 5, 10, 10, 10, 10, 0, 0, 8, 10, 0, 0, 10, 10, 10, 10, 0, 0, 0, 10, 0, 4, 0, 10, 0, 0, 9, 0, 10, 10, 0, 10, 0, 8, 0, 10, 10, 0, 10, 10, 10, 10, 7, 0, 0, 0, 10, 8, 10, 0, 0, 10, 0, 10, 0, 0, 10, 5, 10, 0, 0, 10, 10, 10, 3, 9, 0, 0, 0, 10, 6, 8, 9, 0, 8, 10, 8, 10, 0, 9, 7, 9, 0, 0, 0, 10, 0, 0, 10, 0, 0, 0, 7, 7, 0, 8, 10, 10, 7, 10, 10, 8, 10, 9, 0, 10, 10, 0, 10, 10, 8, 0, 10, 0, 1, 10, 3, 10, 10, 10, 8, 0, 10, 10, 9, 10, 10, 6, 0, 0, 6, 1, 0, 10, 0, 10, 10, 0, 9, 10, 0, 6, 10, 0, 10, 10, 0, 0, 0, 10, 0, 10, 10, 1, 10, 4, 0, 10, 10, 0, 0, 10, 5, 7, 7, 0, 2, 6, 10, 10, 8, 2, 10, 1, 0, 0, 10, 10, 9, 9, 9, 10, 10, 0, 10, 2, 10, 0, 10, 0, 10, 10, 0, 10, 0, 9, 0, 10, 0, 0, 0, 1, 9, 10, 0, 10, 0, 0, 0, 10, 0, 0, 4, 10, 8, 1, 3, 0, 9, 8, 10, 10, 10, 4, 0, 9, 10, 10, 10, 10, 0, 0, 0, 0, 3, 0, 9, 0, 10, 0, 9, 0, 0, 10, 8, 10, 0, 10, 10, 0, 0, 10, 0, 10, 0, 0, 0, 9, 9, 10, 7, 10, 10, 9, 0, 0, 9, 10, 0, 0, 10, 10, 10, 0, 10, 9, 8, 0, 8, 0, 1, 10, 10, 10, 9, 10, 9, 10, 9, 9, 10, 10, 7, 10, 10, 0, 10, 0, 10, 10, 10, 10, 8, 10, 10, 10, 10, 5, 4, 10, 0, 10, 10, 10, 9, 10, 0, 0, 10, 0, 0, 10, 0, 0, 0, 8, 3, 6, 0, 0, 0, 10, 10, 9, 0, 0, 10, 0, 0, 10, 10, 1, 0, 10, 7, 10, 8, 9, 10, 0, 10, 10, 0, 0, 9, 0, 10, 0, 0, 0, 0, 5, 0, 0, 10, 0, 10, 10, 0, 10, 0, 0, 10, 0, 4, 0, 0, 10, 10, 0, 10, 10, 10, 10, 10, 3, 4, 0, 10, 9, 0, 9, 0, 10, 0, 0, 0, 9, 10, 0, 0, 10, 10, 0, 10, 0, 10, 0, 0, 0, 10, 10, 7, 4, 0, 0, 10, 0, 0, 8, 10, 0, 9, 10, 10, 10, 10, 0, 9, 0, 10, 0, 0, 0, 0, 10, 10, 10, 10, 10, 0, 10, 0, 9, 10, 8, 9, 0, 0, 10, 10, 0, 5, 0, 0, 0, 0, 0, 0, 2, 10, 9, 9, 10, 9, 3, 10, 9, 0, 0, 7, 10, 0, 0, 0, 0, 0, 10, 0, 4, 10, 10, 0, 0, 3, 0, 0, 0, 0, 9, 10, 7, 3, 0, 10, 0, 10, 4, 7, 10, 10, 3, 0, 10, 9, 0, 10, 0, 0, 0, 1, 10, 10, 0, 0, 0, 0, 9, 3, 8, 0, 1, 9, 7, 9, 0, 0, 0, 0, 8, 10, 0, 10, 9, 10, 10, 0, 10, 0, 0, 0, 1, 0, 8, 9, 0, 0, 9, 0, 0, 0, 9, 0, 0, 10, 10, 0, 10, 8, 0, 0, 6, 10, 9, 9, 10, 0, 0, 10, 0, 10, 0, 8, 10, 0, 1, 8, 9, 0, 0, 9, 0, 0, 8, 10, 0, 0, 8, 0, 0, 0, 10, 0, 0, 10, 10, 0, 8, 0, 0, 0, 10, 0, 0, 5, 10, 0, 0, 10, 10, 0, 10, 0, 10, 0, 0, 1, 8, 0, 10, 0, 9, 0, 10, 0, 7, 3, 7, 0, 0, 9, 0, 1, 0, 2, 10, 10, 0, 10, 10, 10, 0, 10, 10, 0, 0, 10, 10, 10, 9, 8, 0, 10, 8, 10, 5, 0, 10, 10, 0, 9, 8, 0, 10, 0, 8, 0, 10, 0, 10, 10, 6, 0, 10, 10, 10, 0, 10, 8, 0, 2, 8, 0, 9, 0, 0, 0, 0, 0, 8, 0, 0, 0, 4, 10, 10, 8, 0, 0, 0, 5, 9, 0, 10, 10, 8, 0, 0, 9, 10, 10, 10, 0, 8, 9, 0, 3, 10, 9, 10, 10, 10, 2, 6, 7, 10, 4, 10, 0, 10, 10, 0, 3, 0, 10, 0, 0, 10, 10, 2, 0, 0, 0, 10, 0, 10, 10, 8, 3, 0, 10, 0, 0, 8, 10, 0, 9, 9, 10, 10, 10, 10, 10, 0, 0, 0, 0, 8, 0, 10, 10, 0, 10, 10, 0, 0, 4, 10, 0, 0, 9, 9, 10, 10, 9, 9, 0, 9, 0, 0, 0, 5, 0, 10, 10, 0, 10, 10, 10, 10, 0, 6, 1, 0, 10, 10, 0, 6, 10, 10, 0, 10, 10, 10, 8, 0, 7, 10, 10, 0, 10, 10, 0, 10, 9, 5, 0, 10, 0, 10, 0, 10, 0, 4, 0, 5, 6, 10, 10, 10, 8, 9, 8, 8, 8, 10, 10, 0, 0, 0, 10, 0, 0, 10, 10, 10, 0, 10, 8, 0, 0, 10, 7, 0, 8, 0, 10, 9, 0, 10, 0, 8, 10, 10, 0, 10, 10, 10, 10, 0, 9, 10, 10, 8, 10, 0, 1, 0, 10, 10, 8, 10, 9, 10, 0, 0, 0, 0, 2, 0, 10, 10, 8, 0, 10, 10, 10, 10, 0, 0, 10, 9, 10, 10, 10, 0, 10, 3, 10, 10, 0, 0, 10, 0, 10, 9, 9, 0, 10, 10, 9, 0, 7, 10, 10, 0, 0, 8, 7, 8, 0, 10, 10, 0, 10, 0, 10, 0, 10, 10, 8, 4, 0, 0, 0, 10, 1, 9, 3, 0, 10, 3, 10, 0, 0, 0, 0, 0, 7, 5, 8, 8, 6, 0, 9, 9, 0, 10, 0, 10, 0, 0, 10, 0, 0, 1, 0, 2, 1, 0, 10, 10, 10, 9, 0, 10, 0, 8, 10, 10, 0, 0, 0, 0, 7, 0, 0, 0, 5, 8, 10, 10, 10, 0, 2, 0, 0, 10, 10, 0, 0, 10, 10, 10, 10, 0, 0, 10, 0, 0, 10, 10, 10, 9, 0, 10, 0, 0, 0, 9, 10, 1, 2, 10, 0, 9, 0, 0, 10, 9, 0, 10, 0, 0, 10, 10, 0, 0, 0, 0, 10, 1, 9, 0, 2, 10, 0, 0, 10, 0, 10, 10, 8, 0, 8, 0, 3, 0, 0, 9, 10, 0, 0, 10, 9, 0, 10, 0, 0, 10, 10, 0, 10, 0, 10, 0, 10, 0, 10, 0, 9, 10, 6, 10, 0, 10, 8, 7, 8, 10, 10, 1, 0, 8, 0, 10, 10, 10, 0, 10, 6, 4, 0, 0, 10, 0, 0, 0, 0, 0, 8, 1, 10, 4, 0, 2, 10, 0, 8, 0, 0, 1, 10, 0, 0, 0, 10, 0, 6, 0, 10, 0, 1, 5, 10, 10, 0, 0, 9, 0, 10, 0, 0, 7, 0, 10, 0, 3, 0, 10, 0, 0, 10, 10, 10, 0, 0, 10, 9, 9, 5, 10, 0, 5, 9, 4, 0, 10, 0, 0, 10, 0, 0, 10, 8, 7, 0, 0, 10, 0, 10, 0, 9, 0, 5, 10, 5, 10, 7, 8, 10, 10, 8, 10, 10, 10, 10, 0, 10, 0, 10, 6, 0, 0, 10, 10, 8, 9, 10, 10, 10, 10, 0, 1, 3, 9, 10, 6, 8, 8, 0, 10, 0, 0, 0, 0, 10, 9, 10, 0, 10, 0, 0, 10, 10, 10, 1, 0, 0, 0, 0, 10, 0, 10, 10, 6, 0, 7, 0, 10, 10, 0, 10, 10, 10, 0, 0, 10, 9, 10, 10, 10, 10, 8, 10, 0, 8, 10, 10, 0, 10, 10, 10, 9, 10, 0, 10, 9, 10, 10, 7, 0, 0, 0, 8, 0, 0, 0, 8, 4, 0, 10, 0, 0, 0, 10, 10, 9, 0, 10, 10, 0, 10, 0, 0, 10, 0, 0, 0, 0, 5, 9, 10, 10, 0, 10, 0, 0, 9, 0, 8, 10, 2, 10, 0, 0, 8, 10, 0, 0, 0, 8, 8, 7, 6, 0, 8, 10, 0, 10, 10, 10, 10, 0, 10, 10, 8, 10, 8, 7, 1, 10, 10, 10, 10, 0, 7, 10, 3, 10, 9, 8, 10, 0, 0, 10, 0, 10, 10, 10, 5, 0, 10, 3, 0, 0, 0, 0, 10, 0, 10, 8, 1, 8, 2, 0, 0, 0, 10, 3, 0, 0, 0, 0, 0, 0, 10, 10, 9, 0, 0, 0, 9, 7, 0, 10, 10, 10, 0, 0, 10, 0, 0, 10, 0, 10, 0, 8, 10, 1, 10, 10, 0, 0, 10, 10, 10, 0, 0, 0, 10, 10, 0, 0, 0, 0, 0, 10, 10, 0, 10, 10, 0, 10, 10, 0, 9, 10, 9, 10, 0, 0, 10, 10, 0, 6, 0, 10, 3, 9, 8, 2, 0, 10, 10, 9, 0, 0, 10, 9, 10, 0, 9, 9, 6, 3, 10, 10, 0, 0, 1, 0, 10, 8, 10, 0, 10, 9, 10, 0, 5, 0, 8, 9, 2, 0, 0, 10, 10, 8, 0, 10, 0, 10, 10, 0, 0, 10, 0, 0, 0, 10, 0, 0, 10, 7, 10, 0, 0, 0, 0, 10, 0, 8, 10, 10, 0, 10, 10, 10, 10, 10, 9, 10, 4, 10, 10, 0, 0, 5, 10, 10, 0, 8, 10, 10, 0, 10, 0, 0, 0, 0, 8, 7, 5, 10, 0, 4, 0, 0, 0, 10, 0, 0, 0, 0, 0, 8, 10, 0, 10, 10, 10, 10, 10, 8, 0, 10, 10, 7, 1, 0, 7, 7, 10, 4, 7, 8, 10, 0, 10, 0, 0, 10, 0, 10, 10, 0, 5, 0, 10, 2, 10, 7, 1, 10, 0, 10, 0, 0, 10, 7, 10, 10, 0, 0, 10, 0, 10, 10, 0, 10, 9, 9, 10, 9, 10, 10, 10, 10, 10, 5, 10, 9, 8, 5, 10, 10, 0, 0, 9, 9, 10, 10, 10, 1, 3, 2, 1, 0, 2, 0, 5, 10, 7, 0, 0, 7, 0, 10, 10, 10, 0, 6, 10, 6, 10, 0, 0, 0, 0, 0, 10, 0, 9, 0, 10, 10, 10, 0, 1, 5, 0, 0, 0, 1, 8, 10, 0, 10, 9, 10, 9, 8, 3, 1, 10, 9, 2, 9, 6, 10, 0, 10, 10, 10, 0, 10, 0, 10, 10, 5, 0, 8, 0, 0, 9, 10, 8, 0, 10, 10, 10, 10, 10, 0, 0, 0, 9, 0, 0, 7, 10, 10, 10, 0, 0, 10, 0, 9, 0, 6, 0, 10, 10, 10, 0, 10, 0, 0, 9, 8, 0, 2, 10, 0, 0, 1, 10, 7, 9, 5, 5, 0, 10, 6, 10, 4, 3, 0, 0, 0, 0, 0, 10, 10, 0, 0, 0, 0, 0, 0, 0, 10, 8, 10, 0, 1, 9, 0, 6, 5, 0, 10, 10, 0, 9, 10, 5, 9, 1, 0, 9, 10, 0, 9, 10, 10, 10, 10, 0, 4, 10, 0, 0, 10, 0, 10, 0, 10, 10, 0, 0, 10, 0, 0, 0, 0, 0, 10, 10, 0, 8, 3, 10, 10, 0, 10, 10, 9, 10, 0, 3, 0, 7, 0, 0, 10, 0, 9, 10, 0, 8, 10, 0, 0, 0, 0, 9, 8, 0, 0, 10, 0, 10, 0, 7, 2, 0, 10, 10, 10, 10, 10, 10, 10, 8, 0, 9, 0, 10, 10, 10, 0, 0, 0, 0, 10, 0, 3, 0, 0, 1, 0, 10, 0, 2, 0, 10, 10, 10, 4, 0, 10, 0, 8, 10, 10, 0, 9, 0, 10, 0, 5, 0, 0, 10, 0, 10, 10, 9, 10, 0, 3, 10, 0, 7, 10, 0, 0, 0, 0, 10, 10, 0, 0, 8, 9, 4, 4, 9, 8, 10, 0, 10, 0, 10, 0, 0, 1, 0, 0, 8, 10, 4, 0, 10, 10, 1, 10, 10, 0, 10, 0, 2, 10, 10, 0, 9, 0, 10, 10, 10, 10, 0, 10, 0, 10, 10, 8, 10, 1, 0, 0, 10, 0, 10, 0, 0, 10, 0, 0, 10, 10, 10, 10, 0, 0, 10, 6, 10, 0, 10, 10, 0, 0, 10, 9, 0, 1, 0, 10, 2, 0, 10, 10, 8, 0, 0, 0, 10, 0, 7, 10, 6, 10, 10, 0, 0, 1, 0, 8, 0, 10, 10, 10, 0, 0, 10, 10, 0, 9, 1, 0, 0, 9, 0, 9, 0, 10, 10, 1, 0, 0, 0, 10, 0, 5, 0, 4, 10, 0, 0, 1, 0, 0, 10, 4, 0, 0, 10, 9, 0, 10, 10, 1, 0, 0, 0, 10, 0, 0, 9, 10, 10, 0, 0, 10, 0, 8, 8, 6, 9, 0, 0, 9, 0, 0, 10, 0, 10, 9, 10, 4, 10, 10, 10, 0, 8, 0, 0, 7, 0, 0, 5, 10, 0, 0, 8, 0, 8, 10, 7, 10, 10, 10, 10, 0, 1, 0, 10, 10, 0, 0, 8, 8, 0, 9, 0, 0, 0, 10, 0, 10, 10, 0, 0, 10, 8, 10, 0, 3, 10, 10, 10, 8, 10, 8, 10, 0, 10, 10, 10, 10, 10, 10, 10, 0, 0, 0, 0, 0, 7, 8, 0, 10, 0, 10, 0, 0, 10, 8, 0, 0, 0, 0, 0, 0, 0, 0, 0, 1, 0, 0, 0, 0, 6, 10, 0, 0, 10, 0, 0, 9, 4, 10, 0, 10, 6, 10, 7, 10, 0, 10, 0, 6, 3, 0, 10, 8, 7, 0, 8, 10, 2, 0, 0, 0, 0, 10, 10, 0, 9, 2, 0, 0, 10, 0, 9, 3, 0, 10, 0, 10, 0, 0, 10, 0, 0, 0, 10, 0, 2, 0, 0, 0, 10, 0, 8, 9, 0, 10, 9, 9, 0, 0, 0, 7, 9, 10, 10, 3, 0, 3, 0, 0, 10, 10, 0, 10, 9, 0, 0, 0, 0, 7, 10, 9, 0, 10, 0, 9, 0, 0, 9, 8, 5, 0, 4, 10, 10, 10, 0, 0, 10, 10, 0, 9, 10, 10, 10, 0, 6, 0, 10, 10, 8, 10, 10, 10, 0, 10, 0, 0, 0, 0, 0, 0, 10, 1, 10, 0, 10, 0, 5, 10, 9, 0, 10, 8, 10, 10, 10, 0, 0, 2, 0, 10, 0, 8, 10, 0, 10, 0, 0, 0, 10, 8, 10, 10, 0, 0, 10, 9, 10, 10, 9, 10, 9, 10, 0, 8, 0, 6, 0, 0, 10, 10, 10, 0, 10, 0, 0, 10, 10, 10, 10, 10, 0, 0, 0, 0, 0, 10, 0, 8, 9, 9, 3, 8, 0, 10, 0, 0, 10, 6, 5, 10, 6, 10, 10, 0, 0, 0, 7, 9, 0, 0, 10, 9, 9, 10, 10, 10, 0, 0, 0, 0, 0, 10, 0, 0, 10, 0, 0, 10, 10, 3, 0, 10, 0, 0, 7, 0, 9, 10, 8, 10, 10, 0, 10, 10, 1, 7, 0, 10, 0, 10, 10, 0, 10, 0, 0, 6, 0, 0, 10, 0, 10, 2, 9, 8, 3, 10, 8, 0, 10, 10, 0, 0, 10, 10, 9, 9, 1, 7, 10, 1, 0, 2, 0, 10, 0, 10, 3, 10, 0, 0, 10, 10, 10, 0, 6, 10, 9, 0, 10, 10, 10, 10, 0, 0, 0, 10, 0, 0, 2, 9, 10, 10, 0, 10, 9, 10, 0, 0, 4, 10, 0, 2, 4, 10, 10, 0, 0, 0, 0, 0, 9, 0, 5, 10, 9, 9, 10, 6, 10, 10, 2, 0, 2, 10, 9, 10, 6, 10, 10, 10, 0, 0, 8, 10, 0, 2, 0, 0, 10, 0, 0, 0, 10, 0, 9, 0, 10, 10, 0, 7, 9, 5, 10, 10, 4, 10, 10, 10, 0, 10, 10, 0, 10, 0, 10, 0, 1, 0, 0, 9, 0, 10, 10, 0, 1, 4, 10, 0, 0, 0, 0, 0, 10, 10, 0, 10, 8, 0, 10, 10, 10, 9, 10, 7, 9, 0, 0, 0, 7, 0, 0, 10, 10, 10, 10, 10, 10, 9, 10, 10, 0, 1, 0, 6, 10, 0, 10, 0, 8, 8, 9, 0, 0, 0, 9, 0, 10, 9, 0, 10, 10, 7, 10, 10, 2, 8, 10, 7, 0, 0, 0, 9, 8, 0, 10, 4, 0, 9, 10, 0, 0, 0, 10, 5, 0, 0, 10, 0, 0, 0, 10, 0, 10, 10, 0, 10, 0, 0, 10, 0, 0, 10, 10, 9, 0, 0, 0, 8, 0, 10, 9, 1, 10, 7, 10, 0, 0, 9, 10, 6, 10, 10, 0, 0, 0, 8, 10, 0, 10, 10, 0, 0, 0, 2, 10, 8, 9, 6, 9, 0, 10, 10, 5, 3, 0, 1, 0, 0, 10, 0, 9, 10, 0, 3, 10, 0, 0, 0, 0, 3, 8, 9, 0, 0, 10, 0, 10, 0, 0, 10, 10, 2, 10, 4, 9, 10, 0, 10, 0, 10, 0, 1, 0, 0, 4, 10, 2, 10, 5, 4, 10, 9, 10, 0, 0, 0, 10, 10, 10, 9, 10, 9, 10, 9, 0, 9, 7, 10, 0, 10, 10, 9, 10, 0, 8, 0, 5, 0, 9, 0, 0, 10, 9, 10, 10, 10, 9, 10, 0, 0, 0, 0, 10, 10, 10, 10, 9, 0, 10, 8, 0, 6, 10, 10, 0, 10, 5, 10, 8, 9, 8, 10, 10, 0, 10, 10, 10, 2, 0, 10, 10, 10, 0, 5, 10, 10, 10, 10, 6, 0, 10, 10, 0, 10, 1, 10, 0, 0, 2, 10, 0, 0, 0, 10, 10, 8, 10, 0, 10, 0, 2, 2, 0, 0, 10, 8, 2, 8, 0, 10, 10, 9, 0, 3, 10, 0, 10, 0, 10, 7, 6, 6, 9, 9, 0, 1, 0, 10, 10, 0, 0, 0, 0, 10, 10, 10, 10, 10, 10, 10, 0, 8, 4, 10, 9, 0, 7, 8, 7, 10, 0, 0, 9, 10, 0, 10, 9, 10, 0, 0, 10, 10, 10, 10, 0, 0, 9, 0, 0, 9, 9, 6, 10, 10, 0, 10, 7, 0, 0, 3, 0, 10, 10, 0, 10, 0, 0, 10, 0, 5, 1, 9, 7, 10, 7, 10, 10, 4, 0, 10, 7, 0, 10, 10, 9, 0, 10, 1, 0, 10, 0, 10, 10, 10, 9, 0, 9, 9, 10, 0, 0, 1, 0, 0, 8, 9, 1, 9, 0, 10, 9, 0, 3, 0, 10, 0, 8, 0, 0, 0, 0, 10, 10, 10, 9, 9, 8, 10, 10, 0, 3, 8, 10, 0, 0, 10, 0, 10, 0, 9, 10, 10, 10, 0, 10, 10, 0, 0, 10, 9, 10, 10, 0, 0, 0, 0, 10, 9, 1, 0, 0, 10, 10, 3, 10, 9, 10, 1, 8, 10, 0, 0, 10, 10, 9, 0, 0, 10, 0, 0, 10, 0, 0, 0, 0, 10, 10, 0, 10, 6, 0, 10, 0, 0, 0, 0, 0, 10, 10, 0, 10, 10, 8, 1, 0, 0, 10, 10, 1, 0, 6, 0, 10, 10, 10, 10, 10, 7, 10, 2, 7, 0, 9, 10, 10, 7, 0, 1, 0, 0, 4, 9, 0, 4, 0, 0, 0, 10, 0, 10, 10, 0, 10, 0, 0, 10, 0, 0, 0, 10, 10, 0, 0]\n"
          ]
        }
      ],
      "source": [
        "print(mean_preds)\n",
        "print(mean_labels)"
      ]
    },
    {
      "cell_type": "markdown",
      "metadata": {
        "id": "F1D_MyBd9Hoj"
      },
      "source": [
        "Обучаем модель **с использованием CLS-пулинга**\n",
        "<br>В этом подходе мы используем встроенное pooled_output от RuBERT (токен [CLS])"
      ]
    },
    {
      "cell_type": "code",
      "execution_count": null,
      "metadata": {
        "id": "u45izIW5fW17"
      },
      "outputs": [],
      "source": [
        "cls_classifier = Classifier(pretrained, 'cls')\n",
        "cls_classifier = cls_classifier.to(device)\n",
        "\n",
        "cls_optimizer = torch.optim.AdamW(cls_classifier.parameters(), lr=5e-5)"
      ]
    },
    {
      "cell_type": "code",
      "execution_count": null,
      "metadata": {
        "colab": {
          "base_uri": "https://localhost:8080/"
        },
        "id": "keZzNjBuZ4KY",
        "outputId": "6e13163a-ab79-4c35-ebc5-945518e88665"
      },
      "outputs": [
        {
          "name": "stderr",
          "output_type": "stream",
          "text": [
            "Training epoch 0/3...: 100%|██████████| 1830/1830 [03:20<00:00,  9.12it/s]\n"
          ]
        },
        {
          "name": "stdout",
          "output_type": "stream",
          "text": [
            "Training epoch 1/3: Training Loss: 0.1676\n"
          ]
        },
        {
          "name": "stderr",
          "output_type": "stream",
          "text": [
            "Validating epoch 0/3...: 100%|██████████| 229/229 [00:06<00:00, 36.46it/s]\n"
          ]
        },
        {
          "name": "stdout",
          "output_type": "stream",
          "text": [
            "Validating epoch 1/3: Validating Loss: 1.0120\n"
          ]
        },
        {
          "name": "stderr",
          "output_type": "stream",
          "text": [
            "Training epoch 1/3...: 100%|██████████| 1830/1830 [03:20<00:00,  9.14it/s]\n"
          ]
        },
        {
          "name": "stdout",
          "output_type": "stream",
          "text": [
            "Training epoch 2/3: Training Loss: 0.0463\n"
          ]
        },
        {
          "name": "stderr",
          "output_type": "stream",
          "text": [
            "Validating epoch 1/3...: 100%|██████████| 229/229 [00:06<00:00, 36.42it/s]\n"
          ]
        },
        {
          "name": "stdout",
          "output_type": "stream",
          "text": [
            "Validating epoch 2/3: Validating Loss: 1.0795\n"
          ]
        },
        {
          "name": "stderr",
          "output_type": "stream",
          "text": [
            "Training epoch 2/3...: 100%|██████████| 1830/1830 [03:20<00:00,  9.14it/s]\n"
          ]
        },
        {
          "name": "stdout",
          "output_type": "stream",
          "text": [
            "Training epoch 3/3: Training Loss: 0.0279\n"
          ]
        },
        {
          "name": "stderr",
          "output_type": "stream",
          "text": [
            "Validating epoch 2/3...: 100%|██████████| 229/229 [00:06<00:00, 36.54it/s]"
          ]
        },
        {
          "name": "stdout",
          "output_type": "stream",
          "text": [
            "Validating epoch 3/3: Validating Loss: 1.1522\n"
          ]
        },
        {
          "name": "stderr",
          "output_type": "stream",
          "text": [
            "\n"
          ]
        }
      ],
      "source": [
        "avg_train(cls_classifier, train_loader, val_loader, cls_optimizer)"
      ]
    },
    {
      "cell_type": "code",
      "execution_count": null,
      "metadata": {
        "colab": {
          "base_uri": "https://localhost:8080/"
        },
        "id": "thgB_WA8ZWHh",
        "outputId": "298dadb2-3fb3-48e3-c79b-aa4dfcfcbe22"
      },
      "outputs": [
        {
          "name": "stderr",
          "output_type": "stream",
          "text": [
            "100%|██████████| 458/458 [00:06<00:00, 70.01it/s]\n"
          ]
        }
      ],
      "source": [
        "cls_preds, cls_labels = eval_model(cls_classifier, test_loader)"
      ]
    },
    {
      "cell_type": "code",
      "execution_count": null,
      "metadata": {
        "colab": {
          "base_uri": "https://localhost:8080/"
        },
        "id": "e4W38mPgaOfx",
        "outputId": "c8bd8741-7fe1-4362-fee2-da4792bfe549"
      },
      "outputs": [
        {
          "name": "stdout",
          "output_type": "stream",
          "text": [
            "[1, 10, 0, 0, 0, 8, 10, 10, 9, 5, 0, 0, 10, 4, 10, 0, 10, 10, 10, 0, 10, 10, 10, 0, 0, 0, 10, 9, 10, 10, 0, 10, 10, 0, 0, 10, 9, 8, 10, 8, 10, 1, 9, 0, 10, 9, 10, 10, 7, 0, 10, 10, 10, 10, 0, 0, 10, 5, 10, 0, 3, 0, 8, 0, 5, 10, 7, 0, 0, 10, 0, 0, 10, 0, 7, 6, 1, 9, 0, 9, 0, 10, 0, 10, 0, 8, 0, 2, 0, 10, 10, 10, 0, 10, 3, 0, 0, 10, 10, 0, 10, 5, 10, 9, 6, 10, 8, 0, 10, 10, 0, 0, 10, 10, 10, 0, 0, 9, 0, 10, 10, 9, 10, 9, 0, 10, 0, 10, 10, 7, 0, 0, 10, 1, 0, 0, 10, 0, 0, 10, 9, 10, 0, 0, 0, 0, 10, 10, 10, 4, 10, 10, 9, 10, 5, 10, 3, 7, 0, 9, 7, 6, 9, 9, 10, 10, 10, 0, 9, 8, 0, 9, 10, 0, 7, 0, 0, 1, 10, 8, 5, 7, 8, 0, 0, 10, 6, 10, 10, 8, 10, 6, 10, 0, 0, 0, 0, 4, 0, 10, 0, 10, 10, 5, 0, 0, 0, 0, 9, 0, 8, 0, 10, 10, 0, 10, 10, 10, 10, 0, 10, 10, 10, 10, 0, 5, 0, 0, 10, 10, 8, 0, 10, 0, 1, 0, 10, 0, 0, 10, 10, 0, 9, 0, 10, 0, 10, 9, 0, 0, 10, 10, 1, 0, 0, 0, 0, 10, 6, 0, 0, 0, 10, 3, 10, 5, 0, 10, 1, 9, 5, 3, 9, 10, 0, 10, 0, 10, 10, 10, 0, 9, 4, 0, 0, 0, 10, 0, 10, 9, 9, 0, 0, 9, 0, 10, 6, 8, 0, 10, 9, 0, 10, 0, 10, 0, 0, 9, 8, 10, 10, 1, 0, 0, 9, 10, 0, 0, 0, 10, 10, 6, 0, 10, 10, 0, 10, 10, 0, 10, 0, 8, 9, 0, 7, 10, 0, 10, 3, 0, 10, 10, 10, 0, 8, 6, 10, 0, 0, 10, 10, 10, 10, 10, 10, 0, 10, 0, 0, 10, 1, 0, 9, 0, 10, 10, 0, 0, 0, 0, 10, 10, 9, 0, 10, 9, 10, 10, 10, 7, 10, 10, 0, 9, 9, 0, 1, 10, 0, 0, 10, 9, 4, 10, 10, 10, 10, 10, 7, 10, 7, 9, 10, 9, 10, 0, 10, 0, 0, 9, 10, 10, 10, 10, 10, 10, 0, 0, 0, 0, 6, 8, 10, 0, 0, 9, 2, 10, 10, 10, 3, 10, 0, 9, 0, 10, 0, 5, 10, 1, 0, 10, 0, 10, 0, 10, 0, 0, 10, 0, 10, 0, 10, 9, 0, 7, 10, 10, 0, 0, 10, 10, 10, 10, 0, 10, 10, 10, 10, 9, 5, 10, 0, 10, 4, 6, 7, 10, 10, 10, 5, 0, 10, 10, 10, 0, 10, 10, 10, 10, 0, 10, 10, 10, 10, 0, 0, 0, 10, 0, 0, 0, 0, 0, 3, 0, 0, 10, 10, 0, 10, 0, 10, 0, 10, 10, 0, 10, 10, 10, 10, 7, 0, 0, 0, 10, 8, 10, 0, 0, 10, 8, 10, 0, 10, 10, 5, 10, 0, 0, 10, 10, 9, 5, 9, 0, 0, 0, 10, 6, 8, 9, 0, 9, 10, 8, 9, 0, 9, 0, 9, 0, 0, 10, 10, 0, 0, 10, 0, 0, 0, 7, 7, 0, 8, 10, 0, 7, 10, 10, 8, 10, 10, 0, 10, 10, 10, 10, 10, 0, 0, 10, 0, 1, 10, 8, 10, 10, 10, 8, 0, 10, 10, 9, 10, 10, 9, 0, 0, 6, 0, 0, 10, 10, 10, 10, 0, 9, 10, 9, 6, 10, 10, 10, 10, 0, 0, 6, 0, 10, 10, 10, 1, 10, 4, 0, 10, 10, 0, 0, 10, 5, 7, 7, 0, 2, 6, 0, 0, 8, 0, 10, 1, 10, 0, 10, 10, 9, 10, 9, 10, 10, 0, 0, 2, 10, 0, 10, 0, 10, 10, 0, 10, 10, 9, 0, 10, 0, 10, 0, 1, 9, 10, 0, 10, 0, 0, 0, 10, 0, 0, 4, 10, 9, 0, 3, 10, 9, 8, 10, 10, 10, 4, 0, 9, 10, 10, 0, 10, 10, 0, 0, 0, 10, 7, 9, 0, 10, 0, 0, 10, 0, 10, 8, 10, 0, 10, 10, 0, 0, 10, 0, 10, 0, 0, 0, 9, 9, 10, 7, 10, 10, 9, 0, 0, 9, 10, 0, 0, 10, 10, 10, 0, 10, 9, 8, 0, 8, 0, 1, 10, 10, 10, 9, 10, 9, 10, 9, 9, 10, 10, 0, 10, 10, 0, 10, 0, 0, 10, 8, 10, 8, 10, 10, 10, 10, 5, 4, 10, 0, 10, 10, 9, 9, 10, 0, 0, 10, 10, 0, 10, 0, 10, 0, 8, 0, 0, 0, 0, 0, 10, 10, 10, 0, 0, 10, 9, 0, 9, 10, 1, 0, 10, 7, 10, 8, 9, 10, 0, 10, 10, 0, 10, 9, 0, 10, 10, 0, 10, 9, 5, 0, 0, 9, 0, 10, 10, 10, 10, 0, 9, 10, 0, 4, 10, 0, 10, 10, 0, 10, 10, 10, 9, 10, 3, 4, 0, 0, 10, 10, 9, 0, 10, 9, 0, 0, 9, 10, 0, 0, 10, 10, 0, 10, 0, 10, 0, 0, 0, 10, 10, 0, 0, 0, 0, 10, 8, 0, 10, 10, 0, 9, 10, 9, 10, 9, 10, 9, 0, 10, 0, 0, 0, 0, 10, 10, 10, 10, 10, 0, 10, 10, 9, 10, 8, 9, 0, 0, 10, 10, 0, 9, 0, 10, 0, 0, 0, 0, 2, 10, 9, 9, 10, 0, 3, 10, 10, 0, 10, 8, 10, 3, 0, 10, 0, 10, 10, 0, 4, 10, 10, 0, 0, 3, 0, 0, 0, 10, 9, 0, 7, 3, 0, 10, 0, 10, 4, 7, 10, 10, 3, 6, 10, 9, 0, 10, 0, 0, 0, 0, 10, 10, 0, 0, 0, 0, 9, 0, 8, 10, 1, 9, 0, 10, 0, 0, 0, 0, 8, 0, 9, 10, 9, 10, 10, 0, 10, 0, 0, 0, 1, 0, 8, 9, 0, 0, 9, 0, 0, 0, 9, 0, 0, 10, 10, 0, 10, 0, 0, 0, 6, 10, 9, 9, 10, 0, 0, 10, 0, 10, 0, 8, 10, 0, 0, 8, 9, 0, 0, 9, 0, 0, 8, 10, 0, 0, 8, 0, 0, 0, 10, 0, 0, 0, 10, 0, 8, 0, 0, 0, 10, 0, 0, 5, 10, 0, 10, 10, 10, 0, 10, 0, 10, 0, 0, 1, 8, 0, 10, 0, 9, 0, 10, 0, 7, 0, 7, 0, 0, 9, 0, 1, 0, 2, 10, 10, 0, 10, 10, 10, 10, 10, 10, 8, 0, 10, 10, 10, 0, 8, 0, 10, 10, 10, 5, 10, 10, 10, 0, 9, 0, 10, 10, 0, 8, 0, 10, 0, 10, 10, 0, 9, 10, 0, 10, 0, 10, 0, 0, 2, 8, 0, 9, 0, 0, 0, 0, 0, 0, 10, 0, 0, 4, 0, 10, 8, 0, 0, 0, 5, 9, 10, 10, 10, 8, 0, 0, 9, 10, 10, 10, 0, 8, 9, 10, 0, 10, 9, 10, 10, 10, 2, 6, 7, 0, 4, 10, 0, 10, 10, 0, 3, 0, 10, 10, 0, 10, 10, 0, 0, 10, 0, 10, 0, 10, 10, 0, 3, 0, 10, 0, 0, 8, 10, 0, 9, 9, 10, 10, 10, 10, 0, 0, 10, 10, 0, 8, 0, 10, 10, 0, 10, 10, 0, 10, 4, 10, 0, 0, 9, 9, 10, 10, 9, 0, 0, 0, 0, 0, 10, 5, 0, 10, 10, 10, 10, 10, 10, 9, 10, 6, 1, 0, 10, 10, 0, 6, 10, 0, 0, 10, 10, 10, 8, 10, 0, 10, 10, 0, 10, 0, 0, 10, 9, 5, 0, 10, 0, 10, 0, 10, 0, 4, 0, 0, 6, 10, 0, 10, 8, 9, 8, 8, 10, 10, 10, 0, 0, 0, 10, 0, 0, 10, 10, 10, 0, 10, 8, 0, 9, 10, 0, 0, 8, 0, 10, 9, 0, 10, 0, 8, 10, 10, 0, 10, 9, 10, 10, 0, 9, 10, 0, 10, 10, 10, 1, 9, 10, 10, 8, 10, 9, 10, 0, 0, 0, 0, 2, 10, 10, 10, 8, 10, 9, 0, 10, 10, 6, 0, 10, 9, 10, 10, 10, 0, 10, 3, 10, 0, 0, 0, 0, 0, 10, 10, 9, 5, 10, 10, 9, 0, 7, 10, 10, 0, 0, 8, 7, 8, 0, 10, 10, 0, 10, 0, 10, 0, 10, 10, 10, 4, 0, 0, 0, 10, 1, 9, 2, 10, 10, 3, 10, 0, 0, 0, 0, 0, 7, 5, 10, 8, 0, 10, 10, 10, 0, 10, 0, 10, 10, 0, 10, 0, 0, 0, 0, 2, 0, 0, 10, 10, 10, 9, 10, 10, 0, 8, 0, 10, 10, 0, 0, 10, 7, 0, 0, 0, 5, 8, 10, 10, 10, 0, 10, 10, 9, 9, 0, 0, 0, 10, 0, 10, 0, 0, 0, 10, 10, 10, 10, 10, 10, 10, 0, 10, 0, 0, 0, 0, 10, 1, 2, 10, 10, 9, 0, 0, 10, 9, 10, 10, 0, 10, 10, 10, 0, 0, 0, 10, 10, 1, 9, 0, 2, 6, 0, 0, 10, 0, 10, 10, 8, 0, 8, 0, 9, 10, 0, 9, 10, 0, 0, 10, 0, 10, 10, 10, 0, 10, 10, 0, 10, 0, 10, 0, 10, 0, 10, 0, 0, 10, 6, 10, 0, 10, 0, 10, 10, 10, 10, 1, 0, 10, 0, 10, 10, 10, 9, 10, 0, 4, 0, 0, 10, 0, 0, 0, 0, 0, 8, 1, 10, 4, 0, 2, 10, 10, 10, 0, 0, 0, 10, 0, 0, 0, 0, 0, 9, 0, 10, 0, 1, 5, 10, 10, 10, 10, 9, 0, 10, 0, 0, 7, 0, 10, 0, 6, 0, 10, 0, 0, 10, 10, 10, 10, 0, 10, 9, 9, 5, 10, 0, 5, 10, 4, 0, 10, 0, 0, 0, 10, 0, 10, 8, 10, 10, 0, 9, 0, 10, 0, 10, 0, 9, 10, 5, 10, 7, 8, 10, 10, 10, 10, 10, 10, 10, 0, 10, 10, 10, 0, 0, 0, 10, 10, 10, 9, 10, 10, 10, 10, 0, 6, 3, 9, 10, 6, 8, 8, 0, 10, 0, 0, 10, 0, 10, 9, 10, 0, 10, 0, 0, 10, 10, 10, 1, 0, 0, 0, 0, 10, 8, 10, 10, 0, 0, 7, 0, 10, 0, 10, 10, 10, 10, 0, 0, 0, 9, 10, 10, 10, 10, 8, 10, 0, 8, 0, 10, 0, 10, 10, 10, 9, 10, 0, 10, 9, 10, 10, 7, 0, 0, 0, 8, 10, 0, 0, 8, 4, 0, 10, 0, 0, 0, 10, 10, 0, 10, 10, 0, 0, 10, 0, 0, 0, 0, 0, 10, 0, 5, 10, 10, 10, 0, 10, 0, 0, 9, 7, 10, 10, 2, 10, 0, 0, 8, 10, 0, 0, 0, 8, 8, 7, 0, 0, 10, 10, 0, 0, 10, 10, 10, 0, 10, 10, 8, 10, 8, 7, 2, 10, 0, 10, 10, 0, 7, 10, 3, 0, 9, 8, 10, 0, 10, 10, 0, 10, 0, 10, 5, 0, 10, 3, 10, 0, 0, 10, 10, 0, 10, 10, 1, 8, 0, 10, 0, 0, 10, 3, 0, 0, 9, 0, 0, 0, 10, 10, 0, 10, 0, 0, 9, 7, 0, 10, 10, 10, 0, 0, 10, 0, 0, 10, 0, 10, 0, 8, 10, 10, 10, 10, 0, 0, 10, 10, 10, 0, 0, 0, 10, 10, 0, 0, 0, 0, 0, 10, 10, 8, 10, 10, 9, 10, 10, 0, 9, 10, 9, 10, 0, 0, 10, 10, 0, 10, 0, 10, 3, 9, 0, 0, 0, 10, 10, 10, 0, 0, 10, 9, 10, 10, 9, 10, 5, 3, 10, 10, 0, 5, 1, 8, 10, 10, 10, 0, 10, 10, 10, 0, 0, 8, 8, 9, 2, 0, 0, 10, 10, 8, 10, 10, 0, 10, 10, 0, 0, 10, 9, 0, 0, 10, 0, 0, 10, 0, 10, 0, 0, 0, 0, 10, 0, 0, 10, 10, 0, 10, 10, 10, 10, 10, 9, 10, 4, 10, 10, 0, 0, 0, 0, 10, 0, 8, 10, 10, 0, 10, 0, 0, 0, 0, 8, 7, 5, 10, 10, 8, 5, 10, 0, 10, 0, 0, 0, 0, 0, 10, 1, 0, 10, 10, 10, 10, 10, 8, 0, 9, 10, 7, 1, 0, 0, 7, 10, 4, 10, 8, 10, 0, 10, 0, 0, 10, 10, 10, 10, 0, 5, 0, 10, 6, 10, 9, 0, 10, 8, 10, 10, 0, 10, 7, 10, 10, 0, 0, 10, 0, 10, 10, 0, 10, 9, 9, 10, 9, 10, 10, 10, 10, 9, 5, 10, 9, 8, 10, 10, 10, 0, 0, 0, 0, 10, 10, 10, 1, 3, 2, 1, 0, 10, 0, 5, 10, 7, 0, 0, 7, 0, 10, 10, 10, 0, 6, 10, 6, 10, 0, 10, 0, 8, 10, 10, 0, 9, 0, 10, 10, 10, 0, 1, 5, 0, 0, 0, 1, 8, 10, 0, 10, 0, 9, 9, 10, 3, 1, 10, 9, 0, 9, 9, 10, 0, 10, 10, 10, 0, 10, 0, 10, 10, 10, 0, 10, 0, 10, 10, 10, 8, 0, 10, 10, 10, 10, 0, 0, 0, 2, 9, 0, 0, 7, 10, 0, 10, 0, 9, 10, 0, 9, 10, 0, 0, 10, 10, 10, 0, 10, 0, 10, 9, 8, 0, 2, 10, 0, 0, 4, 10, 7, 9, 0, 5, 0, 10, 6, 10, 4, 3, 0, 10, 2, 0, 0, 10, 10, 0, 0, 0, 10, 9, 10, 8, 10, 10, 10, 0, 1, 9, 10, 6, 7, 0, 10, 10, 0, 9, 10, 5, 9, 5, 9, 8, 10, 0, 10, 10, 10, 10, 10, 0, 6, 10, 0, 0, 10, 0, 10, 0, 10, 10, 0, 10, 0, 10, 0, 0, 0, 0, 10, 10, 10, 0, 0, 0, 10, 0, 10, 10, 9, 10, 0, 3, 0, 0, 0, 0, 10, 0, 9, 10, 0, 8, 10, 0, 0, 2, 6, 9, 8, 0, 0, 10, 0, 10, 10, 9, 2, 0, 10, 10, 10, 10, 10, 10, 10, 8, 10, 9, 0, 10, 0, 10, 0, 10, 8, 0, 0, 0, 3, 10, 0, 5, 0, 10, 9, 2, 0, 10, 10, 10, 4, 0, 10, 10, 8, 10, 10, 0, 9, 0, 10, 0, 0, 0, 0, 10, 0, 10, 10, 9, 10, 0, 3, 10, 0, 9, 10, 0, 6, 0, 0, 10, 10, 0, 0, 7, 9, 9, 10, 9, 8, 10, 0, 10, 0, 10, 0, 9, 1, 0, 0, 0, 10, 0, 0, 10, 10, 2, 10, 10, 8, 10, 7, 2, 0, 10, 0, 9, 0, 10, 10, 0, 10, 0, 10, 0, 10, 10, 8, 10, 1, 10, 5, 10, 0, 10, 0, 10, 10, 0, 0, 10, 10, 10, 10, 9, 0, 10, 6, 10, 0, 10, 10, 0, 0, 10, 9, 0, 1, 0, 10, 2, 0, 10, 10, 8, 0, 0, 0, 10, 0, 0, 10, 10, 10, 10, 10, 0, 1, 0, 8, 0, 10, 10, 10, 0, 9, 10, 10, 0, 9, 1, 0, 0, 9, 10, 0, 0, 0, 10, 1, 10, 10, 0, 10, 0, 0, 10, 4, 10, 0, 0, 1, 9, 10, 10, 4, 10, 10, 10, 0, 0, 10, 10, 1, 0, 0, 0, 10, 10, 0, 9, 10, 10, 0, 0, 10, 10, 8, 0, 6, 9, 0, 8, 9, 0, 10, 10, 0, 10, 9, 10, 4, 9, 0, 10, 0, 8, 0, 0, 7, 0, 0, 0, 10, 0, 0, 8, 0, 8, 9, 4, 10, 10, 10, 10, 0, 1, 10, 10, 10, 10, 0, 0, 0, 0, 9, 0, 0, 10, 10, 10, 10, 10, 0, 0, 10, 9, 10, 0, 3, 10, 9, 10, 8, 10, 10, 10, 10, 8, 10, 10, 10, 10, 9, 10, 0, 0, 10, 0, 0, 7, 8, 0, 10, 0, 10, 0, 7, 10, 8, 0, 0, 0, 0, 10, 0, 0, 0, 0, 0, 0, 0, 0, 0, 6, 10, 0, 10, 10, 0, 10, 9, 4, 10, 0, 10, 6, 10, 7, 10, 10, 0, 0, 6, 3, 0, 10, 8, 7, 0, 8, 10, 2, 0, 0, 0, 0, 10, 10, 0, 9, 0, 0, 0, 10, 0, 9, 5, 0, 10, 10, 10, 0, 0, 10, 0, 0, 0, 10, 0, 2, 0, 0, 0, 10, 0, 0, 9, 0, 10, 9, 9, 10, 10, 9, 7, 10, 10, 10, 3, 0, 3, 10, 0, 10, 10, 10, 10, 10, 0, 0, 10, 0, 7, 10, 9, 0, 10, 10, 9, 9, 0, 9, 8, 0, 0, 4, 10, 10, 10, 0, 0, 10, 10, 0, 0, 10, 10, 10, 0, 9, 0, 0, 10, 8, 10, 10, 10, 0, 10, 0, 0, 0, 0, 10, 0, 10, 10, 0, 8, 10, 0, 5, 10, 9, 0, 10, 8, 10, 7, 10, 0, 0, 0, 0, 0, 0, 8, 9, 0, 10, 0, 0, 0, 10, 8, 10, 10, 0, 10, 0, 9, 10, 10, 9, 10, 10, 10, 0, 8, 0, 6, 0, 0, 0, 10, 10, 0, 10, 0, 0, 10, 10, 10, 10, 10, 0, 0, 2, 0, 0, 10, 0, 8, 9, 9, 3, 0, 0, 10, 0, 0, 10, 0, 0, 10, 6, 10, 10, 2, 0, 10, 7, 9, 0, 0, 10, 10, 9, 10, 10, 10, 0, 0, 0, 10, 0, 10, 0, 0, 10, 2, 0, 10, 0, 3, 10, 10, 0, 10, 8, 0, 10, 10, 9, 0, 10, 0, 10, 10, 1, 7, 0, 10, 10, 10, 10, 0, 10, 0, 0, 7, 0, 0, 10, 0, 0, 2, 9, 8, 3, 10, 8, 10, 0, 10, 9, 0, 10, 10, 9, 9, 1, 10, 10, 0, 0, 2, 0, 10, 10, 10, 4, 10, 0, 0, 10, 10, 10, 6, 6, 10, 10, 0, 10, 10, 10, 10, 0, 0, 0, 10, 0, 0, 2, 9, 10, 10, 0, 10, 9, 10, 0, 0, 0, 10, 0, 2, 4, 10, 10, 0, 0, 0, 0, 0, 9, 10, 5, 10, 9, 9, 10, 6, 10, 10, 2, 0, 0, 10, 9, 10, 0, 10, 10, 10, 10, 0, 10, 10, 0, 2, 0, 0, 10, 0, 0, 0, 10, 0, 0, 0, 10, 10, 0, 0, 9, 5, 10, 10, 4, 10, 10, 10, 0, 10, 10, 0, 9, 10, 10, 0, 1, 0, 10, 10, 0, 10, 10, 0, 1, 4, 10, 0, 0, 0, 0, 0, 10, 10, 0, 10, 8, 0, 10, 10, 10, 10, 10, 7, 9, 0, 0, 0, 7, 0, 0, 10, 10, 10, 10, 10, 10, 9, 10, 10, 0, 1, 0, 6, 10, 0, 10, 0, 8, 8, 9, 0, 0, 0, 9, 10, 10, 10, 0, 10, 10, 7, 10, 10, 2, 6, 0, 7, 0, 0, 0, 9, 8, 10, 10, 4, 0, 9, 0, 0, 0, 0, 10, 5, 10, 10, 10, 0, 10, 8, 10, 2, 10, 10, 10, 10, 10, 10, 9, 0, 0, 10, 10, 9, 0, 0, 0, 8, 0, 10, 10, 1, 10, 0, 10, 0, 0, 9, 10, 6, 10, 10, 0, 10, 0, 8, 10, 0, 10, 10, 0, 0, 0, 2, 10, 0, 0, 6, 9, 0, 10, 10, 5, 3, 0, 6, 0, 0, 10, 0, 9, 10, 0, 3, 10, 0, 0, 0, 0, 3, 10, 9, 0, 10, 10, 0, 10, 10, 0, 10, 10, 9, 10, 4, 9, 10, 10, 10, 0, 10, 0, 1, 0, 10, 4, 10, 2, 10, 0, 10, 10, 9, 10, 0, 0, 0, 10, 10, 10, 9, 10, 10, 10, 9, 0, 9, 7, 10, 0, 10, 10, 9, 10, 0, 10, 0, 5, 0, 9, 0, 0, 10, 9, 10, 10, 10, 10, 10, 0, 0, 0, 0, 0, 10, 10, 10, 0, 0, 10, 8, 10, 6, 0, 10, 0, 10, 5, 10, 10, 9, 0, 10, 0, 0, 10, 10, 0, 2, 9, 10, 10, 10, 0, 5, 10, 10, 10, 10, 6, 0, 10, 10, 0, 10, 1, 10, 9, 0, 2, 10, 0, 0, 0, 10, 10, 8, 10, 0, 10, 0, 2, 2, 10, 0, 10, 8, 2, 8, 0, 10, 10, 9, 0, 3, 10, 0, 10, 0, 10, 7, 6, 6, 9, 9, 10, 1, 0, 10, 10, 0, 0, 10, 10, 10, 10, 10, 10, 10, 10, 10, 0, 8, 4, 10, 10, 0, 7, 8, 7, 10, 0, 0, 9, 10, 6, 10, 9, 10, 0, 0, 0, 10, 10, 10, 0, 0, 9, 0, 0, 10, 10, 0, 10, 9, 10, 10, 7, 0, 0, 5, 0, 10, 0, 0, 10, 10, 0, 10, 0, 0, 1, 9, 7, 10, 7, 10, 10, 4, 0, 10, 7, 10, 10, 10, 10, 0, 10, 1, 0, 10, 7, 10, 10, 10, 9, 0, 9, 9, 10, 0, 0, 1, 0, 0, 8, 9, 1, 9, 1, 10, 9, 0, 1, 0, 10, 9, 10, 9, 0, 0, 0, 10, 10, 10, 9, 9, 8, 10, 10, 0, 3, 8, 10, 0, 0, 10, 0, 10, 0, 10, 10, 10, 10, 0, 9, 10, 0, 0, 0, 9, 10, 10, 0, 0, 0, 0, 10, 10, 1, 0, 0, 10, 10, 3, 0, 9, 10, 1, 8, 10, 0, 10, 10, 10, 9, 0, 0, 10, 5, 0, 10, 0, 0, 0, 0, 10, 10, 0, 10, 6, 0, 10, 0, 9, 0, 0, 0, 10, 10, 10, 10, 10, 8, 0, 0, 0, 10, 10, 1, 0, 6, 0, 10, 10, 10, 10, 10, 10, 10, 2, 0, 10, 9, 10, 10, 7, 0, 1, 0, 0, 4, 10, 0, 4, 0, 0, 0, 10, 0, 10, 10, 0, 10, 0, 0, 10, 0, 10, 10, 10, 10, 0, 10]\n",
            "[1, 10, 0, 9, 0, 8, 10, 9, 0, 5, 10, 0, 10, 4, 10, 0, 10, 10, 10, 0, 10, 10, 10, 10, 0, 0, 10, 9, 10, 10, 0, 0, 10, 0, 0, 10, 6, 8, 10, 8, 10, 1, 0, 0, 10, 0, 0, 10, 7, 0, 10, 10, 10, 9, 0, 0, 10, 5, 10, 0, 3, 9, 8, 0, 5, 10, 7, 0, 1, 10, 0, 0, 10, 0, 7, 6, 1, 0, 0, 9, 10, 10, 0, 0, 0, 8, 0, 2, 4, 10, 0, 10, 1, 10, 3, 0, 0, 10, 10, 0, 10, 5, 0, 9, 6, 10, 8, 0, 10, 7, 0, 0, 0, 10, 10, 0, 0, 5, 0, 10, 0, 9, 10, 9, 0, 10, 0, 10, 10, 7, 9, 0, 0, 1, 9, 0, 10, 0, 0, 10, 4, 0, 5, 1, 10, 0, 9, 10, 0, 4, 10, 10, 9, 10, 5, 10, 3, 7, 0, 9, 9, 7, 9, 8, 10, 10, 10, 0, 9, 8, 0, 9, 10, 5, 0, 0, 0, 0, 10, 8, 5, 7, 8, 10, 0, 10, 6, 10, 0, 8, 0, 8, 10, 0, 0, 0, 0, 4, 0, 10, 0, 10, 10, 5, 0, 0, 0, 0, 9, 0, 8, 0, 0, 10, 0, 10, 10, 10, 10, 0, 10, 8, 10, 10, 0, 9, 0, 0, 0, 10, 8, 0, 0, 9, 1, 0, 10, 10, 0, 10, 10, 9, 9, 0, 0, 0, 10, 9, 9, 0, 10, 10, 1, 0, 0, 0, 0, 10, 6, 0, 0, 1, 10, 3, 10, 3, 0, 10, 1, 9, 5, 3, 9, 10, 0, 8, 10, 0, 10, 10, 10, 9, 4, 0, 0, 2, 10, 0, 10, 9, 9, 10, 0, 9, 0, 9, 6, 8, 0, 10, 9, 0, 0, 1, 10, 0, 0, 9, 8, 0, 10, 1, 0, 0, 9, 10, 0, 0, 0, 0, 10, 6, 0, 10, 10, 0, 10, 10, 0, 10, 0, 8, 9, 0, 7, 0, 0, 10, 3, 0, 10, 10, 10, 0, 0, 6, 10, 0, 10, 10, 0, 10, 10, 10, 10, 0, 9, 0, 10, 10, 0, 0, 9, 0, 9, 10, 10, 0, 0, 0, 10, 10, 0, 0, 10, 9, 10, 10, 10, 7, 10, 10, 0, 9, 0, 0, 1, 10, 0, 0, 10, 9, 4, 10, 10, 10, 0, 10, 7, 10, 7, 0, 10, 9, 0, 0, 10, 8, 0, 0, 10, 10, 10, 5, 8, 10, 8, 9, 9, 10, 6, 8, 8, 10, 0, 9, 2, 10, 10, 9, 3, 10, 0, 9, 0, 7, 0, 9, 10, 1, 0, 10, 0, 10, 0, 0, 8, 0, 10, 0, 9, 0, 10, 10, 0, 7, 10, 10, 0, 0, 10, 10, 0, 10, 0, 8, 0, 10, 10, 9, 5, 10, 10, 10, 4, 6, 0, 10, 10, 10, 5, 10, 10, 10, 10, 0, 0, 8, 10, 0, 0, 10, 10, 10, 10, 0, 0, 0, 10, 0, 4, 0, 10, 0, 0, 9, 0, 10, 10, 0, 10, 0, 8, 0, 10, 10, 0, 10, 10, 10, 10, 7, 0, 0, 0, 10, 8, 10, 0, 0, 10, 0, 10, 0, 0, 10, 5, 10, 0, 0, 10, 10, 10, 3, 9, 0, 0, 0, 10, 6, 8, 9, 0, 8, 10, 8, 10, 0, 9, 7, 9, 0, 0, 0, 10, 0, 0, 10, 0, 0, 0, 7, 7, 0, 8, 10, 10, 7, 10, 10, 8, 10, 9, 0, 10, 10, 0, 10, 10, 8, 0, 10, 0, 1, 10, 3, 10, 10, 10, 8, 0, 10, 10, 9, 10, 10, 6, 0, 0, 6, 1, 0, 10, 0, 10, 10, 0, 9, 10, 0, 6, 10, 0, 10, 10, 0, 0, 0, 10, 0, 10, 10, 1, 10, 4, 0, 10, 10, 0, 0, 10, 5, 7, 7, 0, 2, 6, 10, 10, 8, 2, 10, 1, 0, 0, 10, 10, 9, 9, 9, 10, 10, 0, 10, 2, 10, 0, 10, 0, 10, 10, 0, 10, 0, 9, 0, 10, 0, 0, 0, 1, 9, 10, 0, 10, 0, 0, 0, 10, 0, 0, 4, 10, 8, 1, 3, 0, 9, 8, 10, 10, 10, 4, 0, 9, 10, 10, 10, 10, 0, 0, 0, 0, 3, 0, 9, 0, 10, 0, 9, 0, 0, 10, 8, 10, 0, 10, 10, 0, 0, 10, 0, 10, 0, 0, 0, 9, 9, 10, 7, 10, 10, 9, 0, 0, 9, 10, 0, 0, 10, 10, 10, 0, 10, 9, 8, 0, 8, 0, 1, 10, 10, 10, 9, 10, 9, 10, 9, 9, 10, 10, 7, 10, 10, 0, 10, 0, 10, 10, 10, 10, 8, 10, 10, 10, 10, 5, 4, 10, 0, 10, 10, 10, 9, 10, 0, 0, 10, 0, 0, 10, 0, 0, 0, 8, 3, 6, 0, 0, 0, 10, 10, 9, 0, 0, 10, 0, 0, 10, 10, 1, 0, 10, 7, 10, 8, 9, 10, 0, 10, 10, 0, 0, 9, 0, 10, 0, 0, 0, 0, 5, 0, 0, 10, 0, 10, 10, 0, 10, 0, 0, 10, 0, 4, 0, 0, 10, 10, 0, 10, 10, 10, 10, 10, 3, 4, 0, 10, 9, 0, 9, 0, 10, 0, 0, 0, 9, 10, 0, 0, 10, 10, 0, 10, 0, 10, 0, 0, 0, 10, 10, 7, 4, 0, 0, 10, 0, 0, 8, 10, 0, 9, 10, 10, 10, 10, 0, 9, 0, 10, 0, 0, 0, 0, 10, 10, 10, 10, 10, 0, 10, 0, 9, 10, 8, 9, 0, 0, 10, 10, 0, 5, 0, 0, 0, 0, 0, 0, 2, 10, 9, 9, 10, 9, 3, 10, 9, 0, 0, 7, 10, 0, 0, 0, 0, 0, 10, 0, 4, 10, 10, 0, 0, 3, 0, 0, 0, 0, 9, 10, 7, 3, 0, 10, 0, 10, 4, 7, 10, 10, 3, 0, 10, 9, 0, 10, 0, 0, 0, 1, 10, 10, 0, 0, 0, 0, 9, 3, 8, 0, 1, 9, 7, 9, 0, 0, 0, 0, 8, 10, 0, 10, 9, 10, 10, 0, 10, 0, 0, 0, 1, 0, 8, 9, 0, 0, 9, 0, 0, 0, 9, 0, 0, 10, 10, 0, 10, 8, 0, 0, 6, 10, 9, 9, 10, 0, 0, 10, 0, 10, 0, 8, 10, 0, 1, 8, 9, 0, 0, 9, 0, 0, 8, 10, 0, 0, 8, 0, 0, 0, 10, 0, 0, 10, 10, 0, 8, 0, 0, 0, 10, 0, 0, 5, 10, 0, 0, 10, 10, 0, 10, 0, 10, 0, 0, 1, 8, 0, 10, 0, 9, 0, 10, 0, 7, 3, 7, 0, 0, 9, 0, 1, 0, 2, 10, 10, 0, 10, 10, 10, 0, 10, 10, 0, 0, 10, 10, 10, 9, 8, 0, 10, 8, 10, 5, 0, 10, 10, 0, 9, 8, 0, 10, 0, 8, 0, 10, 0, 10, 10, 6, 0, 10, 10, 10, 0, 10, 8, 0, 2, 8, 0, 9, 0, 0, 0, 0, 0, 8, 0, 0, 0, 4, 10, 10, 8, 0, 0, 0, 5, 9, 0, 10, 10, 8, 0, 0, 9, 10, 10, 10, 0, 8, 9, 0, 3, 10, 9, 10, 10, 10, 2, 6, 7, 10, 4, 10, 0, 10, 10, 0, 3, 0, 10, 0, 0, 10, 10, 2, 0, 0, 0, 10, 0, 10, 10, 8, 3, 0, 10, 0, 0, 8, 10, 0, 9, 9, 10, 10, 10, 10, 10, 0, 0, 0, 0, 8, 0, 10, 10, 0, 10, 10, 0, 0, 4, 10, 0, 0, 9, 9, 10, 10, 9, 9, 0, 9, 0, 0, 0, 5, 0, 10, 10, 0, 10, 10, 10, 10, 0, 6, 1, 0, 10, 10, 0, 6, 10, 10, 0, 10, 10, 10, 8, 0, 7, 10, 10, 0, 10, 10, 0, 10, 9, 5, 0, 10, 0, 10, 0, 10, 0, 4, 0, 5, 6, 10, 10, 10, 8, 9, 8, 8, 8, 10, 10, 0, 0, 0, 10, 0, 0, 10, 10, 10, 0, 10, 8, 0, 0, 10, 7, 0, 8, 0, 10, 9, 0, 10, 0, 8, 10, 10, 0, 10, 10, 10, 10, 0, 9, 10, 10, 8, 10, 0, 1, 0, 10, 10, 8, 10, 9, 10, 0, 0, 0, 0, 2, 0, 10, 10, 8, 0, 10, 10, 10, 10, 0, 0, 10, 9, 10, 10, 10, 0, 10, 3, 10, 10, 0, 0, 10, 0, 10, 9, 9, 0, 10, 10, 9, 0, 7, 10, 10, 0, 0, 8, 7, 8, 0, 10, 10, 0, 10, 0, 10, 0, 10, 10, 8, 4, 0, 0, 0, 10, 1, 9, 3, 0, 10, 3, 10, 0, 0, 0, 0, 0, 7, 5, 8, 8, 6, 0, 9, 9, 0, 10, 0, 10, 0, 0, 10, 0, 0, 1, 0, 2, 1, 0, 10, 10, 10, 9, 0, 10, 0, 8, 10, 10, 0, 0, 0, 0, 7, 0, 0, 0, 5, 8, 10, 10, 10, 0, 2, 0, 0, 10, 10, 0, 0, 10, 10, 10, 10, 0, 0, 10, 0, 0, 10, 10, 10, 9, 0, 10, 0, 0, 0, 9, 10, 1, 2, 10, 0, 9, 0, 0, 10, 9, 0, 10, 0, 0, 10, 10, 0, 0, 0, 0, 10, 1, 9, 0, 2, 10, 0, 0, 10, 0, 10, 10, 8, 0, 8, 0, 3, 0, 0, 9, 10, 0, 0, 10, 9, 0, 10, 0, 0, 10, 10, 0, 10, 0, 10, 0, 10, 0, 10, 0, 9, 10, 6, 10, 0, 10, 8, 7, 8, 10, 10, 1, 0, 8, 0, 10, 10, 10, 0, 10, 6, 4, 0, 0, 10, 0, 0, 0, 0, 0, 8, 1, 10, 4, 0, 2, 10, 0, 8, 0, 0, 1, 10, 0, 0, 0, 10, 0, 6, 0, 10, 0, 1, 5, 10, 10, 0, 0, 9, 0, 10, 0, 0, 7, 0, 10, 0, 3, 0, 10, 0, 0, 10, 10, 10, 0, 0, 10, 9, 9, 5, 10, 0, 5, 9, 4, 0, 10, 0, 0, 10, 0, 0, 10, 8, 7, 0, 0, 10, 0, 10, 0, 9, 0, 5, 10, 5, 10, 7, 8, 10, 10, 8, 10, 10, 10, 10, 0, 10, 0, 10, 6, 0, 0, 10, 10, 8, 9, 10, 10, 10, 10, 0, 1, 3, 9, 10, 6, 8, 8, 0, 10, 0, 0, 0, 0, 10, 9, 10, 0, 10, 0, 0, 10, 10, 10, 1, 0, 0, 0, 0, 10, 0, 10, 10, 6, 0, 7, 0, 10, 10, 0, 10, 10, 10, 0, 0, 10, 9, 10, 10, 10, 10, 8, 10, 0, 8, 10, 10, 0, 10, 10, 10, 9, 10, 0, 10, 9, 10, 10, 7, 0, 0, 0, 8, 0, 0, 0, 8, 4, 0, 10, 0, 0, 0, 10, 10, 9, 0, 10, 10, 0, 10, 0, 0, 10, 0, 0, 0, 0, 5, 9, 10, 10, 0, 10, 0, 0, 9, 0, 8, 10, 2, 10, 0, 0, 8, 10, 0, 0, 0, 8, 8, 7, 6, 0, 8, 10, 0, 10, 10, 10, 10, 0, 10, 10, 8, 10, 8, 7, 1, 10, 10, 10, 10, 0, 7, 10, 3, 10, 9, 8, 10, 0, 0, 10, 0, 10, 10, 10, 5, 0, 10, 3, 0, 0, 0, 0, 10, 0, 10, 8, 1, 8, 2, 0, 0, 0, 10, 3, 0, 0, 0, 0, 0, 0, 10, 10, 9, 0, 0, 0, 9, 7, 0, 10, 10, 10, 0, 0, 10, 0, 0, 10, 0, 10, 0, 8, 10, 1, 10, 10, 0, 0, 10, 10, 10, 0, 0, 0, 10, 10, 0, 0, 0, 0, 0, 10, 10, 0, 10, 10, 0, 10, 10, 0, 9, 10, 9, 10, 0, 0, 10, 10, 0, 6, 0, 10, 3, 9, 8, 2, 0, 10, 10, 9, 0, 0, 10, 9, 10, 0, 9, 9, 6, 3, 10, 10, 0, 0, 1, 0, 10, 8, 10, 0, 10, 9, 10, 0, 5, 0, 8, 9, 2, 0, 0, 10, 10, 8, 0, 10, 0, 10, 10, 0, 0, 10, 0, 0, 0, 10, 0, 0, 10, 7, 10, 0, 0, 0, 0, 10, 0, 8, 10, 10, 0, 10, 10, 10, 10, 10, 9, 10, 4, 10, 10, 0, 0, 5, 10, 10, 0, 8, 10, 10, 0, 10, 0, 0, 0, 0, 8, 7, 5, 10, 0, 4, 0, 0, 0, 10, 0, 0, 0, 0, 0, 8, 10, 0, 10, 10, 10, 10, 10, 8, 0, 10, 10, 7, 1, 0, 7, 7, 10, 4, 7, 8, 10, 0, 10, 0, 0, 10, 0, 10, 10, 0, 5, 0, 10, 2, 10, 7, 1, 10, 0, 10, 0, 0, 10, 7, 10, 10, 0, 0, 10, 0, 10, 10, 0, 10, 9, 9, 10, 9, 10, 10, 10, 10, 10, 5, 10, 9, 8, 5, 10, 10, 0, 0, 9, 9, 10, 10, 10, 1, 3, 2, 1, 0, 2, 0, 5, 10, 7, 0, 0, 7, 0, 10, 10, 10, 0, 6, 10, 6, 10, 0, 0, 0, 0, 0, 10, 0, 9, 0, 10, 10, 10, 0, 1, 5, 0, 0, 0, 1, 8, 10, 0, 10, 9, 10, 9, 8, 3, 1, 10, 9, 2, 9, 6, 10, 0, 10, 10, 10, 0, 10, 0, 10, 10, 5, 0, 8, 0, 0, 9, 10, 8, 0, 10, 10, 10, 10, 10, 0, 0, 0, 9, 0, 0, 7, 10, 10, 10, 0, 0, 10, 0, 9, 0, 6, 0, 10, 10, 10, 0, 10, 0, 0, 9, 8, 0, 2, 10, 0, 0, 1, 10, 7, 9, 5, 5, 0, 10, 6, 10, 4, 3, 0, 0, 0, 0, 0, 10, 10, 0, 0, 0, 0, 0, 0, 0, 10, 8, 10, 0, 1, 9, 0, 6, 5, 0, 10, 10, 0, 9, 10, 5, 9, 1, 0, 9, 10, 0, 9, 10, 10, 10, 10, 0, 4, 10, 0, 0, 10, 0, 10, 0, 10, 10, 0, 0, 10, 0, 0, 0, 0, 0, 10, 10, 0, 8, 3, 10, 10, 0, 10, 10, 9, 10, 0, 3, 0, 7, 0, 0, 10, 0, 9, 10, 0, 8, 10, 0, 0, 0, 0, 9, 8, 0, 0, 10, 0, 10, 0, 7, 2, 0, 10, 10, 10, 10, 10, 10, 10, 8, 0, 9, 0, 10, 10, 10, 0, 0, 0, 0, 10, 0, 3, 0, 0, 1, 0, 10, 0, 2, 0, 10, 10, 10, 4, 0, 10, 0, 8, 10, 10, 0, 9, 0, 10, 0, 5, 0, 0, 10, 0, 10, 10, 9, 10, 0, 3, 10, 0, 7, 10, 0, 0, 0, 0, 10, 10, 0, 0, 8, 9, 4, 4, 9, 8, 10, 0, 10, 0, 10, 0, 0, 1, 0, 0, 8, 10, 4, 0, 10, 10, 1, 10, 10, 0, 10, 0, 2, 10, 10, 0, 9, 0, 10, 10, 10, 10, 0, 10, 0, 10, 10, 8, 10, 1, 0, 0, 10, 0, 10, 0, 0, 10, 0, 0, 10, 10, 10, 10, 0, 0, 10, 6, 10, 0, 10, 10, 0, 0, 10, 9, 0, 1, 0, 10, 2, 0, 10, 10, 8, 0, 0, 0, 10, 0, 7, 10, 6, 10, 10, 0, 0, 1, 0, 8, 0, 10, 10, 10, 0, 0, 10, 10, 0, 9, 1, 0, 0, 9, 0, 9, 0, 10, 10, 1, 0, 0, 0, 10, 0, 5, 0, 4, 10, 0, 0, 1, 0, 0, 10, 4, 0, 0, 10, 9, 0, 10, 10, 1, 0, 0, 0, 10, 0, 0, 9, 10, 10, 0, 0, 10, 0, 8, 8, 6, 9, 0, 0, 9, 0, 0, 10, 0, 10, 9, 10, 4, 10, 10, 10, 0, 8, 0, 0, 7, 0, 0, 5, 10, 0, 0, 8, 0, 8, 10, 7, 10, 10, 10, 10, 0, 1, 0, 10, 10, 0, 0, 8, 8, 0, 9, 0, 0, 0, 10, 0, 10, 10, 0, 0, 10, 8, 10, 0, 3, 10, 10, 10, 8, 10, 8, 10, 0, 10, 10, 10, 10, 10, 10, 10, 0, 0, 0, 0, 0, 7, 8, 0, 10, 0, 10, 0, 0, 10, 8, 0, 0, 0, 0, 0, 0, 0, 0, 0, 1, 0, 0, 0, 0, 6, 10, 0, 0, 10, 0, 0, 9, 4, 10, 0, 10, 6, 10, 7, 10, 0, 10, 0, 6, 3, 0, 10, 8, 7, 0, 8, 10, 2, 0, 0, 0, 0, 10, 10, 0, 9, 2, 0, 0, 10, 0, 9, 3, 0, 10, 0, 10, 0, 0, 10, 0, 0, 0, 10, 0, 2, 0, 0, 0, 10, 0, 8, 9, 0, 10, 9, 9, 0, 0, 0, 7, 9, 10, 10, 3, 0, 3, 0, 0, 10, 10, 0, 10, 9, 0, 0, 0, 0, 7, 10, 9, 0, 10, 0, 9, 0, 0, 9, 8, 5, 0, 4, 10, 10, 10, 0, 0, 10, 10, 0, 9, 10, 10, 10, 0, 6, 0, 10, 10, 8, 10, 10, 10, 0, 10, 0, 0, 0, 0, 0, 0, 10, 1, 10, 0, 10, 0, 5, 10, 9, 0, 10, 8, 10, 10, 10, 0, 0, 2, 0, 10, 0, 8, 10, 0, 10, 0, 0, 0, 10, 8, 10, 10, 0, 0, 10, 9, 10, 10, 9, 10, 9, 10, 0, 8, 0, 6, 0, 0, 10, 10, 10, 0, 10, 0, 0, 10, 10, 10, 10, 10, 0, 0, 0, 0, 0, 10, 0, 8, 9, 9, 3, 8, 0, 10, 0, 0, 10, 6, 5, 10, 6, 10, 10, 0, 0, 0, 7, 9, 0, 0, 10, 9, 9, 10, 10, 10, 0, 0, 0, 0, 0, 10, 0, 0, 10, 0, 0, 10, 10, 3, 0, 10, 0, 0, 7, 0, 9, 10, 8, 10, 10, 0, 10, 10, 1, 7, 0, 10, 0, 10, 10, 0, 10, 0, 0, 6, 0, 0, 10, 0, 10, 2, 9, 8, 3, 10, 8, 0, 10, 10, 0, 0, 10, 10, 9, 9, 1, 7, 10, 1, 0, 2, 0, 10, 0, 10, 3, 10, 0, 0, 10, 10, 10, 0, 6, 10, 9, 0, 10, 10, 10, 10, 0, 0, 0, 10, 0, 0, 2, 9, 10, 10, 0, 10, 9, 10, 0, 0, 4, 10, 0, 2, 4, 10, 10, 0, 0, 0, 0, 0, 9, 0, 5, 10, 9, 9, 10, 6, 10, 10, 2, 0, 2, 10, 9, 10, 6, 10, 10, 10, 0, 0, 8, 10, 0, 2, 0, 0, 10, 0, 0, 0, 10, 0, 9, 0, 10, 10, 0, 7, 9, 5, 10, 10, 4, 10, 10, 10, 0, 10, 10, 0, 10, 0, 10, 0, 1, 0, 0, 9, 0, 10, 10, 0, 1, 4, 10, 0, 0, 0, 0, 0, 10, 10, 0, 10, 8, 0, 10, 10, 10, 9, 10, 7, 9, 0, 0, 0, 7, 0, 0, 10, 10, 10, 10, 10, 10, 9, 10, 10, 0, 1, 0, 6, 10, 0, 10, 0, 8, 8, 9, 0, 0, 0, 9, 0, 10, 9, 0, 10, 10, 7, 10, 10, 2, 8, 10, 7, 0, 0, 0, 9, 8, 0, 10, 4, 0, 9, 10, 0, 0, 0, 10, 5, 0, 0, 10, 0, 0, 0, 10, 0, 10, 10, 0, 10, 0, 0, 10, 0, 0, 10, 10, 9, 0, 0, 0, 8, 0, 10, 9, 1, 10, 7, 10, 0, 0, 9, 10, 6, 10, 10, 0, 0, 0, 8, 10, 0, 10, 10, 0, 0, 0, 2, 10, 8, 9, 6, 9, 0, 10, 10, 5, 3, 0, 1, 0, 0, 10, 0, 9, 10, 0, 3, 10, 0, 0, 0, 0, 3, 8, 9, 0, 0, 10, 0, 10, 0, 0, 10, 10, 2, 10, 4, 9, 10, 0, 10, 0, 10, 0, 1, 0, 0, 4, 10, 2, 10, 5, 4, 10, 9, 10, 0, 0, 0, 10, 10, 10, 9, 10, 9, 10, 9, 0, 9, 7, 10, 0, 10, 10, 9, 10, 0, 8, 0, 5, 0, 9, 0, 0, 10, 9, 10, 10, 10, 9, 10, 0, 0, 0, 0, 10, 10, 10, 10, 9, 0, 10, 8, 0, 6, 10, 10, 0, 10, 5, 10, 8, 9, 8, 10, 10, 0, 10, 10, 10, 2, 0, 10, 10, 10, 0, 5, 10, 10, 10, 10, 6, 0, 10, 10, 0, 10, 1, 10, 0, 0, 2, 10, 0, 0, 0, 10, 10, 8, 10, 0, 10, 0, 2, 2, 0, 0, 10, 8, 2, 8, 0, 10, 10, 9, 0, 3, 10, 0, 10, 0, 10, 7, 6, 6, 9, 9, 0, 1, 0, 10, 10, 0, 0, 0, 0, 10, 10, 10, 10, 10, 10, 10, 0, 8, 4, 10, 9, 0, 7, 8, 7, 10, 0, 0, 9, 10, 0, 10, 9, 10, 0, 0, 10, 10, 10, 10, 0, 0, 9, 0, 0, 9, 9, 6, 10, 10, 0, 10, 7, 0, 0, 3, 0, 10, 10, 0, 10, 0, 0, 10, 0, 5, 1, 9, 7, 10, 7, 10, 10, 4, 0, 10, 7, 0, 10, 10, 9, 0, 10, 1, 0, 10, 0, 10, 10, 10, 9, 0, 9, 9, 10, 0, 0, 1, 0, 0, 8, 9, 1, 9, 0, 10, 9, 0, 3, 0, 10, 0, 8, 0, 0, 0, 0, 10, 10, 10, 9, 9, 8, 10, 10, 0, 3, 8, 10, 0, 0, 10, 0, 10, 0, 9, 10, 10, 10, 0, 10, 10, 0, 0, 10, 9, 10, 10, 0, 0, 0, 0, 10, 9, 1, 0, 0, 10, 10, 3, 10, 9, 10, 1, 8, 10, 0, 0, 10, 10, 9, 0, 0, 10, 0, 0, 10, 0, 0, 0, 0, 10, 10, 0, 10, 6, 0, 10, 0, 0, 0, 0, 0, 10, 10, 0, 10, 10, 8, 1, 0, 0, 10, 10, 1, 0, 6, 0, 10, 10, 10, 10, 10, 7, 10, 2, 7, 0, 9, 10, 10, 7, 0, 1, 0, 0, 4, 9, 0, 4, 0, 0, 0, 10, 0, 10, 10, 0, 10, 0, 0, 10, 0, 0, 0, 10, 10, 0, 0]\n"
          ]
        }
      ],
      "source": [
        "print(cls_preds)\n",
        "print(cls_labels)"
      ]
    },
    {
      "cell_type": "markdown",
      "metadata": {
        "id": "SsTFPMDaZiYd"
      },
      "source": [
        "## Сравнение двух подходов"
      ]
    },
    {
      "cell_type": "markdown",
      "metadata": {
        "id": "DH9GVtLJ9h2Z"
      },
      "source": [
        "Метрики для MeanPool"
      ]
    },
    {
      "cell_type": "code",
      "execution_count": null,
      "metadata": {
        "colab": {
          "base_uri": "https://localhost:8080/"
        },
        "id": "mnwW9ZwrZkfQ",
        "outputId": "56aad7c6-11b8-4dac-fe2e-c35d2f756182"
      },
      "outputs": [
        {
          "name": "stdout",
          "output_type": "stream",
          "text": [
            "Accuracy: 0.8172131147540984\n",
            "Precision: 0.8467339945065604\n",
            "Recall: 0.7438500842292215\n",
            "F1-score: 0.7882467313675338\n",
            "              precision    recall  f1-score   support\n",
            "\n",
            "           0       0.86      0.78      0.82      1398\n",
            "           1       0.88      0.73      0.80        89\n",
            "           2       0.86      0.75      0.80        51\n",
            "           3       0.98      0.72      0.83        58\n",
            "           4       0.93      0.77      0.85        53\n",
            "           5       0.89      0.66      0.76        62\n",
            "           6       0.84      0.66      0.74        62\n",
            "           7       0.74      0.74      0.74        92\n",
            "           8       0.84      0.70      0.76       195\n",
            "           9       0.71      0.74      0.72       297\n",
            "          10       0.79      0.93      0.86      1303\n",
            "\n",
            "    accuracy                           0.82      3660\n",
            "   macro avg       0.85      0.74      0.79      3660\n",
            "weighted avg       0.82      0.82      0.82      3660\n",
            "\n"
          ]
        }
      ],
      "source": [
        "from sklearn.metrics import accuracy_score, precision_score, recall_score, f1_score, classification_report\n",
        "accuracy = accuracy_score(mean_labels, mean_preds)\n",
        "precision = precision_score(mean_labels, mean_preds, average='macro')\n",
        "recall = recall_score(mean_labels, mean_preds, average='macro')\n",
        "f1 = f1_score(mean_labels, mean_preds, average='macro')\n",
        "report = classification_report(mean_labels, mean_preds)\n",
        "\n",
        "print(f'Mean Pooling Metrics')\n",
        "print(f'Accuracy: {accuracy}')\n",
        "print(f'Precision: {precision}')\n",
        "print(f'Recall: {recall}')\n",
        "print(f'F1-score: {f1}')\n",
        "print(report)"
      ]
    },
    {
      "cell_type": "markdown",
      "metadata": {
        "id": "Pxjye5US9mv9"
      },
      "source": [
        "Метрики для CLSPool"
      ]
    },
    {
      "cell_type": "code",
      "execution_count": null,
      "metadata": {
        "colab": {
          "base_uri": "https://localhost:8080/"
        },
        "id": "mUqW3fOaauRD",
        "outputId": "83676737-0f5d-4afd-932f-a85cc8166007"
      },
      "outputs": [
        {
          "name": "stdout",
          "output_type": "stream",
          "text": [
            "Accuracy: 0.8158469945355191\n",
            "Precision: 0.8312655797465702\n",
            "Recall: 0.7429440904651209\n",
            "F1-score: 0.7818687056630743\n",
            "              precision    recall  f1-score   support\n",
            "\n",
            "           0       0.84      0.79      0.82      1398\n",
            "           1       0.93      0.72      0.81        89\n",
            "           2       0.79      0.75      0.77        51\n",
            "           3       0.95      0.72      0.82        58\n",
            "           4       0.93      0.79      0.86        53\n",
            "           5       0.75      0.68      0.71        62\n",
            "           6       0.72      0.68      0.70        62\n",
            "           7       0.84      0.71      0.77        92\n",
            "           8       0.85      0.69      0.76       195\n",
            "           9       0.72      0.74      0.73       297\n",
            "          10       0.80      0.91      0.85      1303\n",
            "\n",
            "    accuracy                           0.82      3660\n",
            "   macro avg       0.83      0.74      0.78      3660\n",
            "weighted avg       0.82      0.82      0.81      3660\n",
            "\n"
          ]
        }
      ],
      "source": [
        "from sklearn.metrics import accuracy_score, precision_score, recall_score, f1_score, classification_report\n",
        "accuracy = accuracy_score(cls_labels, cls_preds)\n",
        "precision = precision_score(cls_labels, cls_preds, average='macro')\n",
        "recall = recall_score(cls_labels, cls_preds, average='macro')\n",
        "f1 = f1_score(cls_labels, cls_preds, average='macro')\n",
        "report = classification_report(cls_labels, cls_preds)\n",
        "\n",
        "print(f'CLS Pooling Metrics')\n",
        "print(f'Accuracy: {accuracy}')\n",
        "print(f'Precision: {precision}')\n",
        "print(f'Recall: {recall}')\n",
        "print(f'F1-score: {f1}')\n",
        "print(report)"
      ]
    },
    {
      "cell_type": "markdown",
      "metadata": {
        "id": "yvMAEvB3GiaS"
      },
      "source": [
        "## Выводы\n",
        "\n",
        "Сравнили два способа агрегации эмбеддингов для задачи мультиклассовой классификации:\n",
        "\n",
        "- **CLS Pooling**: использует эмбеддинг [CLS]-токена, обучаемый напрямую.\n",
        "- типичен для BERT\n",
        "- **Mean Pooling**: усредняет все эмбеддинги токенов входной последовательности, игнорируя [CLS].\n",
        "- также распространён\n",
        "\n",
        "Результаты показали, что:\n",
        "- Разница несущественна\n",
        "- *по крайней мере на этих данных*\n",
        "- **Mean Pooling лучше на доли процента**"
      ]
    },
    {
      "cell_type": "markdown",
      "metadata": {
        "id": "O_q0yPUYGjQI"
      },
      "source": [
        "| Pooling Method | Accuracy | F1-Score |\n",
        "|----------------|----------|----------|\n",
        "| CLS            |  81.58%  |  78.18   |\n",
        "| Mean           |  81.72%  |  78.82   |"
      ]
    }
  ],
  "metadata": {
    "accelerator": "GPU",
    "colab": {
      "gpuType": "T4",
      "provenance": []
    },
    "kernelspec": {
      "display_name": "Python 3",
      "name": "python3"
    },
    "language_info": {
      "name": "python"
    },
    "widgets": {
      "application/vnd.jupyter.widget-state+json": {
        "07aa85a53a134cdb9053f35ee4fda66f": {
          "model_module": "@jupyter-widgets/base",
          "model_module_version": "1.2.0",
          "model_name": "LayoutModel",
          "state": {
            "_model_module": "@jupyter-widgets/base",
            "_model_module_version": "1.2.0",
            "_model_name": "LayoutModel",
            "_view_count": null,
            "_view_module": "@jupyter-widgets/base",
            "_view_module_version": "1.2.0",
            "_view_name": "LayoutView",
            "align_content": null,
            "align_items": null,
            "align_self": null,
            "border": null,
            "bottom": null,
            "display": null,
            "flex": null,
            "flex_flow": null,
            "grid_area": null,
            "grid_auto_columns": null,
            "grid_auto_flow": null,
            "grid_auto_rows": null,
            "grid_column": null,
            "grid_gap": null,
            "grid_row": null,
            "grid_template_areas": null,
            "grid_template_columns": null,
            "grid_template_rows": null,
            "height": null,
            "justify_content": null,
            "justify_items": null,
            "left": null,
            "margin": null,
            "max_height": null,
            "max_width": null,
            "min_height": null,
            "min_width": null,
            "object_fit": null,
            "object_position": null,
            "order": null,
            "overflow": null,
            "overflow_x": null,
            "overflow_y": null,
            "padding": null,
            "right": null,
            "top": null,
            "visibility": null,
            "width": null
          }
        },
        "07ef810f7325468dbd449773a4866979": {
          "model_module": "@jupyter-widgets/base",
          "model_module_version": "1.2.0",
          "model_name": "LayoutModel",
          "state": {
            "_model_module": "@jupyter-widgets/base",
            "_model_module_version": "1.2.0",
            "_model_name": "LayoutModel",
            "_view_count": null,
            "_view_module": "@jupyter-widgets/base",
            "_view_module_version": "1.2.0",
            "_view_name": "LayoutView",
            "align_content": null,
            "align_items": null,
            "align_self": null,
            "border": null,
            "bottom": null,
            "display": null,
            "flex": null,
            "flex_flow": null,
            "grid_area": null,
            "grid_auto_columns": null,
            "grid_auto_flow": null,
            "grid_auto_rows": null,
            "grid_column": null,
            "grid_gap": null,
            "grid_row": null,
            "grid_template_areas": null,
            "grid_template_columns": null,
            "grid_template_rows": null,
            "height": null,
            "justify_content": null,
            "justify_items": null,
            "left": null,
            "margin": null,
            "max_height": null,
            "max_width": null,
            "min_height": null,
            "min_width": null,
            "object_fit": null,
            "object_position": null,
            "order": null,
            "overflow": null,
            "overflow_x": null,
            "overflow_y": null,
            "padding": null,
            "right": null,
            "top": null,
            "visibility": null,
            "width": null
          }
        },
        "085c6f277bc64ccd997eacab483dd0f1": {
          "model_module": "@jupyter-widgets/base",
          "model_module_version": "1.2.0",
          "model_name": "LayoutModel",
          "state": {
            "_model_module": "@jupyter-widgets/base",
            "_model_module_version": "1.2.0",
            "_model_name": "LayoutModel",
            "_view_count": null,
            "_view_module": "@jupyter-widgets/base",
            "_view_module_version": "1.2.0",
            "_view_name": "LayoutView",
            "align_content": null,
            "align_items": null,
            "align_self": null,
            "border": null,
            "bottom": null,
            "display": null,
            "flex": null,
            "flex_flow": null,
            "grid_area": null,
            "grid_auto_columns": null,
            "grid_auto_flow": null,
            "grid_auto_rows": null,
            "grid_column": null,
            "grid_gap": null,
            "grid_row": null,
            "grid_template_areas": null,
            "grid_template_columns": null,
            "grid_template_rows": null,
            "height": null,
            "justify_content": null,
            "justify_items": null,
            "left": null,
            "margin": null,
            "max_height": null,
            "max_width": null,
            "min_height": null,
            "min_width": null,
            "object_fit": null,
            "object_position": null,
            "order": null,
            "overflow": null,
            "overflow_x": null,
            "overflow_y": null,
            "padding": null,
            "right": null,
            "top": null,
            "visibility": null,
            "width": null
          }
        },
        "0de9e8b82bba473fadb381a3348575f6": {
          "model_module": "@jupyter-widgets/controls",
          "model_module_version": "1.5.0",
          "model_name": "HTMLModel",
          "state": {
            "_dom_classes": [],
            "_model_module": "@jupyter-widgets/controls",
            "_model_module_version": "1.5.0",
            "_model_name": "HTMLModel",
            "_view_count": null,
            "_view_module": "@jupyter-widgets/controls",
            "_view_module_version": "1.5.0",
            "_view_name": "HTMLView",
            "description": "",
            "description_tooltip": null,
            "layout": "IPY_MODEL_8be59c17d49b482a80c6fc1ecd959ad6",
            "placeholder": "​",
            "style": "IPY_MODEL_5758762a1ee14016afe587add61b85f6",
            "value": " 1.74M/? [00:00&lt;00:00, 57.5MB/s]"
          }
        },
        "0eb6948ae15242dca4b226bb5020a3e4": {
          "model_module": "@jupyter-widgets/controls",
          "model_module_version": "1.5.0",
          "model_name": "DescriptionStyleModel",
          "state": {
            "_model_module": "@jupyter-widgets/controls",
            "_model_module_version": "1.5.0",
            "_model_name": "DescriptionStyleModel",
            "_view_count": null,
            "_view_module": "@jupyter-widgets/base",
            "_view_module_version": "1.2.0",
            "_view_name": "StyleView",
            "description_width": ""
          }
        },
        "119e4adb3f5f49d78009c5b75d3f9f7e": {
          "model_module": "@jupyter-widgets/controls",
          "model_module_version": "1.5.0",
          "model_name": "HTMLModel",
          "state": {
            "_dom_classes": [],
            "_model_module": "@jupyter-widgets/controls",
            "_model_module_version": "1.5.0",
            "_model_name": "HTMLModel",
            "_view_count": null,
            "_view_module": "@jupyter-widgets/controls",
            "_view_module_version": "1.5.0",
            "_view_name": "HTMLView",
            "description": "",
            "description_tooltip": null,
            "layout": "IPY_MODEL_c9256b6e54984bdbba6331ef09bb441c",
            "placeholder": "​",
            "style": "IPY_MODEL_34b1d1222f5e4883b204b02f91c49462",
            "value": " 112/112 [00:00&lt;00:00, 7.36kB/s]"
          }
        },
        "127e13cdc8f14bf08d41f3c08fbc489d": {
          "model_module": "@jupyter-widgets/controls",
          "model_module_version": "1.5.0",
          "model_name": "HTMLModel",
          "state": {
            "_dom_classes": [],
            "_model_module": "@jupyter-widgets/controls",
            "_model_module_version": "1.5.0",
            "_model_name": "HTMLModel",
            "_view_count": null,
            "_view_module": "@jupyter-widgets/controls",
            "_view_module_version": "1.5.0",
            "_view_name": "HTMLView",
            "description": "",
            "description_tooltip": null,
            "layout": "IPY_MODEL_f4bd8c3bacb34675a8686be0c6215c2e",
            "placeholder": "​",
            "style": "IPY_MODEL_e4f2e8f94adf4822a76d856207da98bc",
            "value": " 36591/36591 [00:09&lt;00:00, 5981.56 examples/s]"
          }
        },
        "1b63c49a3ee5450f8841be606cb2f4c6": {
          "model_module": "@jupyter-widgets/base",
          "model_module_version": "1.2.0",
          "model_name": "LayoutModel",
          "state": {
            "_model_module": "@jupyter-widgets/base",
            "_model_module_version": "1.2.0",
            "_model_name": "LayoutModel",
            "_view_count": null,
            "_view_module": "@jupyter-widgets/base",
            "_view_module_version": "1.2.0",
            "_view_name": "LayoutView",
            "align_content": null,
            "align_items": null,
            "align_self": null,
            "border": null,
            "bottom": null,
            "display": null,
            "flex": null,
            "flex_flow": null,
            "grid_area": null,
            "grid_auto_columns": null,
            "grid_auto_flow": null,
            "grid_auto_rows": null,
            "grid_column": null,
            "grid_gap": null,
            "grid_row": null,
            "grid_template_areas": null,
            "grid_template_columns": null,
            "grid_template_rows": null,
            "height": null,
            "justify_content": null,
            "justify_items": null,
            "left": null,
            "margin": null,
            "max_height": null,
            "max_width": null,
            "min_height": null,
            "min_width": null,
            "object_fit": null,
            "object_position": null,
            "order": null,
            "overflow": null,
            "overflow_x": null,
            "overflow_y": null,
            "padding": null,
            "right": null,
            "top": null,
            "visibility": null,
            "width": null
          }
        },
        "1d1524039ca141f2924d10e44bf8812b": {
          "model_module": "@jupyter-widgets/controls",
          "model_module_version": "1.5.0",
          "model_name": "DescriptionStyleModel",
          "state": {
            "_model_module": "@jupyter-widgets/controls",
            "_model_module_version": "1.5.0",
            "_model_name": "DescriptionStyleModel",
            "_view_count": null,
            "_view_module": "@jupyter-widgets/base",
            "_view_module_version": "1.2.0",
            "_view_name": "StyleView",
            "description_width": ""
          }
        },
        "204505310296460bb12cc15d7153dc70": {
          "model_module": "@jupyter-widgets/base",
          "model_module_version": "1.2.0",
          "model_name": "LayoutModel",
          "state": {
            "_model_module": "@jupyter-widgets/base",
            "_model_module_version": "1.2.0",
            "_model_name": "LayoutModel",
            "_view_count": null,
            "_view_module": "@jupyter-widgets/base",
            "_view_module_version": "1.2.0",
            "_view_name": "LayoutView",
            "align_content": null,
            "align_items": null,
            "align_self": null,
            "border": null,
            "bottom": null,
            "display": null,
            "flex": null,
            "flex_flow": null,
            "grid_area": null,
            "grid_auto_columns": null,
            "grid_auto_flow": null,
            "grid_auto_rows": null,
            "grid_column": null,
            "grid_gap": null,
            "grid_row": null,
            "grid_template_areas": null,
            "grid_template_columns": null,
            "grid_template_rows": null,
            "height": null,
            "justify_content": null,
            "justify_items": null,
            "left": null,
            "margin": null,
            "max_height": null,
            "max_width": null,
            "min_height": null,
            "min_width": null,
            "object_fit": null,
            "object_position": null,
            "order": null,
            "overflow": null,
            "overflow_x": null,
            "overflow_y": null,
            "padding": null,
            "right": null,
            "top": null,
            "visibility": null,
            "width": null
          }
        },
        "25b12810138a4171b30701dde444e971": {
          "model_module": "@jupyter-widgets/base",
          "model_module_version": "1.2.0",
          "model_name": "LayoutModel",
          "state": {
            "_model_module": "@jupyter-widgets/base",
            "_model_module_version": "1.2.0",
            "_model_name": "LayoutModel",
            "_view_count": null,
            "_view_module": "@jupyter-widgets/base",
            "_view_module_version": "1.2.0",
            "_view_name": "LayoutView",
            "align_content": null,
            "align_items": null,
            "align_self": null,
            "border": null,
            "bottom": null,
            "display": null,
            "flex": null,
            "flex_flow": null,
            "grid_area": null,
            "grid_auto_columns": null,
            "grid_auto_flow": null,
            "grid_auto_rows": null,
            "grid_column": null,
            "grid_gap": null,
            "grid_row": null,
            "grid_template_areas": null,
            "grid_template_columns": null,
            "grid_template_rows": null,
            "height": null,
            "justify_content": null,
            "justify_items": null,
            "left": null,
            "margin": null,
            "max_height": null,
            "max_width": null,
            "min_height": null,
            "min_width": null,
            "object_fit": null,
            "object_position": null,
            "order": null,
            "overflow": null,
            "overflow_x": null,
            "overflow_y": null,
            "padding": null,
            "right": null,
            "top": null,
            "visibility": null,
            "width": null
          }
        },
        "2b9b2580a4674791b48958e0fabb12ef": {
          "model_module": "@jupyter-widgets/controls",
          "model_module_version": "1.5.0",
          "model_name": "HTMLModel",
          "state": {
            "_dom_classes": [],
            "_model_module": "@jupyter-widgets/controls",
            "_model_module_version": "1.5.0",
            "_model_name": "HTMLModel",
            "_view_count": null,
            "_view_module": "@jupyter-widgets/controls",
            "_view_module_version": "1.5.0",
            "_view_name": "HTMLView",
            "description": "",
            "description_tooltip": null,
            "layout": "IPY_MODEL_36f71e6865b74219ac5dbc66fcceda73",
            "placeholder": "​",
            "style": "IPY_MODEL_b3f833ae664a4f728eeedff75c0710a1",
            "value": " 401/401 [00:00&lt;00:00, 39.1kB/s]"
          }
        },
        "2bf18a9942c74330814bc941e8352623": {
          "model_module": "@jupyter-widgets/base",
          "model_module_version": "1.2.0",
          "model_name": "LayoutModel",
          "state": {
            "_model_module": "@jupyter-widgets/base",
            "_model_module_version": "1.2.0",
            "_model_name": "LayoutModel",
            "_view_count": null,
            "_view_module": "@jupyter-widgets/base",
            "_view_module_version": "1.2.0",
            "_view_name": "LayoutView",
            "align_content": null,
            "align_items": null,
            "align_self": null,
            "border": null,
            "bottom": null,
            "display": null,
            "flex": null,
            "flex_flow": null,
            "grid_area": null,
            "grid_auto_columns": null,
            "grid_auto_flow": null,
            "grid_auto_rows": null,
            "grid_column": null,
            "grid_gap": null,
            "grid_row": null,
            "grid_template_areas": null,
            "grid_template_columns": null,
            "grid_template_rows": null,
            "height": null,
            "justify_content": null,
            "justify_items": null,
            "left": null,
            "margin": null,
            "max_height": null,
            "max_width": null,
            "min_height": null,
            "min_width": null,
            "object_fit": null,
            "object_position": null,
            "order": null,
            "overflow": null,
            "overflow_x": null,
            "overflow_y": null,
            "padding": null,
            "right": null,
            "top": null,
            "visibility": null,
            "width": null
          }
        },
        "2d3beebbe1b943c9afa2f94f78b20696": {
          "model_module": "@jupyter-widgets/controls",
          "model_module_version": "1.5.0",
          "model_name": "HTMLModel",
          "state": {
            "_dom_classes": [],
            "_model_module": "@jupyter-widgets/controls",
            "_model_module_version": "1.5.0",
            "_model_name": "HTMLModel",
            "_view_count": null,
            "_view_module": "@jupyter-widgets/controls",
            "_view_module_version": "1.5.0",
            "_view_name": "HTMLView",
            "description": "",
            "description_tooltip": null,
            "layout": "IPY_MODEL_3ccb815cf6b54c4a9afff9fe3df0e570",
            "placeholder": "​",
            "style": "IPY_MODEL_71fe7e80fd8445508471582c552f8752",
            "value": "tokenizer_config.json: 100%"
          }
        },
        "309ef583f7e448e48fe660c6f33c769f": {
          "model_module": "@jupyter-widgets/controls",
          "model_module_version": "1.5.0",
          "model_name": "FloatProgressModel",
          "state": {
            "_dom_classes": [],
            "_model_module": "@jupyter-widgets/controls",
            "_model_module_version": "1.5.0",
            "_model_name": "FloatProgressModel",
            "_view_count": null,
            "_view_module": "@jupyter-widgets/controls",
            "_view_module_version": "1.5.0",
            "_view_name": "ProgressView",
            "bar_style": "success",
            "description": "",
            "description_tooltip": null,
            "layout": "IPY_MODEL_57aabf37f8c34137b9d0dddc5a672451",
            "max": 1,
            "min": 0,
            "orientation": "horizontal",
            "style": "IPY_MODEL_733312e05ec248288a2928aefb23a35b",
            "value": 1
          }
        },
        "335d37f4e1674085a55b8b5fbc7020d2": {
          "model_module": "@jupyter-widgets/controls",
          "model_module_version": "1.5.0",
          "model_name": "DescriptionStyleModel",
          "state": {
            "_model_module": "@jupyter-widgets/controls",
            "_model_module_version": "1.5.0",
            "_model_name": "DescriptionStyleModel",
            "_view_count": null,
            "_view_module": "@jupyter-widgets/base",
            "_view_module_version": "1.2.0",
            "_view_name": "StyleView",
            "description_width": ""
          }
        },
        "342a4bc83fa84c7a9ab7849da2c76b33": {
          "model_module": "@jupyter-widgets/base",
          "model_module_version": "1.2.0",
          "model_name": "LayoutModel",
          "state": {
            "_model_module": "@jupyter-widgets/base",
            "_model_module_version": "1.2.0",
            "_model_name": "LayoutModel",
            "_view_count": null,
            "_view_module": "@jupyter-widgets/base",
            "_view_module_version": "1.2.0",
            "_view_name": "LayoutView",
            "align_content": null,
            "align_items": null,
            "align_self": null,
            "border": null,
            "bottom": null,
            "display": null,
            "flex": null,
            "flex_flow": null,
            "grid_area": null,
            "grid_auto_columns": null,
            "grid_auto_flow": null,
            "grid_auto_rows": null,
            "grid_column": null,
            "grid_gap": null,
            "grid_row": null,
            "grid_template_areas": null,
            "grid_template_columns": null,
            "grid_template_rows": null,
            "height": null,
            "justify_content": null,
            "justify_items": null,
            "left": null,
            "margin": null,
            "max_height": null,
            "max_width": null,
            "min_height": null,
            "min_width": null,
            "object_fit": null,
            "object_position": null,
            "order": null,
            "overflow": null,
            "overflow_x": null,
            "overflow_y": null,
            "padding": null,
            "right": null,
            "top": null,
            "visibility": null,
            "width": null
          }
        },
        "34b1d1222f5e4883b204b02f91c49462": {
          "model_module": "@jupyter-widgets/controls",
          "model_module_version": "1.5.0",
          "model_name": "DescriptionStyleModel",
          "state": {
            "_model_module": "@jupyter-widgets/controls",
            "_model_module_version": "1.5.0",
            "_model_name": "DescriptionStyleModel",
            "_view_count": null,
            "_view_module": "@jupyter-widgets/base",
            "_view_module_version": "1.2.0",
            "_view_name": "StyleView",
            "description_width": ""
          }
        },
        "36f71e6865b74219ac5dbc66fcceda73": {
          "model_module": "@jupyter-widgets/base",
          "model_module_version": "1.2.0",
          "model_name": "LayoutModel",
          "state": {
            "_model_module": "@jupyter-widgets/base",
            "_model_module_version": "1.2.0",
            "_model_name": "LayoutModel",
            "_view_count": null,
            "_view_module": "@jupyter-widgets/base",
            "_view_module_version": "1.2.0",
            "_view_name": "LayoutView",
            "align_content": null,
            "align_items": null,
            "align_self": null,
            "border": null,
            "bottom": null,
            "display": null,
            "flex": null,
            "flex_flow": null,
            "grid_area": null,
            "grid_auto_columns": null,
            "grid_auto_flow": null,
            "grid_auto_rows": null,
            "grid_column": null,
            "grid_gap": null,
            "grid_row": null,
            "grid_template_areas": null,
            "grid_template_columns": null,
            "grid_template_rows": null,
            "height": null,
            "justify_content": null,
            "justify_items": null,
            "left": null,
            "margin": null,
            "max_height": null,
            "max_width": null,
            "min_height": null,
            "min_width": null,
            "object_fit": null,
            "object_position": null,
            "order": null,
            "overflow": null,
            "overflow_x": null,
            "overflow_y": null,
            "padding": null,
            "right": null,
            "top": null,
            "visibility": null,
            "width": null
          }
        },
        "37b458e83145432188a06854f97bb798": {
          "model_module": "@jupyter-widgets/controls",
          "model_module_version": "1.5.0",
          "model_name": "DescriptionStyleModel",
          "state": {
            "_model_module": "@jupyter-widgets/controls",
            "_model_module_version": "1.5.0",
            "_model_name": "DescriptionStyleModel",
            "_view_count": null,
            "_view_module": "@jupyter-widgets/base",
            "_view_module_version": "1.2.0",
            "_view_name": "StyleView",
            "description_width": ""
          }
        },
        "3c1867fa704c441a98d8ef4f19b48030": {
          "model_module": "@jupyter-widgets/controls",
          "model_module_version": "1.5.0",
          "model_name": "ProgressStyleModel",
          "state": {
            "_model_module": "@jupyter-widgets/controls",
            "_model_module_version": "1.5.0",
            "_model_name": "ProgressStyleModel",
            "_view_count": null,
            "_view_module": "@jupyter-widgets/base",
            "_view_module_version": "1.2.0",
            "_view_name": "StyleView",
            "bar_color": null,
            "description_width": ""
          }
        },
        "3c2cffbcfc424504aba2b70539e2d1a7": {
          "model_module": "@jupyter-widgets/controls",
          "model_module_version": "1.5.0",
          "model_name": "HBoxModel",
          "state": {
            "_dom_classes": [],
            "_model_module": "@jupyter-widgets/controls",
            "_model_module_version": "1.5.0",
            "_model_name": "HBoxModel",
            "_view_count": null,
            "_view_module": "@jupyter-widgets/controls",
            "_view_module_version": "1.5.0",
            "_view_name": "HBoxView",
            "box_style": "",
            "children": [
              "IPY_MODEL_f8c5c93946d74b83981fe5e25a369374",
              "IPY_MODEL_fdc03541c3b742188ceb721e11f8ce6b",
              "IPY_MODEL_cfbd7af72d124881b119431636a5159a"
            ],
            "layout": "IPY_MODEL_1b63c49a3ee5450f8841be606cb2f4c6"
          }
        },
        "3ccb815cf6b54c4a9afff9fe3df0e570": {
          "model_module": "@jupyter-widgets/base",
          "model_module_version": "1.2.0",
          "model_name": "LayoutModel",
          "state": {
            "_model_module": "@jupyter-widgets/base",
            "_model_module_version": "1.2.0",
            "_model_name": "LayoutModel",
            "_view_count": null,
            "_view_module": "@jupyter-widgets/base",
            "_view_module_version": "1.2.0",
            "_view_name": "LayoutView",
            "align_content": null,
            "align_items": null,
            "align_self": null,
            "border": null,
            "bottom": null,
            "display": null,
            "flex": null,
            "flex_flow": null,
            "grid_area": null,
            "grid_auto_columns": null,
            "grid_auto_flow": null,
            "grid_auto_rows": null,
            "grid_column": null,
            "grid_gap": null,
            "grid_row": null,
            "grid_template_areas": null,
            "grid_template_columns": null,
            "grid_template_rows": null,
            "height": null,
            "justify_content": null,
            "justify_items": null,
            "left": null,
            "margin": null,
            "max_height": null,
            "max_width": null,
            "min_height": null,
            "min_width": null,
            "object_fit": null,
            "object_position": null,
            "order": null,
            "overflow": null,
            "overflow_x": null,
            "overflow_y": null,
            "padding": null,
            "right": null,
            "top": null,
            "visibility": null,
            "width": null
          }
        },
        "3e4ae9d685cb4012a5a02b50c4b2d51f": {
          "model_module": "@jupyter-widgets/controls",
          "model_module_version": "1.5.0",
          "model_name": "FloatProgressModel",
          "state": {
            "_dom_classes": [],
            "_model_module": "@jupyter-widgets/controls",
            "_model_module_version": "1.5.0",
            "_model_name": "FloatProgressModel",
            "_view_count": null,
            "_view_module": "@jupyter-widgets/controls",
            "_view_module_version": "1.5.0",
            "_view_name": "ProgressView",
            "bar_style": "success",
            "description": "",
            "description_tooltip": null,
            "layout": "IPY_MODEL_595b64de4d5e4646a10b8a0ff7ebc026",
            "max": 1,
            "min": 0,
            "orientation": "horizontal",
            "style": "IPY_MODEL_ba88524fdb584401ae3284c0a95b22d5",
            "value": 1
          }
        },
        "42593f47aff140ddb9a2389f9888dd43": {
          "model_module": "@jupyter-widgets/base",
          "model_module_version": "1.2.0",
          "model_name": "LayoutModel",
          "state": {
            "_model_module": "@jupyter-widgets/base",
            "_model_module_version": "1.2.0",
            "_model_name": "LayoutModel",
            "_view_count": null,
            "_view_module": "@jupyter-widgets/base",
            "_view_module_version": "1.2.0",
            "_view_name": "LayoutView",
            "align_content": null,
            "align_items": null,
            "align_self": null,
            "border": null,
            "bottom": null,
            "display": null,
            "flex": null,
            "flex_flow": null,
            "grid_area": null,
            "grid_auto_columns": null,
            "grid_auto_flow": null,
            "grid_auto_rows": null,
            "grid_column": null,
            "grid_gap": null,
            "grid_row": null,
            "grid_template_areas": null,
            "grid_template_columns": null,
            "grid_template_rows": null,
            "height": null,
            "justify_content": null,
            "justify_items": null,
            "left": null,
            "margin": null,
            "max_height": null,
            "max_width": null,
            "min_height": null,
            "min_width": null,
            "object_fit": null,
            "object_position": null,
            "order": null,
            "overflow": null,
            "overflow_x": null,
            "overflow_y": null,
            "padding": null,
            "right": null,
            "top": null,
            "visibility": null,
            "width": null
          }
        },
        "42cc9bd217e94dd89f07e92e1631f3b1": {
          "model_module": "@jupyter-widgets/controls",
          "model_module_version": "1.5.0",
          "model_name": "HTMLModel",
          "state": {
            "_dom_classes": [],
            "_model_module": "@jupyter-widgets/controls",
            "_model_module_version": "1.5.0",
            "_model_name": "HTMLModel",
            "_view_count": null,
            "_view_module": "@jupyter-widgets/controls",
            "_view_module_version": "1.5.0",
            "_view_name": "HTMLView",
            "description": "",
            "description_tooltip": null,
            "layout": "IPY_MODEL_dbd1f16af61043758f4759c279a9cb4a",
            "placeholder": "​",
            "style": "IPY_MODEL_335d37f4e1674085a55b8b5fbc7020d2",
            "value": "tokenizer.json: "
          }
        },
        "45048ff087714a53a9dd8ed4479f7865": {
          "model_module": "@jupyter-widgets/controls",
          "model_module_version": "1.5.0",
          "model_name": "FloatProgressModel",
          "state": {
            "_dom_classes": [],
            "_model_module": "@jupyter-widgets/controls",
            "_model_module_version": "1.5.0",
            "_model_name": "FloatProgressModel",
            "_view_count": null,
            "_view_module": "@jupyter-widgets/controls",
            "_view_module_version": "1.5.0",
            "_view_name": "ProgressView",
            "bar_style": "success",
            "description": "",
            "description_tooltip": null,
            "layout": "IPY_MODEL_f4bf3faff4944e78af901d8df6c9d133",
            "max": 401,
            "min": 0,
            "orientation": "horizontal",
            "style": "IPY_MODEL_dd35a545923446f5a7d7e532048a2fa4",
            "value": 401
          }
        },
        "4c6c4d8563514054853de6112bda4a03": {
          "model_module": "@jupyter-widgets/base",
          "model_module_version": "1.2.0",
          "model_name": "LayoutModel",
          "state": {
            "_model_module": "@jupyter-widgets/base",
            "_model_module_version": "1.2.0",
            "_model_name": "LayoutModel",
            "_view_count": null,
            "_view_module": "@jupyter-widgets/base",
            "_view_module_version": "1.2.0",
            "_view_name": "LayoutView",
            "align_content": null,
            "align_items": null,
            "align_self": null,
            "border": null,
            "bottom": null,
            "display": null,
            "flex": null,
            "flex_flow": null,
            "grid_area": null,
            "grid_auto_columns": null,
            "grid_auto_flow": null,
            "grid_auto_rows": null,
            "grid_column": null,
            "grid_gap": null,
            "grid_row": null,
            "grid_template_areas": null,
            "grid_template_columns": null,
            "grid_template_rows": null,
            "height": null,
            "justify_content": null,
            "justify_items": null,
            "left": null,
            "margin": null,
            "max_height": null,
            "max_width": null,
            "min_height": null,
            "min_width": null,
            "object_fit": null,
            "object_position": null,
            "order": null,
            "overflow": null,
            "overflow_x": null,
            "overflow_y": null,
            "padding": null,
            "right": null,
            "top": null,
            "visibility": null,
            "width": null
          }
        },
        "4cd4158e2b174b8bb314ca89ca5c7828": {
          "model_module": "@jupyter-widgets/controls",
          "model_module_version": "1.5.0",
          "model_name": "HBoxModel",
          "state": {
            "_dom_classes": [],
            "_model_module": "@jupyter-widgets/controls",
            "_model_module_version": "1.5.0",
            "_model_name": "HBoxModel",
            "_view_count": null,
            "_view_module": "@jupyter-widgets/controls",
            "_view_module_version": "1.5.0",
            "_view_name": "HBoxView",
            "box_style": "",
            "children": [
              "IPY_MODEL_b557598a96e74ed4a9c9bb5dfa23ddfd",
              "IPY_MODEL_9a92669f339d4ae0ac2a6e2ef054660d",
              "IPY_MODEL_119e4adb3f5f49d78009c5b75d3f9f7e"
            ],
            "layout": "IPY_MODEL_62a40075e3cf46bf9b1d163ef34f04e1"
          }
        },
        "4fb4708c4a76455fa662b86c22500280": {
          "model_module": "@jupyter-widgets/base",
          "model_module_version": "1.2.0",
          "model_name": "LayoutModel",
          "state": {
            "_model_module": "@jupyter-widgets/base",
            "_model_module_version": "1.2.0",
            "_model_name": "LayoutModel",
            "_view_count": null,
            "_view_module": "@jupyter-widgets/base",
            "_view_module_version": "1.2.0",
            "_view_name": "LayoutView",
            "align_content": null,
            "align_items": null,
            "align_self": null,
            "border": null,
            "bottom": null,
            "display": null,
            "flex": null,
            "flex_flow": null,
            "grid_area": null,
            "grid_auto_columns": null,
            "grid_auto_flow": null,
            "grid_auto_rows": null,
            "grid_column": null,
            "grid_gap": null,
            "grid_row": null,
            "grid_template_areas": null,
            "grid_template_columns": null,
            "grid_template_rows": null,
            "height": null,
            "justify_content": null,
            "justify_items": null,
            "left": null,
            "margin": null,
            "max_height": null,
            "max_width": null,
            "min_height": null,
            "min_width": null,
            "object_fit": null,
            "object_position": null,
            "order": null,
            "overflow": null,
            "overflow_x": null,
            "overflow_y": null,
            "padding": null,
            "right": null,
            "top": null,
            "visibility": null,
            "width": "20px"
          }
        },
        "564285d20877484d8758771821d2d23f": {
          "model_module": "@jupyter-widgets/controls",
          "model_module_version": "1.5.0",
          "model_name": "HTMLModel",
          "state": {
            "_dom_classes": [],
            "_model_module": "@jupyter-widgets/controls",
            "_model_module_version": "1.5.0",
            "_model_name": "HTMLModel",
            "_view_count": null,
            "_view_module": "@jupyter-widgets/controls",
            "_view_module_version": "1.5.0",
            "_view_name": "HTMLView",
            "description": "",
            "description_tooltip": null,
            "layout": "IPY_MODEL_f9a2e72eeb0e43d38c4ddab7ccc75859",
            "placeholder": "​",
            "style": "IPY_MODEL_7da3e5cd8a614ad29ac86dbb3eea72e4",
            "value": " 1.31k/? [00:00&lt;00:00, 20.3kB/s]"
          }
        },
        "5758762a1ee14016afe587add61b85f6": {
          "model_module": "@jupyter-widgets/controls",
          "model_module_version": "1.5.0",
          "model_name": "DescriptionStyleModel",
          "state": {
            "_model_module": "@jupyter-widgets/controls",
            "_model_module_version": "1.5.0",
            "_model_name": "DescriptionStyleModel",
            "_view_count": null,
            "_view_module": "@jupyter-widgets/base",
            "_view_module_version": "1.2.0",
            "_view_name": "StyleView",
            "description_width": ""
          }
        },
        "57aabf37f8c34137b9d0dddc5a672451": {
          "model_module": "@jupyter-widgets/base",
          "model_module_version": "1.2.0",
          "model_name": "LayoutModel",
          "state": {
            "_model_module": "@jupyter-widgets/base",
            "_model_module_version": "1.2.0",
            "_model_name": "LayoutModel",
            "_view_count": null,
            "_view_module": "@jupyter-widgets/base",
            "_view_module_version": "1.2.0",
            "_view_name": "LayoutView",
            "align_content": null,
            "align_items": null,
            "align_self": null,
            "border": null,
            "bottom": null,
            "display": null,
            "flex": null,
            "flex_flow": null,
            "grid_area": null,
            "grid_auto_columns": null,
            "grid_auto_flow": null,
            "grid_auto_rows": null,
            "grid_column": null,
            "grid_gap": null,
            "grid_row": null,
            "grid_template_areas": null,
            "grid_template_columns": null,
            "grid_template_rows": null,
            "height": null,
            "justify_content": null,
            "justify_items": null,
            "left": null,
            "margin": null,
            "max_height": null,
            "max_width": null,
            "min_height": null,
            "min_width": null,
            "object_fit": null,
            "object_position": null,
            "order": null,
            "overflow": null,
            "overflow_x": null,
            "overflow_y": null,
            "padding": null,
            "right": null,
            "top": null,
            "visibility": null,
            "width": "20px"
          }
        },
        "595b64de4d5e4646a10b8a0ff7ebc026": {
          "model_module": "@jupyter-widgets/base",
          "model_module_version": "1.2.0",
          "model_name": "LayoutModel",
          "state": {
            "_model_module": "@jupyter-widgets/base",
            "_model_module_version": "1.2.0",
            "_model_name": "LayoutModel",
            "_view_count": null,
            "_view_module": "@jupyter-widgets/base",
            "_view_module_version": "1.2.0",
            "_view_name": "LayoutView",
            "align_content": null,
            "align_items": null,
            "align_self": null,
            "border": null,
            "bottom": null,
            "display": null,
            "flex": null,
            "flex_flow": null,
            "grid_area": null,
            "grid_auto_columns": null,
            "grid_auto_flow": null,
            "grid_auto_rows": null,
            "grid_column": null,
            "grid_gap": null,
            "grid_row": null,
            "grid_template_areas": null,
            "grid_template_columns": null,
            "grid_template_rows": null,
            "height": null,
            "justify_content": null,
            "justify_items": null,
            "left": null,
            "margin": null,
            "max_height": null,
            "max_width": null,
            "min_height": null,
            "min_width": null,
            "object_fit": null,
            "object_position": null,
            "order": null,
            "overflow": null,
            "overflow_x": null,
            "overflow_y": null,
            "padding": null,
            "right": null,
            "top": null,
            "visibility": null,
            "width": "20px"
          }
        },
        "59fdcac243124524b6a6750997c4fb37": {
          "model_module": "@jupyter-widgets/controls",
          "model_module_version": "1.5.0",
          "model_name": "ProgressStyleModel",
          "state": {
            "_model_module": "@jupyter-widgets/controls",
            "_model_module_version": "1.5.0",
            "_model_name": "ProgressStyleModel",
            "_view_count": null,
            "_view_module": "@jupyter-widgets/base",
            "_view_module_version": "1.2.0",
            "_view_name": "StyleView",
            "bar_color": null,
            "description_width": ""
          }
        },
        "5dd99dbd4401420396faf8ddf955997c": {
          "model_module": "@jupyter-widgets/base",
          "model_module_version": "1.2.0",
          "model_name": "LayoutModel",
          "state": {
            "_model_module": "@jupyter-widgets/base",
            "_model_module_version": "1.2.0",
            "_model_name": "LayoutModel",
            "_view_count": null,
            "_view_module": "@jupyter-widgets/base",
            "_view_module_version": "1.2.0",
            "_view_name": "LayoutView",
            "align_content": null,
            "align_items": null,
            "align_self": null,
            "border": null,
            "bottom": null,
            "display": null,
            "flex": null,
            "flex_flow": null,
            "grid_area": null,
            "grid_auto_columns": null,
            "grid_auto_flow": null,
            "grid_auto_rows": null,
            "grid_column": null,
            "grid_gap": null,
            "grid_row": null,
            "grid_template_areas": null,
            "grid_template_columns": null,
            "grid_template_rows": null,
            "height": null,
            "justify_content": null,
            "justify_items": null,
            "left": null,
            "margin": null,
            "max_height": null,
            "max_width": null,
            "min_height": null,
            "min_width": null,
            "object_fit": null,
            "object_position": null,
            "order": null,
            "overflow": null,
            "overflow_x": null,
            "overflow_y": null,
            "padding": null,
            "right": null,
            "top": null,
            "visibility": null,
            "width": null
          }
        },
        "62a40075e3cf46bf9b1d163ef34f04e1": {
          "model_module": "@jupyter-widgets/base",
          "model_module_version": "1.2.0",
          "model_name": "LayoutModel",
          "state": {
            "_model_module": "@jupyter-widgets/base",
            "_model_module_version": "1.2.0",
            "_model_name": "LayoutModel",
            "_view_count": null,
            "_view_module": "@jupyter-widgets/base",
            "_view_module_version": "1.2.0",
            "_view_name": "LayoutView",
            "align_content": null,
            "align_items": null,
            "align_self": null,
            "border": null,
            "bottom": null,
            "display": null,
            "flex": null,
            "flex_flow": null,
            "grid_area": null,
            "grid_auto_columns": null,
            "grid_auto_flow": null,
            "grid_auto_rows": null,
            "grid_column": null,
            "grid_gap": null,
            "grid_row": null,
            "grid_template_areas": null,
            "grid_template_columns": null,
            "grid_template_rows": null,
            "height": null,
            "justify_content": null,
            "justify_items": null,
            "left": null,
            "margin": null,
            "max_height": null,
            "max_width": null,
            "min_height": null,
            "min_width": null,
            "object_fit": null,
            "object_position": null,
            "order": null,
            "overflow": null,
            "overflow_x": null,
            "overflow_y": null,
            "padding": null,
            "right": null,
            "top": null,
            "visibility": null,
            "width": null
          }
        },
        "64012d237cf04d7785766851910b7f28": {
          "model_module": "@jupyter-widgets/base",
          "model_module_version": "1.2.0",
          "model_name": "LayoutModel",
          "state": {
            "_model_module": "@jupyter-widgets/base",
            "_model_module_version": "1.2.0",
            "_model_name": "LayoutModel",
            "_view_count": null,
            "_view_module": "@jupyter-widgets/base",
            "_view_module_version": "1.2.0",
            "_view_name": "LayoutView",
            "align_content": null,
            "align_items": null,
            "align_self": null,
            "border": null,
            "bottom": null,
            "display": null,
            "flex": null,
            "flex_flow": null,
            "grid_area": null,
            "grid_auto_columns": null,
            "grid_auto_flow": null,
            "grid_auto_rows": null,
            "grid_column": null,
            "grid_gap": null,
            "grid_row": null,
            "grid_template_areas": null,
            "grid_template_columns": null,
            "grid_template_rows": null,
            "height": null,
            "justify_content": null,
            "justify_items": null,
            "left": null,
            "margin": null,
            "max_height": null,
            "max_width": null,
            "min_height": null,
            "min_width": null,
            "object_fit": null,
            "object_position": null,
            "order": null,
            "overflow": null,
            "overflow_x": null,
            "overflow_y": null,
            "padding": null,
            "right": null,
            "top": null,
            "visibility": null,
            "width": null
          }
        },
        "6484f9f581bf438b83d565b5e08b7457": {
          "model_module": "@jupyter-widgets/controls",
          "model_module_version": "1.5.0",
          "model_name": "DescriptionStyleModel",
          "state": {
            "_model_module": "@jupyter-widgets/controls",
            "_model_module_version": "1.5.0",
            "_model_name": "DescriptionStyleModel",
            "_view_count": null,
            "_view_module": "@jupyter-widgets/base",
            "_view_module_version": "1.2.0",
            "_view_name": "StyleView",
            "description_width": ""
          }
        },
        "6795039a30a74348bf6cb096de50d455": {
          "model_module": "@jupyter-widgets/base",
          "model_module_version": "1.2.0",
          "model_name": "LayoutModel",
          "state": {
            "_model_module": "@jupyter-widgets/base",
            "_model_module_version": "1.2.0",
            "_model_name": "LayoutModel",
            "_view_count": null,
            "_view_module": "@jupyter-widgets/base",
            "_view_module_version": "1.2.0",
            "_view_name": "LayoutView",
            "align_content": null,
            "align_items": null,
            "align_self": null,
            "border": null,
            "bottom": null,
            "display": null,
            "flex": null,
            "flex_flow": null,
            "grid_area": null,
            "grid_auto_columns": null,
            "grid_auto_flow": null,
            "grid_auto_rows": null,
            "grid_column": null,
            "grid_gap": null,
            "grid_row": null,
            "grid_template_areas": null,
            "grid_template_columns": null,
            "grid_template_rows": null,
            "height": null,
            "justify_content": null,
            "justify_items": null,
            "left": null,
            "margin": null,
            "max_height": null,
            "max_width": null,
            "min_height": null,
            "min_width": null,
            "object_fit": null,
            "object_position": null,
            "order": null,
            "overflow": null,
            "overflow_x": null,
            "overflow_y": null,
            "padding": null,
            "right": null,
            "top": null,
            "visibility": null,
            "width": null
          }
        },
        "6ab0269442df45b4a2dff06bcc91f246": {
          "model_module": "@jupyter-widgets/controls",
          "model_module_version": "1.5.0",
          "model_name": "DescriptionStyleModel",
          "state": {
            "_model_module": "@jupyter-widgets/controls",
            "_model_module_version": "1.5.0",
            "_model_name": "DescriptionStyleModel",
            "_view_count": null,
            "_view_module": "@jupyter-widgets/base",
            "_view_module_version": "1.2.0",
            "_view_name": "StyleView",
            "description_width": ""
          }
        },
        "6d3312d9a5c643249810f8e1184dc635": {
          "model_module": "@jupyter-widgets/base",
          "model_module_version": "1.2.0",
          "model_name": "LayoutModel",
          "state": {
            "_model_module": "@jupyter-widgets/base",
            "_model_module_version": "1.2.0",
            "_model_name": "LayoutModel",
            "_view_count": null,
            "_view_module": "@jupyter-widgets/base",
            "_view_module_version": "1.2.0",
            "_view_name": "LayoutView",
            "align_content": null,
            "align_items": null,
            "align_self": null,
            "border": null,
            "bottom": null,
            "display": null,
            "flex": null,
            "flex_flow": null,
            "grid_area": null,
            "grid_auto_columns": null,
            "grid_auto_flow": null,
            "grid_auto_rows": null,
            "grid_column": null,
            "grid_gap": null,
            "grid_row": null,
            "grid_template_areas": null,
            "grid_template_columns": null,
            "grid_template_rows": null,
            "height": null,
            "justify_content": null,
            "justify_items": null,
            "left": null,
            "margin": null,
            "max_height": null,
            "max_width": null,
            "min_height": null,
            "min_width": null,
            "object_fit": null,
            "object_position": null,
            "order": null,
            "overflow": null,
            "overflow_x": null,
            "overflow_y": null,
            "padding": null,
            "right": null,
            "top": null,
            "visibility": null,
            "width": null
          }
        },
        "6e104b42ec0c4b8cb8d5454b43b4321d": {
          "model_module": "@jupyter-widgets/controls",
          "model_module_version": "1.5.0",
          "model_name": "HBoxModel",
          "state": {
            "_dom_classes": [],
            "_model_module": "@jupyter-widgets/controls",
            "_model_module_version": "1.5.0",
            "_model_name": "HBoxModel",
            "_view_count": null,
            "_view_module": "@jupyter-widgets/controls",
            "_view_module_version": "1.5.0",
            "_view_name": "HBoxView",
            "box_style": "",
            "children": [
              "IPY_MODEL_42cc9bd217e94dd89f07e92e1631f3b1",
              "IPY_MODEL_309ef583f7e448e48fe660c6f33c769f",
              "IPY_MODEL_0de9e8b82bba473fadb381a3348575f6"
            ],
            "layout": "IPY_MODEL_a8e8d4693f1b4aa880dfe43e63975dce"
          }
        },
        "71fe7e80fd8445508471582c552f8752": {
          "model_module": "@jupyter-widgets/controls",
          "model_module_version": "1.5.0",
          "model_name": "DescriptionStyleModel",
          "state": {
            "_model_module": "@jupyter-widgets/controls",
            "_model_module_version": "1.5.0",
            "_model_name": "DescriptionStyleModel",
            "_view_count": null,
            "_view_module": "@jupyter-widgets/base",
            "_view_module_version": "1.2.0",
            "_view_name": "StyleView",
            "description_width": ""
          }
        },
        "7224721bd60141bdbc75e6600aa740c3": {
          "model_module": "@jupyter-widgets/controls",
          "model_module_version": "1.5.0",
          "model_name": "ProgressStyleModel",
          "state": {
            "_model_module": "@jupyter-widgets/controls",
            "_model_module_version": "1.5.0",
            "_model_name": "ProgressStyleModel",
            "_view_count": null,
            "_view_module": "@jupyter-widgets/base",
            "_view_module_version": "1.2.0",
            "_view_name": "StyleView",
            "bar_color": null,
            "description_width": ""
          }
        },
        "733312e05ec248288a2928aefb23a35b": {
          "model_module": "@jupyter-widgets/controls",
          "model_module_version": "1.5.0",
          "model_name": "ProgressStyleModel",
          "state": {
            "_model_module": "@jupyter-widgets/controls",
            "_model_module_version": "1.5.0",
            "_model_name": "ProgressStyleModel",
            "_view_count": null,
            "_view_module": "@jupyter-widgets/base",
            "_view_module_version": "1.2.0",
            "_view_name": "StyleView",
            "bar_color": null,
            "description_width": ""
          }
        },
        "760ec8f89de64eedac15c5468c217bd9": {
          "model_module": "@jupyter-widgets/controls",
          "model_module_version": "1.5.0",
          "model_name": "HBoxModel",
          "state": {
            "_dom_classes": [],
            "_model_module": "@jupyter-widgets/controls",
            "_model_module_version": "1.5.0",
            "_model_name": "HBoxModel",
            "_view_count": null,
            "_view_module": "@jupyter-widgets/controls",
            "_view_module_version": "1.5.0",
            "_view_name": "HBoxView",
            "box_style": "",
            "children": [
              "IPY_MODEL_b50cd230566842969dc2fe602bb38fb2",
              "IPY_MODEL_eafef009badf450e99e680435b0297e8",
              "IPY_MODEL_127e13cdc8f14bf08d41f3c08fbc489d"
            ],
            "layout": "IPY_MODEL_2bf18a9942c74330814bc941e8352623"
          }
        },
        "77363e7ff1744226aa61500dd5c187e1": {
          "model_module": "@jupyter-widgets/controls",
          "model_module_version": "1.5.0",
          "model_name": "DescriptionStyleModel",
          "state": {
            "_model_module": "@jupyter-widgets/controls",
            "_model_module_version": "1.5.0",
            "_model_name": "DescriptionStyleModel",
            "_view_count": null,
            "_view_module": "@jupyter-widgets/base",
            "_view_module_version": "1.2.0",
            "_view_name": "StyleView",
            "description_width": ""
          }
        },
        "7cfb7ab6aae04821b36a7a96773df795": {
          "model_module": "@jupyter-widgets/controls",
          "model_module_version": "1.5.0",
          "model_name": "HTMLModel",
          "state": {
            "_dom_classes": [],
            "_model_module": "@jupyter-widgets/controls",
            "_model_module_version": "1.5.0",
            "_model_name": "HTMLModel",
            "_view_count": null,
            "_view_module": "@jupyter-widgets/controls",
            "_view_module_version": "1.5.0",
            "_view_name": "HTMLView",
            "description": "",
            "description_tooltip": null,
            "layout": "IPY_MODEL_204505310296460bb12cc15d7153dc70",
            "placeholder": "​",
            "style": "IPY_MODEL_77363e7ff1744226aa61500dd5c187e1",
            "value": "README.md: "
          }
        },
        "7da3e5cd8a614ad29ac86dbb3eea72e4": {
          "model_module": "@jupyter-widgets/controls",
          "model_module_version": "1.5.0",
          "model_name": "DescriptionStyleModel",
          "state": {
            "_model_module": "@jupyter-widgets/controls",
            "_model_module_version": "1.5.0",
            "_model_name": "DescriptionStyleModel",
            "_view_count": null,
            "_view_module": "@jupyter-widgets/base",
            "_view_module_version": "1.2.0",
            "_view_name": "StyleView",
            "description_width": ""
          }
        },
        "865943fca3894dbe8b472038c4e4d7dc": {
          "model_module": "@jupyter-widgets/controls",
          "model_module_version": "1.5.0",
          "model_name": "ProgressStyleModel",
          "state": {
            "_model_module": "@jupyter-widgets/controls",
            "_model_module_version": "1.5.0",
            "_model_name": "ProgressStyleModel",
            "_view_count": null,
            "_view_module": "@jupyter-widgets/base",
            "_view_module_version": "1.2.0",
            "_view_name": "StyleView",
            "bar_color": null,
            "description_width": ""
          }
        },
        "8be59c17d49b482a80c6fc1ecd959ad6": {
          "model_module": "@jupyter-widgets/base",
          "model_module_version": "1.2.0",
          "model_name": "LayoutModel",
          "state": {
            "_model_module": "@jupyter-widgets/base",
            "_model_module_version": "1.2.0",
            "_model_name": "LayoutModel",
            "_view_count": null,
            "_view_module": "@jupyter-widgets/base",
            "_view_module_version": "1.2.0",
            "_view_name": "LayoutView",
            "align_content": null,
            "align_items": null,
            "align_self": null,
            "border": null,
            "bottom": null,
            "display": null,
            "flex": null,
            "flex_flow": null,
            "grid_area": null,
            "grid_auto_columns": null,
            "grid_auto_flow": null,
            "grid_auto_rows": null,
            "grid_column": null,
            "grid_gap": null,
            "grid_row": null,
            "grid_template_areas": null,
            "grid_template_columns": null,
            "grid_template_rows": null,
            "height": null,
            "justify_content": null,
            "justify_items": null,
            "left": null,
            "margin": null,
            "max_height": null,
            "max_width": null,
            "min_height": null,
            "min_width": null,
            "object_fit": null,
            "object_position": null,
            "order": null,
            "overflow": null,
            "overflow_x": null,
            "overflow_y": null,
            "padding": null,
            "right": null,
            "top": null,
            "visibility": null,
            "width": null
          }
        },
        "90807714e9c940439325b28e19e1e6ef": {
          "model_module": "@jupyter-widgets/controls",
          "model_module_version": "1.5.0",
          "model_name": "HTMLModel",
          "state": {
            "_dom_classes": [],
            "_model_module": "@jupyter-widgets/controls",
            "_model_module_version": "1.5.0",
            "_model_name": "HTMLModel",
            "_view_count": null,
            "_view_module": "@jupyter-widgets/controls",
            "_view_module_version": "1.5.0",
            "_view_name": "HTMLView",
            "description": "",
            "description_tooltip": null,
            "layout": "IPY_MODEL_5dd99dbd4401420396faf8ddf955997c",
            "placeholder": "​",
            "style": "IPY_MODEL_37b458e83145432188a06854f97bb798",
            "value": " 1.08M/? [00:00&lt;00:00, 35.9MB/s]"
          }
        },
        "95e9f495b747466cb3c45a9c9d7912c7": {
          "model_module": "@jupyter-widgets/controls",
          "model_module_version": "1.5.0",
          "model_name": "HBoxModel",
          "state": {
            "_dom_classes": [],
            "_model_module": "@jupyter-widgets/controls",
            "_model_module_version": "1.5.0",
            "_model_name": "HBoxModel",
            "_view_count": null,
            "_view_module": "@jupyter-widgets/controls",
            "_view_module_version": "1.5.0",
            "_view_name": "HBoxView",
            "box_style": "",
            "children": [
              "IPY_MODEL_c1f9c06e38394ff3833683b4ac5d020d",
              "IPY_MODEL_3e4ae9d685cb4012a5a02b50c4b2d51f",
              "IPY_MODEL_90807714e9c940439325b28e19e1e6ef"
            ],
            "layout": "IPY_MODEL_a0c7597fdab54799830cebaa365f9dd0"
          }
        },
        "9a92669f339d4ae0ac2a6e2ef054660d": {
          "model_module": "@jupyter-widgets/controls",
          "model_module_version": "1.5.0",
          "model_name": "FloatProgressModel",
          "state": {
            "_dom_classes": [],
            "_model_module": "@jupyter-widgets/controls",
            "_model_module_version": "1.5.0",
            "_model_name": "FloatProgressModel",
            "_view_count": null,
            "_view_module": "@jupyter-widgets/controls",
            "_view_module_version": "1.5.0",
            "_view_name": "ProgressView",
            "bar_style": "success",
            "description": "",
            "description_tooltip": null,
            "layout": "IPY_MODEL_42593f47aff140ddb9a2389f9888dd43",
            "max": 112,
            "min": 0,
            "orientation": "horizontal",
            "style": "IPY_MODEL_865943fca3894dbe8b472038c4e4d7dc",
            "value": 112
          }
        },
        "9d8a46532e9a48679f2113a7653f5188": {
          "model_module": "@jupyter-widgets/controls",
          "model_module_version": "1.5.0",
          "model_name": "HBoxModel",
          "state": {
            "_dom_classes": [],
            "_model_module": "@jupyter-widgets/controls",
            "_model_module_version": "1.5.0",
            "_model_name": "HBoxModel",
            "_view_count": null,
            "_view_module": "@jupyter-widgets/controls",
            "_view_module_version": "1.5.0",
            "_view_name": "HBoxView",
            "box_style": "",
            "children": [
              "IPY_MODEL_7cfb7ab6aae04821b36a7a96773df795",
              "IPY_MODEL_f3bd6ed75f4a4cef94a2c2cee1fad909",
              "IPY_MODEL_564285d20877484d8758771821d2d23f"
            ],
            "layout": "IPY_MODEL_f9ed85a15c9740e493788136340cdf4f"
          }
        },
        "9f016b0cd4b64449bbcd190d5ccf6c45": {
          "model_module": "@jupyter-widgets/controls",
          "model_module_version": "1.5.0",
          "model_name": "FloatProgressModel",
          "state": {
            "_dom_classes": [],
            "_model_module": "@jupyter-widgets/controls",
            "_model_module_version": "1.5.0",
            "_model_name": "FloatProgressModel",
            "_view_count": null,
            "_view_module": "@jupyter-widgets/controls",
            "_view_module_version": "1.5.0",
            "_view_name": "ProgressView",
            "bar_style": "success",
            "description": "",
            "description_tooltip": null,
            "layout": "IPY_MODEL_d534bc42df694ec9b06e016cc3a6ea4f",
            "max": 36591,
            "min": 0,
            "orientation": "horizontal",
            "style": "IPY_MODEL_59fdcac243124524b6a6750997c4fb37",
            "value": 36591
          }
        },
        "a0c7597fdab54799830cebaa365f9dd0": {
          "model_module": "@jupyter-widgets/base",
          "model_module_version": "1.2.0",
          "model_name": "LayoutModel",
          "state": {
            "_model_module": "@jupyter-widgets/base",
            "_model_module_version": "1.2.0",
            "_model_name": "LayoutModel",
            "_view_count": null,
            "_view_module": "@jupyter-widgets/base",
            "_view_module_version": "1.2.0",
            "_view_name": "LayoutView",
            "align_content": null,
            "align_items": null,
            "align_self": null,
            "border": null,
            "bottom": null,
            "display": null,
            "flex": null,
            "flex_flow": null,
            "grid_area": null,
            "grid_auto_columns": null,
            "grid_auto_flow": null,
            "grid_auto_rows": null,
            "grid_column": null,
            "grid_gap": null,
            "grid_row": null,
            "grid_template_areas": null,
            "grid_template_columns": null,
            "grid_template_rows": null,
            "height": null,
            "justify_content": null,
            "justify_items": null,
            "left": null,
            "margin": null,
            "max_height": null,
            "max_width": null,
            "min_height": null,
            "min_width": null,
            "object_fit": null,
            "object_position": null,
            "order": null,
            "overflow": null,
            "overflow_x": null,
            "overflow_y": null,
            "padding": null,
            "right": null,
            "top": null,
            "visibility": null,
            "width": null
          }
        },
        "a149882b47664d908d64db9ea91faeff": {
          "model_module": "@jupyter-widgets/controls",
          "model_module_version": "1.5.0",
          "model_name": "HTMLModel",
          "state": {
            "_dom_classes": [],
            "_model_module": "@jupyter-widgets/controls",
            "_model_module_version": "1.5.0",
            "_model_name": "HTMLModel",
            "_view_count": null,
            "_view_module": "@jupyter-widgets/controls",
            "_view_module_version": "1.5.0",
            "_view_name": "HTMLView",
            "description": "",
            "description_tooltip": null,
            "layout": "IPY_MODEL_64012d237cf04d7785766851910b7f28",
            "placeholder": "​",
            "style": "IPY_MODEL_fd6b3038edc84e99bf982bfd2c0d5e6e",
            "value": "Generating train split: 100%"
          }
        },
        "a62b4db9389e4814aea83c543e9da8db": {
          "model_module": "@jupyter-widgets/controls",
          "model_module_version": "1.5.0",
          "model_name": "HBoxModel",
          "state": {
            "_dom_classes": [],
            "_model_module": "@jupyter-widgets/controls",
            "_model_module_version": "1.5.0",
            "_model_name": "HBoxModel",
            "_view_count": null,
            "_view_module": "@jupyter-widgets/controls",
            "_view_module_version": "1.5.0",
            "_view_name": "HBoxView",
            "box_style": "",
            "children": [
              "IPY_MODEL_a149882b47664d908d64db9ea91faeff",
              "IPY_MODEL_9f016b0cd4b64449bbcd190d5ccf6c45",
              "IPY_MODEL_e66efb9334164a94ae9109f74043a17a"
            ],
            "layout": "IPY_MODEL_342a4bc83fa84c7a9ab7849da2c76b33"
          }
        },
        "a8e8d4693f1b4aa880dfe43e63975dce": {
          "model_module": "@jupyter-widgets/base",
          "model_module_version": "1.2.0",
          "model_name": "LayoutModel",
          "state": {
            "_model_module": "@jupyter-widgets/base",
            "_model_module_version": "1.2.0",
            "_model_name": "LayoutModel",
            "_view_count": null,
            "_view_module": "@jupyter-widgets/base",
            "_view_module_version": "1.2.0",
            "_view_name": "LayoutView",
            "align_content": null,
            "align_items": null,
            "align_self": null,
            "border": null,
            "bottom": null,
            "display": null,
            "flex": null,
            "flex_flow": null,
            "grid_area": null,
            "grid_auto_columns": null,
            "grid_auto_flow": null,
            "grid_auto_rows": null,
            "grid_column": null,
            "grid_gap": null,
            "grid_row": null,
            "grid_template_areas": null,
            "grid_template_columns": null,
            "grid_template_rows": null,
            "height": null,
            "justify_content": null,
            "justify_items": null,
            "left": null,
            "margin": null,
            "max_height": null,
            "max_width": null,
            "min_height": null,
            "min_width": null,
            "object_fit": null,
            "object_position": null,
            "order": null,
            "overflow": null,
            "overflow_x": null,
            "overflow_y": null,
            "padding": null,
            "right": null,
            "top": null,
            "visibility": null,
            "width": null
          }
        },
        "b3f833ae664a4f728eeedff75c0710a1": {
          "model_module": "@jupyter-widgets/controls",
          "model_module_version": "1.5.0",
          "model_name": "DescriptionStyleModel",
          "state": {
            "_model_module": "@jupyter-widgets/controls",
            "_model_module_version": "1.5.0",
            "_model_name": "DescriptionStyleModel",
            "_view_count": null,
            "_view_module": "@jupyter-widgets/base",
            "_view_module_version": "1.2.0",
            "_view_name": "StyleView",
            "description_width": ""
          }
        },
        "b4ce1e93305a4ae799ccf3e5d2667c81": {
          "model_module": "@jupyter-widgets/controls",
          "model_module_version": "1.5.0",
          "model_name": "DescriptionStyleModel",
          "state": {
            "_model_module": "@jupyter-widgets/controls",
            "_model_module_version": "1.5.0",
            "_model_name": "DescriptionStyleModel",
            "_view_count": null,
            "_view_module": "@jupyter-widgets/base",
            "_view_module_version": "1.2.0",
            "_view_name": "StyleView",
            "description_width": ""
          }
        },
        "b50cd230566842969dc2fe602bb38fb2": {
          "model_module": "@jupyter-widgets/controls",
          "model_module_version": "1.5.0",
          "model_name": "HTMLModel",
          "state": {
            "_dom_classes": [],
            "_model_module": "@jupyter-widgets/controls",
            "_model_module_version": "1.5.0",
            "_model_name": "HTMLModel",
            "_view_count": null,
            "_view_module": "@jupyter-widgets/controls",
            "_view_module_version": "1.5.0",
            "_view_name": "HTMLView",
            "description": "",
            "description_tooltip": null,
            "layout": "IPY_MODEL_085c6f277bc64ccd997eacab483dd0f1",
            "placeholder": "​",
            "style": "IPY_MODEL_b4ce1e93305a4ae799ccf3e5d2667c81",
            "value": "Map: 100%"
          }
        },
        "b557598a96e74ed4a9c9bb5dfa23ddfd": {
          "model_module": "@jupyter-widgets/controls",
          "model_module_version": "1.5.0",
          "model_name": "HTMLModel",
          "state": {
            "_dom_classes": [],
            "_model_module": "@jupyter-widgets/controls",
            "_model_module_version": "1.5.0",
            "_model_name": "HTMLModel",
            "_view_count": null,
            "_view_module": "@jupyter-widgets/controls",
            "_view_module_version": "1.5.0",
            "_view_name": "HTMLView",
            "description": "",
            "description_tooltip": null,
            "layout": "IPY_MODEL_25b12810138a4171b30701dde444e971",
            "placeholder": "​",
            "style": "IPY_MODEL_0eb6948ae15242dca4b226bb5020a3e4",
            "value": "special_tokens_map.json: 100%"
          }
        },
        "ba88524fdb584401ae3284c0a95b22d5": {
          "model_module": "@jupyter-widgets/controls",
          "model_module_version": "1.5.0",
          "model_name": "ProgressStyleModel",
          "state": {
            "_model_module": "@jupyter-widgets/controls",
            "_model_module_version": "1.5.0",
            "_model_name": "ProgressStyleModel",
            "_view_count": null,
            "_view_module": "@jupyter-widgets/base",
            "_view_module_version": "1.2.0",
            "_view_name": "StyleView",
            "bar_color": null,
            "description_width": ""
          }
        },
        "c1f9c06e38394ff3833683b4ac5d020d": {
          "model_module": "@jupyter-widgets/controls",
          "model_module_version": "1.5.0",
          "model_name": "HTMLModel",
          "state": {
            "_dom_classes": [],
            "_model_module": "@jupyter-widgets/controls",
            "_model_module_version": "1.5.0",
            "_model_name": "HTMLModel",
            "_view_count": null,
            "_view_module": "@jupyter-widgets/controls",
            "_view_module_version": "1.5.0",
            "_view_name": "HTMLView",
            "description": "",
            "description_tooltip": null,
            "layout": "IPY_MODEL_07ef810f7325468dbd449773a4866979",
            "placeholder": "​",
            "style": "IPY_MODEL_1d1524039ca141f2924d10e44bf8812b",
            "value": "vocab.txt: "
          }
        },
        "c9256b6e54984bdbba6331ef09bb441c": {
          "model_module": "@jupyter-widgets/base",
          "model_module_version": "1.2.0",
          "model_name": "LayoutModel",
          "state": {
            "_model_module": "@jupyter-widgets/base",
            "_model_module_version": "1.2.0",
            "_model_name": "LayoutModel",
            "_view_count": null,
            "_view_module": "@jupyter-widgets/base",
            "_view_module_version": "1.2.0",
            "_view_name": "LayoutView",
            "align_content": null,
            "align_items": null,
            "align_self": null,
            "border": null,
            "bottom": null,
            "display": null,
            "flex": null,
            "flex_flow": null,
            "grid_area": null,
            "grid_auto_columns": null,
            "grid_auto_flow": null,
            "grid_auto_rows": null,
            "grid_column": null,
            "grid_gap": null,
            "grid_row": null,
            "grid_template_areas": null,
            "grid_template_columns": null,
            "grid_template_rows": null,
            "height": null,
            "justify_content": null,
            "justify_items": null,
            "left": null,
            "margin": null,
            "max_height": null,
            "max_width": null,
            "min_height": null,
            "min_width": null,
            "object_fit": null,
            "object_position": null,
            "order": null,
            "overflow": null,
            "overflow_x": null,
            "overflow_y": null,
            "padding": null,
            "right": null,
            "top": null,
            "visibility": null,
            "width": null
          }
        },
        "cfbd7af72d124881b119431636a5159a": {
          "model_module": "@jupyter-widgets/controls",
          "model_module_version": "1.5.0",
          "model_name": "HTMLModel",
          "state": {
            "_dom_classes": [],
            "_model_module": "@jupyter-widgets/controls",
            "_model_module_version": "1.5.0",
            "_model_name": "HTMLModel",
            "_view_count": null,
            "_view_module": "@jupyter-widgets/controls",
            "_view_module_version": "1.5.0",
            "_view_name": "HTMLView",
            "description": "",
            "description_tooltip": null,
            "layout": "IPY_MODEL_6d3312d9a5c643249810f8e1184dc635",
            "placeholder": "​",
            "style": "IPY_MODEL_6484f9f581bf438b83d565b5e08b7457",
            "value": " 143M/143M [00:03&lt;00:00, 41.7MB/s]"
          }
        },
        "d534bc42df694ec9b06e016cc3a6ea4f": {
          "model_module": "@jupyter-widgets/base",
          "model_module_version": "1.2.0",
          "model_name": "LayoutModel",
          "state": {
            "_model_module": "@jupyter-widgets/base",
            "_model_module_version": "1.2.0",
            "_model_name": "LayoutModel",
            "_view_count": null,
            "_view_module": "@jupyter-widgets/base",
            "_view_module_version": "1.2.0",
            "_view_name": "LayoutView",
            "align_content": null,
            "align_items": null,
            "align_self": null,
            "border": null,
            "bottom": null,
            "display": null,
            "flex": null,
            "flex_flow": null,
            "grid_area": null,
            "grid_auto_columns": null,
            "grid_auto_flow": null,
            "grid_auto_rows": null,
            "grid_column": null,
            "grid_gap": null,
            "grid_row": null,
            "grid_template_areas": null,
            "grid_template_columns": null,
            "grid_template_rows": null,
            "height": null,
            "justify_content": null,
            "justify_items": null,
            "left": null,
            "margin": null,
            "max_height": null,
            "max_width": null,
            "min_height": null,
            "min_width": null,
            "object_fit": null,
            "object_position": null,
            "order": null,
            "overflow": null,
            "overflow_x": null,
            "overflow_y": null,
            "padding": null,
            "right": null,
            "top": null,
            "visibility": null,
            "width": null
          }
        },
        "dbd1f16af61043758f4759c279a9cb4a": {
          "model_module": "@jupyter-widgets/base",
          "model_module_version": "1.2.0",
          "model_name": "LayoutModel",
          "state": {
            "_model_module": "@jupyter-widgets/base",
            "_model_module_version": "1.2.0",
            "_model_name": "LayoutModel",
            "_view_count": null,
            "_view_module": "@jupyter-widgets/base",
            "_view_module_version": "1.2.0",
            "_view_name": "LayoutView",
            "align_content": null,
            "align_items": null,
            "align_self": null,
            "border": null,
            "bottom": null,
            "display": null,
            "flex": null,
            "flex_flow": null,
            "grid_area": null,
            "grid_auto_columns": null,
            "grid_auto_flow": null,
            "grid_auto_rows": null,
            "grid_column": null,
            "grid_gap": null,
            "grid_row": null,
            "grid_template_areas": null,
            "grid_template_columns": null,
            "grid_template_rows": null,
            "height": null,
            "justify_content": null,
            "justify_items": null,
            "left": null,
            "margin": null,
            "max_height": null,
            "max_width": null,
            "min_height": null,
            "min_width": null,
            "object_fit": null,
            "object_position": null,
            "order": null,
            "overflow": null,
            "overflow_x": null,
            "overflow_y": null,
            "padding": null,
            "right": null,
            "top": null,
            "visibility": null,
            "width": null
          }
        },
        "dd35a545923446f5a7d7e532048a2fa4": {
          "model_module": "@jupyter-widgets/controls",
          "model_module_version": "1.5.0",
          "model_name": "ProgressStyleModel",
          "state": {
            "_model_module": "@jupyter-widgets/controls",
            "_model_module_version": "1.5.0",
            "_model_name": "ProgressStyleModel",
            "_view_count": null,
            "_view_module": "@jupyter-widgets/base",
            "_view_module_version": "1.2.0",
            "_view_name": "StyleView",
            "bar_color": null,
            "description_width": ""
          }
        },
        "ded4dab41a7644e89a77940c5b53e8a3": {
          "model_module": "@jupyter-widgets/controls",
          "model_module_version": "1.5.0",
          "model_name": "HBoxModel",
          "state": {
            "_dom_classes": [],
            "_model_module": "@jupyter-widgets/controls",
            "_model_module_version": "1.5.0",
            "_model_name": "HBoxModel",
            "_view_count": null,
            "_view_module": "@jupyter-widgets/controls",
            "_view_module_version": "1.5.0",
            "_view_name": "HBoxView",
            "box_style": "",
            "children": [
              "IPY_MODEL_2d3beebbe1b943c9afa2f94f78b20696",
              "IPY_MODEL_45048ff087714a53a9dd8ed4479f7865",
              "IPY_MODEL_2b9b2580a4674791b48958e0fabb12ef"
            ],
            "layout": "IPY_MODEL_f1e2ae535ab44da1a8364d921d20df08"
          }
        },
        "e1f89b97f0364545b3ed2ff2e2ebc3e8": {
          "model_module": "@jupyter-widgets/base",
          "model_module_version": "1.2.0",
          "model_name": "LayoutModel",
          "state": {
            "_model_module": "@jupyter-widgets/base",
            "_model_module_version": "1.2.0",
            "_model_name": "LayoutModel",
            "_view_count": null,
            "_view_module": "@jupyter-widgets/base",
            "_view_module_version": "1.2.0",
            "_view_name": "LayoutView",
            "align_content": null,
            "align_items": null,
            "align_self": null,
            "border": null,
            "bottom": null,
            "display": null,
            "flex": null,
            "flex_flow": null,
            "grid_area": null,
            "grid_auto_columns": null,
            "grid_auto_flow": null,
            "grid_auto_rows": null,
            "grid_column": null,
            "grid_gap": null,
            "grid_row": null,
            "grid_template_areas": null,
            "grid_template_columns": null,
            "grid_template_rows": null,
            "height": null,
            "justify_content": null,
            "justify_items": null,
            "left": null,
            "margin": null,
            "max_height": null,
            "max_width": null,
            "min_height": null,
            "min_width": null,
            "object_fit": null,
            "object_position": null,
            "order": null,
            "overflow": null,
            "overflow_x": null,
            "overflow_y": null,
            "padding": null,
            "right": null,
            "top": null,
            "visibility": null,
            "width": null
          }
        },
        "e4f2e8f94adf4822a76d856207da98bc": {
          "model_module": "@jupyter-widgets/controls",
          "model_module_version": "1.5.0",
          "model_name": "DescriptionStyleModel",
          "state": {
            "_model_module": "@jupyter-widgets/controls",
            "_model_module_version": "1.5.0",
            "_model_name": "DescriptionStyleModel",
            "_view_count": null,
            "_view_module": "@jupyter-widgets/base",
            "_view_module_version": "1.2.0",
            "_view_name": "StyleView",
            "description_width": ""
          }
        },
        "e66efb9334164a94ae9109f74043a17a": {
          "model_module": "@jupyter-widgets/controls",
          "model_module_version": "1.5.0",
          "model_name": "HTMLModel",
          "state": {
            "_dom_classes": [],
            "_model_module": "@jupyter-widgets/controls",
            "_model_module_version": "1.5.0",
            "_model_name": "HTMLModel",
            "_view_count": null,
            "_view_module": "@jupyter-widgets/controls",
            "_view_module_version": "1.5.0",
            "_view_name": "HTMLView",
            "description": "",
            "description_tooltip": null,
            "layout": "IPY_MODEL_6795039a30a74348bf6cb096de50d455",
            "placeholder": "​",
            "style": "IPY_MODEL_6ab0269442df45b4a2dff06bcc91f246",
            "value": " 36591/36591 [00:05&lt;00:00, 5724.41 examples/s]"
          }
        },
        "eafef009badf450e99e680435b0297e8": {
          "model_module": "@jupyter-widgets/controls",
          "model_module_version": "1.5.0",
          "model_name": "FloatProgressModel",
          "state": {
            "_dom_classes": [],
            "_model_module": "@jupyter-widgets/controls",
            "_model_module_version": "1.5.0",
            "_model_name": "FloatProgressModel",
            "_view_count": null,
            "_view_module": "@jupyter-widgets/controls",
            "_view_module_version": "1.5.0",
            "_view_name": "ProgressView",
            "bar_style": "success",
            "description": "",
            "description_tooltip": null,
            "layout": "IPY_MODEL_e1f89b97f0364545b3ed2ff2e2ebc3e8",
            "max": 36591,
            "min": 0,
            "orientation": "horizontal",
            "style": "IPY_MODEL_3c1867fa704c441a98d8ef4f19b48030",
            "value": 36591
          }
        },
        "ebefc08a679e4dbdb52bdc88462869ef": {
          "model_module": "@jupyter-widgets/controls",
          "model_module_version": "1.5.0",
          "model_name": "DescriptionStyleModel",
          "state": {
            "_model_module": "@jupyter-widgets/controls",
            "_model_module_version": "1.5.0",
            "_model_name": "DescriptionStyleModel",
            "_view_count": null,
            "_view_module": "@jupyter-widgets/base",
            "_view_module_version": "1.2.0",
            "_view_name": "StyleView",
            "description_width": ""
          }
        },
        "f1e2ae535ab44da1a8364d921d20df08": {
          "model_module": "@jupyter-widgets/base",
          "model_module_version": "1.2.0",
          "model_name": "LayoutModel",
          "state": {
            "_model_module": "@jupyter-widgets/base",
            "_model_module_version": "1.2.0",
            "_model_name": "LayoutModel",
            "_view_count": null,
            "_view_module": "@jupyter-widgets/base",
            "_view_module_version": "1.2.0",
            "_view_name": "LayoutView",
            "align_content": null,
            "align_items": null,
            "align_self": null,
            "border": null,
            "bottom": null,
            "display": null,
            "flex": null,
            "flex_flow": null,
            "grid_area": null,
            "grid_auto_columns": null,
            "grid_auto_flow": null,
            "grid_auto_rows": null,
            "grid_column": null,
            "grid_gap": null,
            "grid_row": null,
            "grid_template_areas": null,
            "grid_template_columns": null,
            "grid_template_rows": null,
            "height": null,
            "justify_content": null,
            "justify_items": null,
            "left": null,
            "margin": null,
            "max_height": null,
            "max_width": null,
            "min_height": null,
            "min_width": null,
            "object_fit": null,
            "object_position": null,
            "order": null,
            "overflow": null,
            "overflow_x": null,
            "overflow_y": null,
            "padding": null,
            "right": null,
            "top": null,
            "visibility": null,
            "width": null
          }
        },
        "f3bd6ed75f4a4cef94a2c2cee1fad909": {
          "model_module": "@jupyter-widgets/controls",
          "model_module_version": "1.5.0",
          "model_name": "FloatProgressModel",
          "state": {
            "_dom_classes": [],
            "_model_module": "@jupyter-widgets/controls",
            "_model_module_version": "1.5.0",
            "_model_name": "FloatProgressModel",
            "_view_count": null,
            "_view_module": "@jupyter-widgets/controls",
            "_view_module_version": "1.5.0",
            "_view_name": "ProgressView",
            "bar_style": "success",
            "description": "",
            "description_tooltip": null,
            "layout": "IPY_MODEL_4fb4708c4a76455fa662b86c22500280",
            "max": 1,
            "min": 0,
            "orientation": "horizontal",
            "style": "IPY_MODEL_7224721bd60141bdbc75e6600aa740c3",
            "value": 1
          }
        },
        "f4bd8c3bacb34675a8686be0c6215c2e": {
          "model_module": "@jupyter-widgets/base",
          "model_module_version": "1.2.0",
          "model_name": "LayoutModel",
          "state": {
            "_model_module": "@jupyter-widgets/base",
            "_model_module_version": "1.2.0",
            "_model_name": "LayoutModel",
            "_view_count": null,
            "_view_module": "@jupyter-widgets/base",
            "_view_module_version": "1.2.0",
            "_view_name": "LayoutView",
            "align_content": null,
            "align_items": null,
            "align_self": null,
            "border": null,
            "bottom": null,
            "display": null,
            "flex": null,
            "flex_flow": null,
            "grid_area": null,
            "grid_auto_columns": null,
            "grid_auto_flow": null,
            "grid_auto_rows": null,
            "grid_column": null,
            "grid_gap": null,
            "grid_row": null,
            "grid_template_areas": null,
            "grid_template_columns": null,
            "grid_template_rows": null,
            "height": null,
            "justify_content": null,
            "justify_items": null,
            "left": null,
            "margin": null,
            "max_height": null,
            "max_width": null,
            "min_height": null,
            "min_width": null,
            "object_fit": null,
            "object_position": null,
            "order": null,
            "overflow": null,
            "overflow_x": null,
            "overflow_y": null,
            "padding": null,
            "right": null,
            "top": null,
            "visibility": null,
            "width": null
          }
        },
        "f4bf3faff4944e78af901d8df6c9d133": {
          "model_module": "@jupyter-widgets/base",
          "model_module_version": "1.2.0",
          "model_name": "LayoutModel",
          "state": {
            "_model_module": "@jupyter-widgets/base",
            "_model_module_version": "1.2.0",
            "_model_name": "LayoutModel",
            "_view_count": null,
            "_view_module": "@jupyter-widgets/base",
            "_view_module_version": "1.2.0",
            "_view_name": "LayoutView",
            "align_content": null,
            "align_items": null,
            "align_self": null,
            "border": null,
            "bottom": null,
            "display": null,
            "flex": null,
            "flex_flow": null,
            "grid_area": null,
            "grid_auto_columns": null,
            "grid_auto_flow": null,
            "grid_auto_rows": null,
            "grid_column": null,
            "grid_gap": null,
            "grid_row": null,
            "grid_template_areas": null,
            "grid_template_columns": null,
            "grid_template_rows": null,
            "height": null,
            "justify_content": null,
            "justify_items": null,
            "left": null,
            "margin": null,
            "max_height": null,
            "max_width": null,
            "min_height": null,
            "min_width": null,
            "object_fit": null,
            "object_position": null,
            "order": null,
            "overflow": null,
            "overflow_x": null,
            "overflow_y": null,
            "padding": null,
            "right": null,
            "top": null,
            "visibility": null,
            "width": null
          }
        },
        "f8c5c93946d74b83981fe5e25a369374": {
          "model_module": "@jupyter-widgets/controls",
          "model_module_version": "1.5.0",
          "model_name": "HTMLModel",
          "state": {
            "_dom_classes": [],
            "_model_module": "@jupyter-widgets/controls",
            "_model_module_version": "1.5.0",
            "_model_name": "HTMLModel",
            "_view_count": null,
            "_view_module": "@jupyter-widgets/controls",
            "_view_module_version": "1.5.0",
            "_view_name": "HTMLView",
            "description": "",
            "description_tooltip": null,
            "layout": "IPY_MODEL_4c6c4d8563514054853de6112bda4a03",
            "placeholder": "​",
            "style": "IPY_MODEL_ebefc08a679e4dbdb52bdc88462869ef",
            "value": "kinopoisk.jsonl: 100%"
          }
        },
        "f908d5cbd31345d986d9d1187ddb1d29": {
          "model_module": "@jupyter-widgets/controls",
          "model_module_version": "1.5.0",
          "model_name": "ProgressStyleModel",
          "state": {
            "_model_module": "@jupyter-widgets/controls",
            "_model_module_version": "1.5.0",
            "_model_name": "ProgressStyleModel",
            "_view_count": null,
            "_view_module": "@jupyter-widgets/base",
            "_view_module_version": "1.2.0",
            "_view_name": "StyleView",
            "bar_color": null,
            "description_width": ""
          }
        },
        "f9a2e72eeb0e43d38c4ddab7ccc75859": {
          "model_module": "@jupyter-widgets/base",
          "model_module_version": "1.2.0",
          "model_name": "LayoutModel",
          "state": {
            "_model_module": "@jupyter-widgets/base",
            "_model_module_version": "1.2.0",
            "_model_name": "LayoutModel",
            "_view_count": null,
            "_view_module": "@jupyter-widgets/base",
            "_view_module_version": "1.2.0",
            "_view_name": "LayoutView",
            "align_content": null,
            "align_items": null,
            "align_self": null,
            "border": null,
            "bottom": null,
            "display": null,
            "flex": null,
            "flex_flow": null,
            "grid_area": null,
            "grid_auto_columns": null,
            "grid_auto_flow": null,
            "grid_auto_rows": null,
            "grid_column": null,
            "grid_gap": null,
            "grid_row": null,
            "grid_template_areas": null,
            "grid_template_columns": null,
            "grid_template_rows": null,
            "height": null,
            "justify_content": null,
            "justify_items": null,
            "left": null,
            "margin": null,
            "max_height": null,
            "max_width": null,
            "min_height": null,
            "min_width": null,
            "object_fit": null,
            "object_position": null,
            "order": null,
            "overflow": null,
            "overflow_x": null,
            "overflow_y": null,
            "padding": null,
            "right": null,
            "top": null,
            "visibility": null,
            "width": null
          }
        },
        "f9ed85a15c9740e493788136340cdf4f": {
          "model_module": "@jupyter-widgets/base",
          "model_module_version": "1.2.0",
          "model_name": "LayoutModel",
          "state": {
            "_model_module": "@jupyter-widgets/base",
            "_model_module_version": "1.2.0",
            "_model_name": "LayoutModel",
            "_view_count": null,
            "_view_module": "@jupyter-widgets/base",
            "_view_module_version": "1.2.0",
            "_view_name": "LayoutView",
            "align_content": null,
            "align_items": null,
            "align_self": null,
            "border": null,
            "bottom": null,
            "display": null,
            "flex": null,
            "flex_flow": null,
            "grid_area": null,
            "grid_auto_columns": null,
            "grid_auto_flow": null,
            "grid_auto_rows": null,
            "grid_column": null,
            "grid_gap": null,
            "grid_row": null,
            "grid_template_areas": null,
            "grid_template_columns": null,
            "grid_template_rows": null,
            "height": null,
            "justify_content": null,
            "justify_items": null,
            "left": null,
            "margin": null,
            "max_height": null,
            "max_width": null,
            "min_height": null,
            "min_width": null,
            "object_fit": null,
            "object_position": null,
            "order": null,
            "overflow": null,
            "overflow_x": null,
            "overflow_y": null,
            "padding": null,
            "right": null,
            "top": null,
            "visibility": null,
            "width": null
          }
        },
        "fd6b3038edc84e99bf982bfd2c0d5e6e": {
          "model_module": "@jupyter-widgets/controls",
          "model_module_version": "1.5.0",
          "model_name": "DescriptionStyleModel",
          "state": {
            "_model_module": "@jupyter-widgets/controls",
            "_model_module_version": "1.5.0",
            "_model_name": "DescriptionStyleModel",
            "_view_count": null,
            "_view_module": "@jupyter-widgets/base",
            "_view_module_version": "1.2.0",
            "_view_name": "StyleView",
            "description_width": ""
          }
        },
        "fdc03541c3b742188ceb721e11f8ce6b": {
          "model_module": "@jupyter-widgets/controls",
          "model_module_version": "1.5.0",
          "model_name": "FloatProgressModel",
          "state": {
            "_dom_classes": [],
            "_model_module": "@jupyter-widgets/controls",
            "_model_module_version": "1.5.0",
            "_model_name": "FloatProgressModel",
            "_view_count": null,
            "_view_module": "@jupyter-widgets/controls",
            "_view_module_version": "1.5.0",
            "_view_name": "ProgressView",
            "bar_style": "success",
            "description": "",
            "description_tooltip": null,
            "layout": "IPY_MODEL_07aa85a53a134cdb9053f35ee4fda66f",
            "max": 142508585,
            "min": 0,
            "orientation": "horizontal",
            "style": "IPY_MODEL_f908d5cbd31345d986d9d1187ddb1d29",
            "value": 142508585
          }
        }
      }
    }
  },
  "nbformat": 4,
  "nbformat_minor": 0
}
